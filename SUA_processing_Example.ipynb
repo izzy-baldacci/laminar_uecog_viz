{
 "cells": [
  {
   "cell_type": "markdown",
   "metadata": {},
   "source": [
    "# Single unit processing RVG16_B06"
   ]
  },
  {
   "cell_type": "markdown",
   "metadata": {},
   "source": [
    "This notebook utilizes functions from SUA plot to plot single unit raster plots, histograms, and density plots to study the spike times for a single unit by trials "
   ]
  },
  {
   "cell_type": "markdown",
   "metadata": {},
   "source": [
    "# Stimulus Information and Trials Tables"
   ]
  },
  {
   "cell_type": "code",
   "execution_count": 22,
   "metadata": {},
   "outputs": [],
   "source": [
    "from pynwb import NWBFile, NWBHDF5IO, TimeSeries\n",
    "import datetime\n",
    "from datascience import*\n",
    "import spikeinterface\n",
    "import spikeinterface.extractors as se\n",
    "import spikeinterface.toolkit as st\n",
    "import spikeinterface.sorters as ss\n",
    "import spikeinterface.comparison as sc\n",
    "import spikeinterface.widgets as sw \n",
    "#from spikeinterface import WaveformExtractor, extract_waveforms\n",
    "#from only_waveviz_official import *\n",
    "from datascience import*\n",
    "\n",
    "#other imports\n",
    "import matplotlib.pylab as plt\n",
    "import numpy as np\n",
    "import pynwb as py\n",
    "import scipy as sp\n",
    "import pandas as pd\n",
    "import warnings\n",
    "\n",
    "%matplotlib inline\n",
    "warnings.simplefilter('ignore')"
   ]
  },
  {
   "cell_type": "code",
   "execution_count": 4,
   "metadata": {},
   "outputs": [],
   "source": [
    "from SUA_plot import SUA_plot as SUA"
   ]
  },
  {
   "cell_type": "markdown",
   "metadata": {},
   "source": [
    "### Checking out the file\n",
    "\n",
    "If you want to check out your NWB, the following cells allow you to do that. The more important part of this is loading the trials table, which will be used for analysis later. The cell where the table is loaded also has the command for saving the trials tabel as a csv if you would rather load the trials that way next time. "
   ]
  },
  {
   "cell_type": "code",
   "execution_count": 20,
   "metadata": {},
   "outputs": [],
   "source": [
    "file_path = '/Users/macproizzy/Desktop/RVG16/RVG16_B06.nwb'"
   ]
  },
  {
   "cell_type": "code",
   "execution_count": 21,
   "metadata": {
    "scrolled": false
   },
   "outputs": [
    {
     "data": {
      "text/plain": [
       "Poly pynwb.ecephys.ElectricalSeries at 0x140524414505888\n",
       "Fields:\n",
       "  conversion: 1.0\n",
       "  data: <HDF5 dataset \"data\": shape (35729408, 64), type \"<f4\">\n",
       "  description: This is an acute rat experiment. Auditory stimuli are played to an anesthsized rat and electrophysiological measurements are made auditory cortex. Recordings from Poly sampled at 24414.062500 Hz.\n",
       "  electrodes: electrodes <class 'hdmf.common.table.DynamicTableRegion'>\n",
       "  rate: 24414.0625\n",
       "  resolution: -1.0\n",
       "  starting_time: 0.0\n",
       "  starting_time_unit: seconds\n",
       "  unit: volts"
      ]
     },
     "execution_count": 21,
     "metadata": {},
     "output_type": "execute_result"
    }
   ],
   "source": [
    "#check the NWB\n",
    "io = NWBHDF5IO(file_path, 'r')\n",
    "nwbfile_in = io.read()\n",
    "nwbfile_in.acquisition['Poly']"
   ]
  },
  {
   "cell_type": "code",
   "execution_count": 7,
   "metadata": {
    "scrolled": false
   },
   "outputs": [],
   "source": [
    "#either this command or nwbfile_in.trials.to_dataframe() works \n",
    "trials_pds = nwbfile_in.intervals['trials'].to_dataframe()\n",
    "#trials_pds.to_csv(path_or_buf = 'trials_tableRVG16.csv')"
   ]
  },
  {
   "cell_type": "code",
   "execution_count": 8,
   "metadata": {
    "scrolled": true
   },
   "outputs": [
    {
     "data": {
      "text/html": [
       "<div>\n",
       "<style scoped>\n",
       "    .dataframe tbody tr th:only-of-type {\n",
       "        vertical-align: middle;\n",
       "    }\n",
       "\n",
       "    .dataframe tbody tr th {\n",
       "        vertical-align: top;\n",
       "    }\n",
       "\n",
       "    .dataframe thead th {\n",
       "        text-align: right;\n",
       "    }\n",
       "</style>\n",
       "<table border=\"1\" class=\"dataframe\">\n",
       "  <thead>\n",
       "    <tr style=\"text-align: right;\">\n",
       "      <th></th>\n",
       "      <th>start_time</th>\n",
       "      <th>stop_time</th>\n",
       "      <th>sb</th>\n",
       "      <th>frq</th>\n",
       "      <th>amp</th>\n",
       "    </tr>\n",
       "    <tr>\n",
       "      <th>id</th>\n",
       "      <th></th>\n",
       "      <th></th>\n",
       "      <th></th>\n",
       "      <th></th>\n",
       "      <th></th>\n",
       "    </tr>\n",
       "  </thead>\n",
       "  <tbody>\n",
       "    <tr>\n",
       "      <th>0</th>\n",
       "      <td>0.000000</td>\n",
       "      <td>17.175892</td>\n",
       "      <td>b</td>\n",
       "      <td>1182.0</td>\n",
       "      <td>1.0</td>\n",
       "    </tr>\n",
       "    <tr>\n",
       "      <th>1</th>\n",
       "      <td>17.225892</td>\n",
       "      <td>17.275892</td>\n",
       "      <td>s</td>\n",
       "      <td>1182</td>\n",
       "      <td>1</td>\n",
       "    </tr>\n",
       "    <tr>\n",
       "      <th>2</th>\n",
       "      <td>17.325892</td>\n",
       "      <td>17.405892</td>\n",
       "      <td>b</td>\n",
       "      <td>1182</td>\n",
       "      <td>1</td>\n",
       "    </tr>\n",
       "    <tr>\n",
       "      <th>3</th>\n",
       "      <td>17.525883</td>\n",
       "      <td>17.575883</td>\n",
       "      <td>s</td>\n",
       "      <td>32000</td>\n",
       "      <td>7</td>\n",
       "    </tr>\n",
       "    <tr>\n",
       "      <th>4</th>\n",
       "      <td>17.625883</td>\n",
       "      <td>17.705883</td>\n",
       "      <td>b</td>\n",
       "      <td>32000</td>\n",
       "      <td>7</td>\n",
       "    </tr>\n",
       "    <tr>\n",
       "      <th>...</th>\n",
       "      <td>...</td>\n",
       "      <td>...</td>\n",
       "      <td>...</td>\n",
       "      <td>...</td>\n",
       "      <td>...</td>\n",
       "    </tr>\n",
       "    <tr>\n",
       "      <th>9597</th>\n",
       "      <td>1456.633446</td>\n",
       "      <td>1456.683446</td>\n",
       "      <td>s</td>\n",
       "      <td>769</td>\n",
       "      <td>2</td>\n",
       "    </tr>\n",
       "    <tr>\n",
       "      <th>9598</th>\n",
       "      <td>1456.733446</td>\n",
       "      <td>1456.813446</td>\n",
       "      <td>b</td>\n",
       "      <td>769</td>\n",
       "      <td>2</td>\n",
       "    </tr>\n",
       "    <tr>\n",
       "      <th>9599</th>\n",
       "      <td>1456.933437</td>\n",
       "      <td>1456.983437</td>\n",
       "      <td>s</td>\n",
       "      <td>13535</td>\n",
       "      <td>4</td>\n",
       "    </tr>\n",
       "    <tr>\n",
       "      <th>9600</th>\n",
       "      <td>1457.033437</td>\n",
       "      <td>1457.113437</td>\n",
       "      <td>b</td>\n",
       "      <td>13535</td>\n",
       "      <td>4</td>\n",
       "    </tr>\n",
       "    <tr>\n",
       "      <th>9601</th>\n",
       "      <td>1457.113437</td>\n",
       "      <td>1463.560438</td>\n",
       "      <td>b</td>\n",
       "      <td>13535</td>\n",
       "      <td>4</td>\n",
       "    </tr>\n",
       "  </tbody>\n",
       "</table>\n",
       "<p>9602 rows × 5 columns</p>\n",
       "</div>"
      ],
      "text/plain": [
       "       start_time    stop_time sb     frq  amp\n",
       "id                                            \n",
       "0        0.000000    17.175892  b  1182.0  1.0\n",
       "1       17.225892    17.275892  s    1182    1\n",
       "2       17.325892    17.405892  b    1182    1\n",
       "3       17.525883    17.575883  s   32000    7\n",
       "4       17.625883    17.705883  b   32000    7\n",
       "...           ...          ... ..     ...  ...\n",
       "9597  1456.633446  1456.683446  s     769    2\n",
       "9598  1456.733446  1456.813446  b     769    2\n",
       "9599  1456.933437  1456.983437  s   13535    4\n",
       "9600  1457.033437  1457.113437  b   13535    4\n",
       "9601  1457.113437  1463.560438  b   13535    4\n",
       "\n",
       "[9602 rows x 5 columns]"
      ]
     },
     "execution_count": 8,
     "metadata": {},
     "output_type": "execute_result"
    }
   ],
   "source": [
    "#make sure the trials table is formatted how you expect\n",
    "trials_pds"
   ]
  },
  {
   "cell_type": "code",
   "execution_count": null,
   "metadata": {},
   "outputs": [],
   "source": [
    "io.close()"
   ]
  },
  {
   "cell_type": "markdown",
   "metadata": {},
   "source": [
    "Edits to implement: color code for frequency on the raster plots, reset the time axis on all visualizations to be relative to the stimulus onset"
   ]
  },
  {
   "cell_type": "markdown",
   "metadata": {},
   "source": [
    "## File Path to Recording and Sorting"
   ]
  },
  {
   "cell_type": "markdown",
   "metadata": {},
   "source": [
    "The following cells load the recording and sorting extactors that were cached in the spikesorting pipeline notebook."
   ]
  },
  {
   "cell_type": "code",
   "execution_count": 12,
   "metadata": {},
   "outputs": [],
   "source": [
    "#loading recording and sorting \n",
    "recording_file_path = 'example_data/RVG16_B06.pkl'\n",
    "sorting_file_path = 'example_data/sorting_B06.pkl'"
   ]
  },
  {
   "cell_type": "code",
   "execution_count": 13,
   "metadata": {},
   "outputs": [],
   "source": [
    "recording = se.load_extractor_from_pickle(recording_file_path)\n",
    "sorting = se.load_extractor_from_pickle(sorting_file_path)\n",
    "\n",
    "\n",
    "phy_sorting = se.PhySortingExtractor('phy_Sept2/', exclude_cluster_groups = ['noise'])\n",
    "\n"
   ]
  },
  {
   "cell_type": "code",
   "execution_count": 14,
   "metadata": {
    "scrolled": false
   },
   "outputs": [
    {
     "data": {
      "text/plain": [
       "24414.0625"
      ]
     },
     "execution_count": 14,
     "metadata": {},
     "output_type": "execute_result"
    }
   ],
   "source": [
    "sampling_freq = sorting.get_sampling_frequency()\n",
    "sampling_freq"
   ]
  },
  {
   "cell_type": "markdown",
   "metadata": {},
   "source": [
    "### View Rasters and Distributions"
   ]
  },
  {
   "cell_type": "markdown",
   "metadata": {},
   "source": [
    "There are two types of visualizations available through the SUA plot package: the raster information by trial, and two ways to view the distribution of events. The first way is looking at a histogram of binned data, the other way is looking at a smoothed density plot of the binned data. The y-axis of the density plot is normalized such that the area under the curve is 1. "
   ]
  },
  {
   "cell_type": "code",
   "execution_count": 15,
   "metadata": {
    "scrolled": true
   },
   "outputs": [
    {
     "data": {
      "image/png": "[encoded data removed]",
      "text/plain": [
       "<Figure size 432x288 with 1 Axes>"
      ]
     },
     "metadata": {
      "needs_background": "light"
     },
     "output_type": "display_data"
    }
   ],
   "source": [
    "SUA.plot_raster(phy_sorting, 6, trials_pds)"
   ]
  },
  {
   "cell_type": "code",
   "execution_count": 18,
   "metadata": {},
   "outputs": [
    {
     "data": {
      "image/png": "[encoded data removed]",
      "text/plain": [
       "<Figure size 432x288 with 1 Axes>"
      ]
     },
     "metadata": {
      "needs_background": "light"
     },
     "output_type": "display_data"
    }
   ],
   "source": [
    "SUA.plot_distribution(phy_sorting, 6, trials_pds, 5, 'histogram')"
   ]
  },
  {
   "cell_type": "code",
   "execution_count": 24,
   "metadata": {},
   "outputs": [
    {
     "data": {
      "image/png": "[encoded data removed]",
      "text/plain": [
       "<Figure size 432x288 with 1 Axes>"
      ]
     },
     "metadata": {
      "needs_background": "light"
     },
     "output_type": "display_data"
    }
   ],
   "source": [
    "SUA.plot_distribution(phy_sorting, 6, trials_pds, 5, 'smooth')"
   ]
  },
  {
   "cell_type": "markdown",
   "metadata": {},
   "source": [
    "## Viewing other Metrics"
   ]
  },
  {
   "cell_type": "markdown",
   "metadata": {},
   "source": [
    "These are some other metrics I would normally assess in analyzing singule unit activity. They are all calculated through spikeinterface."
   ]
  },
  {
   "cell_type": "code",
   "execution_count": 26,
   "metadata": {},
   "outputs": [],
   "source": [
    "unit_features = st.postprocessing.compute_unit_template_features(recording, phy_sorting, as_dataframe = True, \n",
    "                                                          save_property_or_features = True)"
   ]
  },
  {
   "cell_type": "code",
   "execution_count": 27,
   "metadata": {
    "scrolled": true
   },
   "outputs": [],
   "source": [
    "metrics = st.validation.compute_quality_metrics(phy_sorting, recording, metric_names = ['snr', 'num_spikes', 'firing_rate', 'isi_violation'], \n",
    "                                      as_dataframe= True)"
   ]
  },
  {
   "cell_type": "code",
   "execution_count": 28,
   "metadata": {},
   "outputs": [
    {
     "data": {
      "text/html": [
       "<div>\n",
       "<style scoped>\n",
       "    .dataframe tbody tr th:only-of-type {\n",
       "        vertical-align: middle;\n",
       "    }\n",
       "\n",
       "    .dataframe tbody tr th {\n",
       "        vertical-align: top;\n",
       "    }\n",
       "\n",
       "    .dataframe thead th {\n",
       "        text-align: right;\n",
       "    }\n",
       "</style>\n",
       "<table border=\"1\" class=\"dataframe\">\n",
       "  <thead>\n",
       "    <tr style=\"text-align: right;\">\n",
       "      <th></th>\n",
       "      <th>num_spikes</th>\n",
       "      <th>firing_rate</th>\n",
       "      <th>isi_violation</th>\n",
       "      <th>snr</th>\n",
       "    </tr>\n",
       "  </thead>\n",
       "  <tbody>\n",
       "    <tr>\n",
       "      <th>7</th>\n",
       "      <td>2396</td>\n",
       "      <td>1.637197</td>\n",
       "      <td>0.000000</td>\n",
       "      <td>16.449675</td>\n",
       "    </tr>\n",
       "    <tr>\n",
       "      <th>15</th>\n",
       "      <td>5784</td>\n",
       "      <td>3.952233</td>\n",
       "      <td>0.000000</td>\n",
       "      <td>28.399445</td>\n",
       "    </tr>\n",
       "    <tr>\n",
       "      <th>22</th>\n",
       "      <td>1388</td>\n",
       "      <td>0.948427</td>\n",
       "      <td>0.256718</td>\n",
       "      <td>13.142449</td>\n",
       "    </tr>\n",
       "    <tr>\n",
       "      <th>25</th>\n",
       "      <td>1604</td>\n",
       "      <td>1.096020</td>\n",
       "      <td>0.000000</td>\n",
       "      <td>13.213297</td>\n",
       "    </tr>\n",
       "    <tr>\n",
       "      <th>27</th>\n",
       "      <td>3841</td>\n",
       "      <td>2.624572</td>\n",
       "      <td>0.268186</td>\n",
       "      <td>14.123671</td>\n",
       "    </tr>\n",
       "    <tr>\n",
       "      <th>47</th>\n",
       "      <td>700</td>\n",
       "      <td>0.478313</td>\n",
       "      <td>0.000000</td>\n",
       "      <td>22.926472</td>\n",
       "    </tr>\n",
       "    <tr>\n",
       "      <th>92</th>\n",
       "      <td>3803</td>\n",
       "      <td>2.598607</td>\n",
       "      <td>0.136786</td>\n",
       "      <td>17.666748</td>\n",
       "    </tr>\n",
       "    <tr>\n",
       "      <th>101</th>\n",
       "      <td>2032</td>\n",
       "      <td>1.388475</td>\n",
       "      <td>0.000000</td>\n",
       "      <td>29.441683</td>\n",
       "    </tr>\n",
       "    <tr>\n",
       "      <th>122</th>\n",
       "      <td>2765</td>\n",
       "      <td>1.889337</td>\n",
       "      <td>0.064691</td>\n",
       "      <td>16.274153</td>\n",
       "    </tr>\n",
       "    <tr>\n",
       "      <th>140</th>\n",
       "      <td>6745</td>\n",
       "      <td>4.608888</td>\n",
       "      <td>0.000000</td>\n",
       "      <td>21.474941</td>\n",
       "    </tr>\n",
       "    <tr>\n",
       "      <th>147</th>\n",
       "      <td>5878</td>\n",
       "      <td>4.016463</td>\n",
       "      <td>0.114516</td>\n",
       "      <td>17.148829</td>\n",
       "    </tr>\n",
       "  </tbody>\n",
       "</table>\n",
       "</div>"
      ],
      "text/plain": [
       "     num_spikes  firing_rate  isi_violation        snr\n",
       "7          2396     1.637197       0.000000  16.449675\n",
       "15         5784     3.952233       0.000000  28.399445\n",
       "22         1388     0.948427       0.256718  13.142449\n",
       "25         1604     1.096020       0.000000  13.213297\n",
       "27         3841     2.624572       0.268186  14.123671\n",
       "47          700     0.478313       0.000000  22.926472\n",
       "92         3803     2.598607       0.136786  17.666748\n",
       "101        2032     1.388475       0.000000  29.441683\n",
       "122        2765     1.889337       0.064691  16.274153\n",
       "140        6745     4.608888       0.000000  21.474941\n",
       "147        5878     4.016463       0.114516  17.148829"
      ]
     },
     "execution_count": 28,
     "metadata": {},
     "output_type": "execute_result"
    }
   ],
   "source": [
    "metrics.loc[notable_rasters]"
   ]
  },
  {
   "cell_type": "code",
   "execution_count": 29,
   "metadata": {},
   "outputs": [
    {
     "data": {
      "text/html": [
       "<div>\n",
       "<style scoped>\n",
       "    .dataframe tbody tr th:only-of-type {\n",
       "        vertical-align: middle;\n",
       "    }\n",
       "\n",
       "    .dataframe tbody tr th {\n",
       "        vertical-align: top;\n",
       "    }\n",
       "\n",
       "    .dataframe thead th {\n",
       "        text-align: right;\n",
       "    }\n",
       "</style>\n",
       "<table border=\"1\" class=\"dataframe\">\n",
       "  <thead>\n",
       "    <tr style=\"text-align: right;\">\n",
       "      <th></th>\n",
       "      <th>peak_to_valley</th>\n",
       "      <th>halfwidth</th>\n",
       "      <th>peak_trough_ratio</th>\n",
       "      <th>repolarization_slope</th>\n",
       "      <th>recovery_slope</th>\n",
       "    </tr>\n",
       "  </thead>\n",
       "  <tbody>\n",
       "    <tr>\n",
       "      <th>7</th>\n",
       "      <td>0.000860</td>\n",
       "      <td>0.000205</td>\n",
       "      <td>-0.176496</td>\n",
       "      <td>5.368621e+11</td>\n",
       "      <td>-3.743209e+10</td>\n",
       "    </tr>\n",
       "    <tr>\n",
       "      <th>15</th>\n",
       "      <td>0.000655</td>\n",
       "      <td>0.000287</td>\n",
       "      <td>-0.269175</td>\n",
       "      <td>5.648188e+11</td>\n",
       "      <td>-6.370883e+10</td>\n",
       "    </tr>\n",
       "    <tr>\n",
       "      <th>22</th>\n",
       "      <td>0.000655</td>\n",
       "      <td>0.000246</td>\n",
       "      <td>-0.351630</td>\n",
       "      <td>3.187525e+11</td>\n",
       "      <td>-5.325196e+10</td>\n",
       "    </tr>\n",
       "    <tr>\n",
       "      <th>25</th>\n",
       "      <td>0.000696</td>\n",
       "      <td>0.000246</td>\n",
       "      <td>-0.327670</td>\n",
       "      <td>2.732343e+11</td>\n",
       "      <td>-4.524661e+10</td>\n",
       "    </tr>\n",
       "    <tr>\n",
       "      <th>27</th>\n",
       "      <td>0.000737</td>\n",
       "      <td>0.000205</td>\n",
       "      <td>-0.251838</td>\n",
       "      <td>2.587594e+11</td>\n",
       "      <td>-3.152431e+10</td>\n",
       "    </tr>\n",
       "    <tr>\n",
       "      <th>47</th>\n",
       "      <td>0.000860</td>\n",
       "      <td>0.000205</td>\n",
       "      <td>-0.178936</td>\n",
       "      <td>4.138474e+11</td>\n",
       "      <td>-4.378874e+10</td>\n",
       "    </tr>\n",
       "    <tr>\n",
       "      <th>92</th>\n",
       "      <td>0.000901</td>\n",
       "      <td>0.000205</td>\n",
       "      <td>-0.190744</td>\n",
       "      <td>2.818343e+11</td>\n",
       "      <td>-2.698439e+10</td>\n",
       "    </tr>\n",
       "    <tr>\n",
       "      <th>101</th>\n",
       "      <td>0.000655</td>\n",
       "      <td>0.000287</td>\n",
       "      <td>-0.251521</td>\n",
       "      <td>5.733416e+11</td>\n",
       "      <td>-5.412389e+10</td>\n",
       "    </tr>\n",
       "    <tr>\n",
       "      <th>122</th>\n",
       "      <td>0.000778</td>\n",
       "      <td>0.000205</td>\n",
       "      <td>-0.172304</td>\n",
       "      <td>5.648254e+11</td>\n",
       "      <td>-3.244687e+10</td>\n",
       "    </tr>\n",
       "    <tr>\n",
       "      <th>140</th>\n",
       "      <td>0.000246</td>\n",
       "      <td>0.000164</td>\n",
       "      <td>-0.297378</td>\n",
       "      <td>1.421410e+12</td>\n",
       "      <td>-6.584336e+10</td>\n",
       "    </tr>\n",
       "    <tr>\n",
       "      <th>147</th>\n",
       "      <td>0.000819</td>\n",
       "      <td>0.000205</td>\n",
       "      <td>-0.239007</td>\n",
       "      <td>2.698575e+11</td>\n",
       "      <td>-3.529953e+10</td>\n",
       "    </tr>\n",
       "  </tbody>\n",
       "</table>\n",
       "</div>"
      ],
      "text/plain": [
       "     peak_to_valley  halfwidth  peak_trough_ratio  repolarization_slope  \\\n",
       "7          0.000860   0.000205          -0.176496          5.368621e+11   \n",
       "15         0.000655   0.000287          -0.269175          5.648188e+11   \n",
       "22         0.000655   0.000246          -0.351630          3.187525e+11   \n",
       "25         0.000696   0.000246          -0.327670          2.732343e+11   \n",
       "27         0.000737   0.000205          -0.251838          2.587594e+11   \n",
       "47         0.000860   0.000205          -0.178936          4.138474e+11   \n",
       "92         0.000901   0.000205          -0.190744          2.818343e+11   \n",
       "101        0.000655   0.000287          -0.251521          5.733416e+11   \n",
       "122        0.000778   0.000205          -0.172304          5.648254e+11   \n",
       "140        0.000246   0.000164          -0.297378          1.421410e+12   \n",
       "147        0.000819   0.000205          -0.239007          2.698575e+11   \n",
       "\n",
       "     recovery_slope  \n",
       "7     -3.743209e+10  \n",
       "15    -6.370883e+10  \n",
       "22    -5.325196e+10  \n",
       "25    -4.524661e+10  \n",
       "27    -3.152431e+10  \n",
       "47    -4.378874e+10  \n",
       "92    -2.698439e+10  \n",
       "101   -5.412389e+10  \n",
       "122   -3.244687e+10  \n",
       "140   -6.584336e+10  \n",
       "147   -3.529953e+10  "
      ]
     },
     "execution_count": 29,
     "metadata": {},
     "output_type": "execute_result"
    }
   ],
   "source": [
    "unit_features.loc[notable_rasters]"
   ]
  },
  {
   "cell_type": "code",
   "execution_count": 30,
   "metadata": {
    "scrolled": false
   },
   "outputs": [
    {
     "ename": "NameError",
     "evalue": "name 'waveviz' is not defined",
     "output_type": "error",
     "traceback": [
      "\u001b[0;31m---------------------------------------------------------------------------\u001b[0m",
      "\u001b[0;31mNameError\u001b[0m                                 Traceback (most recent call last)",
      "\u001b[0;32m<ipython-input-30-9c60f3addea1>\u001b[0m in \u001b[0;36m<module>\u001b[0;34m\u001b[0m\n\u001b[1;32m      1\u001b[0m \u001b[0;32mfor\u001b[0m \u001b[0mi\u001b[0m \u001b[0;32min\u001b[0m \u001b[0mnotable_rasters\u001b[0m\u001b[0;34m:\u001b[0m\u001b[0;34m\u001b[0m\u001b[0;34m\u001b[0m\u001b[0m\n\u001b[0;32m----> 2\u001b[0;31m     \u001b[0mwaveviz\u001b[0m\u001b[0;34m(\u001b[0m\u001b[0mphy_sorting\u001b[0m\u001b[0;34m,\u001b[0m \u001b[0mrecording\u001b[0m\u001b[0;34m,\u001b[0m \u001b[0munit_id\u001b[0m \u001b[0;34m=\u001b[0m \u001b[0mi\u001b[0m\u001b[0;34m,\u001b[0m \u001b[0mmax_spikes_per_unit\u001b[0m \u001b[0;34m=\u001b[0m \u001b[0;36m200\u001b[0m\u001b[0;34m,\u001b[0m \u001b[0mshow_isi\u001b[0m \u001b[0;34m=\u001b[0m \u001b[0;32mTrue\u001b[0m\u001b[0;34m)\u001b[0m\u001b[0;34m\u001b[0m\u001b[0;34m\u001b[0m\u001b[0m\n\u001b[0m",
      "\u001b[0;31mNameError\u001b[0m: name 'waveviz' is not defined"
     ]
    }
   ],
   "source": [
    "for i in notable_rasters:\n",
    "    waveviz(phy_sorting, recording, unit_id = i, max_spikes_per_unit = 200, show_isi = True)"
   ]
  },
  {
   "cell_type": "code",
   "execution_count": null,
   "metadata": {},
   "outputs": [],
   "source": []
  },
  {
   "cell_type": "code",
   "execution_count": null,
   "metadata": {},
   "outputs": [],
   "source": []
  }
 ],
 "metadata": {
  "kernelspec": {
   "display_name": "Python 3",
   "language": "python",
   "name": "python3"
  },
  "language_info": {
   "codemirror_mode": {
    "name": "ipython",
    "version": 3
   },
   "file_extension": ".py",
   "mimetype": "text/x-python",
   "name": "python",
   "nbconvert_exporter": "python",
   "pygments_lexer": "ipython3",
   "version": "3.8.5"
  }
 },
 "nbformat": 4,
 "nbformat_minor": 4
}
