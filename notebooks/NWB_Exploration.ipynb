{
 "cells": [
  {
   "cell_type": "markdown",
   "metadata": {},
   "source": [
    "# NWB exploration"
   ]
  },
  {
   "cell_type": "code",
   "execution_count": 1,
   "metadata": {},
   "outputs": [],
   "source": [
    "from pynwb import NWBHDF5IO\n",
    "import numpy as np "
   ]
  },
  {
   "cell_type": "code",
   "execution_count": 32,
   "metadata": {},
   "outputs": [],
   "source": [
    "#change pathway as needed\n",
    "io = NWBHDF5IO('/Users/vanessagutierrez/Desktop/NWB_Test/RVG16/RVG16_B05.nwb', 'r')\n",
    "nwbfile_in = io.read()"
   ]
  },
  {
   "cell_type": "code",
   "execution_count": 33,
   "metadata": {
    "scrolled": true
   },
   "outputs": [
    {
     "data": {
      "text/plain": [
       "root pynwb.file.NWBFile at 0x140628044159392\n",
       "Fields:\n",
       "  acquisition: {\n",
       "    ECoG <class 'pynwb.ecephys.ElectricalSeries'>,\n",
       "    Poly <class 'pynwb.ecephys.ElectricalSeries'>\n",
       "  }\n",
       "  devices: {\n",
       "    ECoG <class 'pynwb.device.Device'>,\n",
       "    Poly <class 'pynwb.device.Device'>\n",
       "  }\n",
       "  electrode_groups: {\n",
       "    ECoG <class 'pynwb.ecephys.ElectrodeGroup'>,\n",
       "    Poly <class 'pynwb.ecephys.ElectrodeGroup'>\n",
       "  }\n",
       "  electrodes: electrodes <class 'hdmf.common.table.DynamicTable'>\n",
       "  experiment_description: This is an acute rat experiment. Auditory stimuli are played to an anesthsized rat and electrophysiological measurements are made auditory cortex\n",
       "  experimenter: ['Vanessa Gutierrez']\n",
       "  file_create_date: [datetime.datetime(2021, 9, 7, 13, 34, 37, 896650, tzinfo=tzoffset(None, -25200))]\n",
       "  identifier: 05320762-101b-11ec-b9f7-aa665a133c20\n",
       "  institution: Lawrence Berkeley National Lab\n",
       "  intervals: {\n",
       "    trials <class 'pynwb.epoch.TimeIntervals'>\n",
       "  }\n",
       "  lab: Bouchard Lab\n",
       "  notes: Gave ketamine then waited 10 mins ,all channels responded except obvious bad channels, really good poly spikes, wave spikes were better, still bad tone map, could be due to bleeding\n",
       "  pharmacology: Anesthesized with Ketamine (90 mg/kg induction and 55 mg/kg maintence) and Xyzaline (10 mg/kg induction and 5 mg/kg maintence)\n",
       "  scratch: {\n",
       "    ecog_lat_loc <class 'pynwb.core.ScratchData'>,\n",
       "    ecog_post_loc <class 'pynwb.core.ScratchData'>,\n",
       "    has_ecog <class 'pynwb.core.ScratchData'>,\n",
       "    has_poly <class 'pynwb.core.ScratchData'>,\n",
       "    is_clean_block <class 'pynwb.core.ScratchData'>,\n",
       "    poly_ap_loc <class 'pynwb.core.ScratchData'>,\n",
       "    poly_dev_loc <class 'pynwb.core.ScratchData'>,\n",
       "    stim_response <class 'pynwb.core.ScratchData'>\n",
       "  }\n",
       "  session_description: Tone diagnostic\n",
       "  session_id: RVG16_B05\n",
       "  session_start_time: 2021-05-25 12:37:25.999999-07:00\n",
       "  source_script: Created by nsds-lab-to-nwb 0.0.1.dev0 (https://github.com/BouchardLab/nsds_lab_to_nwb) (git@f6ab42b)\n",
       "  source_script_file_name: nsds-lab-to-nwb\n",
       "  stimulus: {\n",
       "    stim_onset_marks <class 'pynwb.base.TimeSeries'>,\n",
       "    stim_waveform <class 'pynwb.base.TimeSeries'>\n",
       "  }\n",
       "  subject: subject pynwb.file.Subject at 0x140628044177472\n",
       "Fields:\n",
       "  description: Charles River\n",
       "  genotype: Wild type\n",
       "  sex: M\n",
       "  species: Sprague Dawley\n",
       "  subject_id: RVG16\n",
       "  weight: 466g\n",
       "\n",
       "  surgery: Right temporal lobe craniotomy w/ durotomy\n",
       "Surgery date: 2021-05-25\n",
       "Surgery time: 08:40:00 (US/Pacific)\n",
       "Surgery notes: Clean window. minimal damage to surface\n",
       "Surgery outcome: Ok\n",
       "  timestamps_reference_time: 2021-05-25 12:37:25.999999-07:00\n",
       "  trials: trials <class 'pynwb.epoch.TimeIntervals'>"
      ]
     },
     "execution_count": 33,
     "metadata": {},
     "output_type": "execute_result"
    }
   ],
   "source": [
    "nwbfile_in"
   ]
  },
  {
   "cell_type": "code",
   "execution_count": 34,
   "metadata": {},
   "outputs": [
    {
     "data": {
      "text/plain": [
       "array([ 0.        ,  7.74766592,  7.84766592,  8.04765696,  8.14765696,\n",
       "        8.347648  ,  8.447648  ,  8.64763904,  8.74763904,  8.94767104,\n",
       "        9.04767104,  9.24766208,  9.34766208,  9.54765312,  9.64765312,\n",
       "        9.84764416,  9.94764416, 10.14767616, 10.24767616, 10.4476672 ,\n",
       "       10.5476672 , 10.74765824, 10.84765824, 11.04764928, 11.14764928,\n",
       "       11.34768128, 11.44768128, 11.64767232, 11.74767232, 11.94766336,\n",
       "       12.04766336, 12.24769536, 12.34769536, 12.5476864 , 12.6476864 ,\n",
       "       12.84767744, 12.94767744, 13.14766848, 13.24766848, 13.44770048,\n",
       "       13.54770048, 13.74769152, 13.84769152, 14.04768256, 14.14768256,\n",
       "       14.3476736 , 14.4476736 , 14.6477056 , 14.7477056 , 14.94769664,\n",
       "       15.04769664, 15.24768768, 15.34768768, 15.54767872, 15.64767872,\n",
       "       15.84771072, 15.94771072, 16.14770176, 16.24770176, 16.4476928 ,\n",
       "       16.5476928 , 16.74768384, 16.84768384, 17.04771584, 17.14771584,\n",
       "       17.34770688, 17.44770688, 17.64769792, 17.74769792, 17.94768896,\n",
       "       18.04768896, 18.24772096, 18.34772096, 18.547712  , 18.647712  ,\n",
       "       18.84770304, 18.94770304, 19.14769408, 19.24769408, 19.44772608,\n",
       "       19.54772608, 19.74771712, 19.84771712, 20.04770816, 20.14770816,\n",
       "       20.34774016, 20.44774016, 20.6477312 , 20.7477312 , 20.94772224,\n",
       "       21.04772224, 21.24771328, 21.34771328, 21.54774528, 21.64774528,\n",
       "       21.84773632, 21.94773632, 22.14772736, 22.24772736, 22.4477184 ,\n",
       "       22.5477184 , 22.7477504 , 22.8477504 , 23.04774144, 23.14774144,\n",
       "       23.34773248, 23.44773248, 23.64772352, 23.74772352, 23.94775552,\n",
       "       24.04775552, 24.24774656, 24.34774656, 24.5477376 , 24.6477376 ,\n",
       "       24.84772864, 24.94772864, 25.14776064, 25.24776064, 25.44775168,\n",
       "       25.54775168, 25.74774272, 25.84774272, 26.04773376, 26.14773376,\n",
       "       26.34776576, 26.44776576, 26.6477568 , 26.7477568 , 26.94774784,\n",
       "       27.04774784, 27.24777984, 27.34777984, 27.54777088, 27.64777088,\n",
       "       27.84776192, 27.94776192, 28.14775296, 28.24775296, 28.44778496,\n",
       "       28.54778496, 28.747776  , 28.847776  , 29.04776704, 29.14776704,\n",
       "       29.34775808, 29.44775808, 29.64779008, 29.74779008, 29.94778112,\n",
       "       30.04778112, 30.24777216, 30.34777216, 30.5477632 , 30.6477632 ,\n",
       "       30.8477952 , 30.9477952 , 31.14778624, 31.24778624, 31.44777728,\n",
       "       31.54777728, 31.74776832, 31.84776832, 32.04780032, 32.14780032,\n",
       "       32.34779136, 32.44779136, 32.6477824 , 32.7477824 , 32.94777344,\n",
       "       33.04777344, 33.24780544, 33.34780544, 33.54779648, 33.64779648,\n",
       "       33.84778752, 33.94778752, 34.14777856, 34.24777856, 34.44781056,\n",
       "       34.54781056, 34.7478016 , 34.8478016 , 35.04779264, 35.14779264,\n",
       "       35.34782464, 35.44782464, 35.64781568, 35.74781568, 35.94780672,\n",
       "       36.04780672, 36.24779776, 36.34779776, 36.54782976, 36.64782976,\n",
       "       36.8478208 , 36.9478208 , 37.14781184, 37.24781184, 37.44780288,\n",
       "       37.54780288, 37.74783488, 37.84783488, 38.04782592, 38.14782592,\n",
       "       38.34781696, 38.44781696, 38.647808  , 38.747808  , 38.94784   ,\n",
       "       39.04784   , 39.24783104, 39.34783104, 39.54782208, 39.64782208,\n",
       "       39.84781312, 39.94781312, 40.14784512, 40.24784512, 40.44783616,\n",
       "       40.54783616, 40.7478272 , 40.8478272 , 41.04781824, 41.14781824,\n",
       "       41.34785024, 41.44785024, 41.64784128, 41.74784128, 41.94783232,\n",
       "       42.04783232, 42.24786432, 42.34786432, 42.54785536, 42.64785536,\n",
       "       42.8478464 , 42.9478464 , 43.14783744, 43.24783744, 43.44786944,\n",
       "       43.54786944, 43.74786048, 43.84786048, 44.04785152, 44.14785152,\n",
       "       44.34784256, 44.44784256, 44.64787456, 44.74787456, 44.9478656 ,\n",
       "       45.0478656 , 45.24785664, 45.34785664, 45.54784768, 45.64784768,\n",
       "       45.84787968, 45.94787968, 46.14787072, 46.24787072, 46.44786176,\n",
       "       46.54786176, 46.7478528 , 46.8478528 , 47.0478848 , 47.1478848 ,\n",
       "       47.34787584, 47.44787584, 47.64786688, 47.74786688, 47.94785792,\n",
       "       48.04785792, 48.24788992, 48.34788992, 48.54788096, 48.64788096,\n",
       "       48.847872  , 48.947872  , 49.14786304, 49.24786304, 49.44789504,\n",
       "       49.54789504, 49.74788608, 49.84788608, 50.04787712, 50.14787712,\n",
       "       50.34790912, 50.44790912, 50.64790016, 50.74790016, 50.9478912 ,\n",
       "       51.0478912 , 51.24788224, 51.34788224, 51.54791424, 51.64791424,\n",
       "       51.84790528, 51.94790528, 52.14789632, 52.24789632, 52.44788736,\n",
       "       52.54788736, 52.74791936, 52.84791936, 53.0479104 , 53.1479104 ,\n",
       "       53.34790144, 53.44790144, 53.64789248, 53.74789248, 53.94792448,\n",
       "       54.04792448, 54.24791552, 54.34791552, 54.54790656, 54.64790656,\n",
       "       54.8478976 , 54.9478976 , 55.1479296 , 55.2479296 , 55.44792064,\n",
       "       55.54792064, 55.74791168, 55.84791168, 56.04790272, 56.14790272,\n",
       "       56.34793472, 56.44793472, 56.64792576, 56.74792576, 56.9479168 ,\n",
       "       57.0479168 , 57.2479488 , 57.3479488 , 57.54793984, 57.64793984,\n",
       "       57.84793088, 57.94793088, 58.14792192, 58.24792192, 58.44795392,\n",
       "       58.54795392, 58.74794496, 58.84794496, 59.047936  , 59.147936  ,\n",
       "       59.34792704, 59.44792704, 59.64795904, 59.74795904, 59.94795008,\n",
       "       60.04795008, 60.24794112, 60.34794112, 60.54793216, 60.64793216,\n",
       "       60.84796416, 60.94796416, 61.1479552 , 61.2479552 , 61.44794624,\n",
       "       61.54794624, 61.74793728, 61.84793728, 62.04796928, 62.14796928,\n",
       "       62.34796032, 62.44796032, 62.64795136, 62.74795136, 62.9479424 ,\n",
       "       63.0479424 , 63.2479744 , 63.3479744 , 63.54796544, 63.64796544,\n",
       "       63.84795648, 63.94795648, 64.14794752, 64.24794752, 64.44797952,\n",
       "       64.54797952, 64.74797056, 64.84797056, 65.0479616 , 65.1479616 ,\n",
       "       65.3479936 , 65.4479936 , 65.64798464, 65.74798464, 65.94797568,\n",
       "       66.04797568, 66.24796672, 66.34796672, 66.54799872, 66.64799872,\n",
       "       66.84798976, 66.94798976, 67.1479808 , 67.2479808 , 67.44797184,\n",
       "       67.54797184, 67.74800384, 67.84800384, 68.04799488, 68.14799488,\n",
       "       68.34798592, 68.44798592, 68.64797696, 68.74797696, 68.94800896,\n",
       "       69.04800896, 69.248     , 69.348     , 69.54799104, 69.64799104,\n",
       "       69.84798208, 69.94798208, 70.14801408, 70.24801408, 70.44800512,\n",
       "       70.54800512, 70.74799616, 70.84799616, 71.0479872 , 71.1479872 ,\n",
       "       71.3480192 , 71.4480192 , 71.64801024, 71.74801024, 71.94800128,\n",
       "       72.04800128, 72.24799232, 72.34799232, 72.54802432, 72.64802432,\n",
       "       72.84801536, 72.94801536, 73.1480064 , 73.2480064 , 73.4480384 ,\n",
       "       73.5480384 , 73.74802944, 73.84802944, 74.04802048, 74.14802048,\n",
       "       74.34801152, 74.44801152, 74.64804352, 74.74804352, 74.94803456,\n",
       "       75.04803456, 75.2480256 , 75.3480256 , 75.54801664, 75.64801664,\n",
       "       75.84804864, 75.94804864, 76.14803968, 76.24803968, 76.44803072,\n",
       "       76.54803072, 76.74802176, 76.84802176, 77.04805376, 77.14805376,\n",
       "       77.3480448 , 77.4480448 , 77.64803584, 77.74803584, 77.94802688,\n",
       "       78.04802688, 78.24805888, 78.34805888, 78.54804992, 78.64804992,\n",
       "       78.84804096, 78.94804096, 79.148032  , 79.248032  , 79.448064  ,\n",
       "       79.548064  , 79.74805504, 79.84805504, 80.04804608, 80.14804608,\n",
       "       80.34807808, 80.44807808, 80.64806912, 80.74806912, 80.94806016,\n",
       "       81.04806016, 81.2480512 , 81.3480512 , 81.5480832 , 81.6480832 ,\n",
       "       81.84807424, 81.94807424, 82.14806528, 82.24806528, 82.44805632,\n",
       "       82.54805632, 82.74808832, 82.84808832, 83.04807936, 83.14807936,\n",
       "       83.3480704 , 83.4480704 , 83.64806144, 83.74806144, 83.94809344,\n",
       "       84.04809344, 84.24808448, 84.34808448, 84.54807552, 84.64807552,\n",
       "       84.84806656, 84.94806656, 85.14809856, 85.24809856, 85.4480896 ,\n",
       "       85.5480896 , 85.74808064, 85.84808064, 86.04807168, 86.14807168,\n",
       "       86.34810368, 86.44810368, 86.64809472, 86.74809472, 86.94808576,\n",
       "       87.04808576, 87.2480768 , 87.3480768 , 87.5481088 , 87.6481088 ,\n",
       "       87.84809984, 87.94809984, 88.14809088, 88.24809088, 88.44812288,\n",
       "       88.54812288, 88.74811392, 88.84811392, 89.04810496, 89.14810496,\n",
       "       89.348096  , 89.448096  , 89.648128  , 89.748128  , 89.94811904,\n",
       "       90.04811904, 90.24811008, 90.34811008, 90.54810112, 90.64810112,\n",
       "       90.84813312, 90.94813312, 91.14812416, 91.24812416, 91.4481152 ,\n",
       "       91.5481152 , 91.74810624, 91.84810624, 92.04813824, 92.14813824,\n",
       "       92.34812928, 92.44812928, 92.64812032, 92.74812032, 92.94811136,\n",
       "       93.04811136, 93.24814336, 93.34814336, 93.5481344 , 93.6481344 ,\n",
       "       93.84812544, 93.94812544, 94.14811648, 94.24811648, 94.44814848,\n",
       "       94.54814848, 94.74813952, 94.84813952, 95.04813056, 95.14813056,\n",
       "       95.3481216 , 95.4481216 , 95.6481536 , 95.7481536 , 95.94814464,\n",
       "       96.04814464, 96.24813568, 96.34813568, 96.54816768, 96.64816768,\n",
       "       96.84815872, 96.94815872, 97.14814976, 97.24814976, 97.4481408 ,\n",
       "       97.5481408 , 97.6281408 ])"
      ]
     },
     "execution_count": 34,
     "metadata": {},
     "output_type": "execute_result"
    }
   ],
   "source": [
    "nwbfile_in.intervals['trials']['start_time'][:]"
   ]
  },
  {
   "cell_type": "code",
   "execution_count": 35,
   "metadata": {},
   "outputs": [
    {
     "data": {
      "text/plain": [
       "(1239166, 128)"
      ]
     },
     "execution_count": 35,
     "metadata": {},
     "output_type": "execute_result"
    }
   ],
   "source": [
    "nwbfile_in.acquisition['ECoG'].data[:].shape"
   ]
  },
  {
   "cell_type": "code",
   "execution_count": 36,
   "metadata": {},
   "outputs": [
    {
     "data": {
      "text/plain": [
       "{'stim_onset_marks': stim_onset_marks pynwb.base.TimeSeries at 0x140628039993712\n",
       " Fields:\n",
       "   comments: no comments\n",
       "   conversion: 1.0\n",
       "   data: <HDF5 dataset \"data\": shape (1261568,), type \"<f4\">\n",
       "   description: Recorded mark that tracks stimulus onsets.\n",
       "   rate: 12207.03125\n",
       "   resolution: -1.0\n",
       "   starting_time: 0.0\n",
       "   starting_time_unit: seconds\n",
       "   unit: Volts,\n",
       " 'stim_waveform': stim_waveform pynwb.base.TimeSeries at 0x140628039993184\n",
       " Fields:\n",
       "   comments: no comments\n",
       "   conversion: 1.0\n",
       "   data: <HDF5 dataset \"data\": shape (4800248,), type \"<i2\">\n",
       "   description: Auditory stimulus waveform, aligned to neural recording.\n",
       "   rate: 48000.0\n",
       "   resolution: -1.0\n",
       "   starting_time: 2.74766592\n",
       "   starting_time_unit: seconds\n",
       "   unit: Volts}"
      ]
     },
     "execution_count": 36,
     "metadata": {},
     "output_type": "execute_result"
    }
   ],
   "source": [
    "nwbfile_in.stimulus"
   ]
  },
  {
   "cell_type": "code",
   "execution_count": 37,
   "metadata": {},
   "outputs": [
    {
     "data": {
      "text/plain": [
       "stim_onset_marks pynwb.base.TimeSeries at 0x140628039993712\n",
       "Fields:\n",
       "  comments: no comments\n",
       "  conversion: 1.0\n",
       "  data: <HDF5 dataset \"data\": shape (1261568,), type \"<f4\">\n",
       "  description: Recorded mark that tracks stimulus onsets.\n",
       "  rate: 12207.03125\n",
       "  resolution: -1.0\n",
       "  starting_time: 0.0\n",
       "  starting_time_unit: seconds\n",
       "  unit: Volts"
      ]
     },
     "execution_count": 37,
     "metadata": {},
     "output_type": "execute_result"
    }
   ],
   "source": [
    "nwbfile_in.stimulus['stim_onset_marks']"
   ]
  },
  {
   "cell_type": "code",
   "execution_count": 38,
   "metadata": {
    "scrolled": true
   },
   "outputs": [
    {
     "data": {
      "text/plain": [
       "stim_waveform pynwb.base.TimeSeries at 0x140628039993184\n",
       "Fields:\n",
       "  comments: no comments\n",
       "  conversion: 1.0\n",
       "  data: <HDF5 dataset \"data\": shape (4800248,), type \"<i2\">\n",
       "  description: Auditory stimulus waveform, aligned to neural recording.\n",
       "  rate: 48000.0\n",
       "  resolution: -1.0\n",
       "  starting_time: 2.74766592\n",
       "  starting_time_unit: seconds\n",
       "  unit: Volts"
      ]
     },
     "execution_count": 38,
     "metadata": {},
     "output_type": "execute_result"
    }
   ],
   "source": [
    "nwbfile_in.stimulus['stim_waveform']"
   ]
  },
  {
   "cell_type": "code",
   "execution_count": 39,
   "metadata": {},
   "outputs": [],
   "source": [
    "device = 'Poly'"
   ]
  },
  {
   "cell_type": "code",
   "execution_count": 40,
   "metadata": {},
   "outputs": [
    {
     "data": {
      "text/plain": [
       "array(['ECoG', 'ECoG', 'ECoG', 'ECoG', 'ECoG', 'ECoG', 'ECoG', 'ECoG',\n",
       "       'ECoG', 'ECoG', 'ECoG', 'ECoG', 'ECoG', 'ECoG', 'ECoG', 'ECoG',\n",
       "       'ECoG', 'ECoG', 'ECoG', 'ECoG', 'ECoG', 'ECoG', 'ECoG', 'ECoG',\n",
       "       'ECoG', 'ECoG', 'ECoG', 'ECoG', 'ECoG', 'ECoG', 'ECoG', 'ECoG',\n",
       "       'ECoG', 'ECoG', 'ECoG', 'ECoG', 'ECoG', 'ECoG', 'ECoG', 'ECoG',\n",
       "       'ECoG', 'ECoG', 'ECoG', 'ECoG', 'ECoG', 'ECoG', 'ECoG', 'ECoG',\n",
       "       'ECoG', 'ECoG', 'ECoG', 'ECoG', 'ECoG', 'ECoG', 'ECoG', 'ECoG',\n",
       "       'ECoG', 'ECoG', 'ECoG', 'ECoG', 'ECoG', 'ECoG', 'ECoG', 'ECoG',\n",
       "       'ECoG', 'ECoG', 'ECoG', 'ECoG', 'ECoG', 'ECoG', 'ECoG', 'ECoG',\n",
       "       'ECoG', 'ECoG', 'ECoG', 'ECoG', 'ECoG', 'ECoG', 'ECoG', 'ECoG',\n",
       "       'ECoG', 'ECoG', 'ECoG', 'ECoG', 'ECoG', 'ECoG', 'ECoG', 'ECoG',\n",
       "       'ECoG', 'ECoG', 'ECoG', 'ECoG', 'ECoG', 'ECoG', 'ECoG', 'ECoG',\n",
       "       'ECoG', 'ECoG', 'ECoG', 'ECoG', 'ECoG', 'ECoG', 'ECoG', 'ECoG',\n",
       "       'ECoG', 'ECoG', 'ECoG', 'ECoG', 'ECoG', 'ECoG', 'ECoG', 'ECoG',\n",
       "       'ECoG', 'ECoG', 'ECoG', 'ECoG', 'ECoG', 'ECoG', 'ECoG', 'ECoG',\n",
       "       'ECoG', 'ECoG', 'ECoG', 'ECoG', 'ECoG', 'ECoG', 'ECoG', 'ECoG',\n",
       "       'Poly', 'Poly', 'Poly', 'Poly', 'Poly', 'Poly', 'Poly', 'Poly',\n",
       "       'Poly', 'Poly', 'Poly', 'Poly', 'Poly', 'Poly', 'Poly', 'Poly',\n",
       "       'Poly', 'Poly', 'Poly', 'Poly', 'Poly', 'Poly', 'Poly', 'Poly',\n",
       "       'Poly', 'Poly', 'Poly', 'Poly', 'Poly', 'Poly', 'Poly', 'Poly',\n",
       "       'Poly', 'Poly', 'Poly', 'Poly', 'Poly', 'Poly', 'Poly', 'Poly',\n",
       "       'Poly', 'Poly', 'Poly', 'Poly', 'Poly', 'Poly', 'Poly', 'Poly',\n",
       "       'Poly', 'Poly', 'Poly', 'Poly', 'Poly', 'Poly', 'Poly', 'Poly',\n",
       "       'Poly', 'Poly', 'Poly', 'Poly', 'Poly', 'Poly', 'Poly', 'Poly'],\n",
       "      dtype=object)"
      ]
     },
     "execution_count": 40,
     "metadata": {},
     "output_type": "execute_result"
    }
   ],
   "source": [
    "nwbfile_in.electrodes['group_name'].data[:]"
   ]
  },
  {
   "cell_type": "code",
   "execution_count": 41,
   "metadata": {
    "scrolled": true
   },
   "outputs": [],
   "source": [
    "device_idx = nwbfile_in.electrodes.group_name.data[:] == device"
   ]
  },
  {
   "cell_type": "code",
   "execution_count": 42,
   "metadata": {},
   "outputs": [
    {
     "data": {
      "text/plain": [
       "array([False, False, False, False, False, False, False, False, False,\n",
       "       False, False, False, False, False, False, False, False, False,\n",
       "       False, False, False, False, False, False, False, False, False,\n",
       "       False, False, False, False, False, False, False, False, False,\n",
       "       False, False, False, False, False, False, False, False, False,\n",
       "       False, False, False, False, False, False, False, False, False,\n",
       "       False, False, False, False, False, False, False, False, False,\n",
       "       False, False, False, False, False, False, False, False, False,\n",
       "       False, False, False, False, False, False, False, False, False,\n",
       "       False, False, False, False, False, False, False, False, False,\n",
       "       False, False, False, False, False, False, False, False, False,\n",
       "       False, False, False, False, False, False, False, False, False,\n",
       "       False, False, False, False, False, False, False, False, False,\n",
       "       False, False, False, False, False, False, False, False, False,\n",
       "       False, False,  True,  True,  True,  True,  True,  True,  True,\n",
       "        True,  True,  True,  True,  True,  True,  True,  True,  True,\n",
       "        True,  True,  True,  True,  True,  True,  True,  True,  True,\n",
       "        True,  True,  True,  True,  True,  True,  True,  True,  True,\n",
       "        True,  True,  True,  True,  True,  True,  True,  True,  True,\n",
       "        True,  True,  True,  True,  True,  True,  True,  True,  True,\n",
       "        True,  True,  True,  True,  True,  True,  True,  True,  True,\n",
       "        True,  True,  True])"
      ]
     },
     "execution_count": 42,
     "metadata": {},
     "output_type": "execute_result"
    }
   ],
   "source": [
    "device_idx"
   ]
  },
  {
   "cell_type": "code",
   "execution_count": 47,
   "metadata": {},
   "outputs": [
    {
     "data": {
      "text/plain": [
       "array(['AUD', 'AUD', 'AUD', 'AUD', 'AUD', 'AUD', 'AUD', 'AUD', 'AUD',\n",
       "       'AUD', 'AUD', 'AUD', 'AUD', 'AUD', 'AUD', 'AUD', 'AUD', 'AUD',\n",
       "       'AUD', 'AUD', 'AUD', 'AUD', 'AUD', 'AUD', 'AUD', 'AUD', 'AUD',\n",
       "       'AUD', 'AUD', 'AUD', 'AUD', 'AUD', 'AUD', 'AUD', 'AUD', 'AUD',\n",
       "       'AUD', 'AUD', 'AUD', 'AUD', 'AUD', 'AUD', 'AUD', 'AUD', 'AUD',\n",
       "       'AUD', 'AUD', 'AUD', 'AUD', 'AUD', 'AUD', 'AUD', 'AUD', 'AUD',\n",
       "       'AUD', 'AUD', 'AUD', 'AUD', 'AUD', 'AUD', 'AUD', 'AUD', 'AUD',\n",
       "       'AUD'], dtype=object)"
      ]
     },
     "execution_count": 47,
     "metadata": {},
     "output_type": "execute_result"
    }
   ],
   "source": [
    "nwbfile_in.electrodes['location'].data[device_idx]"
   ]
  },
  {
   "cell_type": "code",
   "execution_count": 46,
   "metadata": {},
   "outputs": [
    {
     "ename": "ValueError",
     "evalue": "invalid literal for int() with base 10: 'AUD'",
     "output_type": "error",
     "traceback": [
      "\u001b[0;31m---------------------------------------------------------------------------\u001b[0m",
      "\u001b[0;31mValueError\u001b[0m                                Traceback (most recent call last)",
      "\u001b[0;32m<ipython-input-46-f772505f34fb>\u001b[0m in \u001b[0;36m<module>\u001b[0;34m\u001b[0m\n\u001b[0;32m----> 1\u001b[0;31m \u001b[0mch_ids\u001b[0m \u001b[0;34m=\u001b[0m \u001b[0mnp\u001b[0m\u001b[0;34m.\u001b[0m\u001b[0marray\u001b[0m\u001b[0;34m(\u001b[0m\u001b[0;34m[\u001b[0m\u001b[0mint\u001b[0m\u001b[0;34m(\u001b[0m\u001b[0mch\u001b[0m\u001b[0;34m)\u001b[0m \u001b[0;32mfor\u001b[0m \u001b[0mch\u001b[0m \u001b[0;32min\u001b[0m \u001b[0mnwbfile_in\u001b[0m\u001b[0;34m.\u001b[0m\u001b[0melectrodes\u001b[0m\u001b[0;34m[\u001b[0m\u001b[0;34m'location'\u001b[0m\u001b[0;34m]\u001b[0m\u001b[0;34m.\u001b[0m\u001b[0mdata\u001b[0m\u001b[0;34m[\u001b[0m\u001b[0mdevice_idx\u001b[0m\u001b[0;34m]\u001b[0m\u001b[0;34m]\u001b[0m\u001b[0;34m)\u001b[0m\u001b[0;34m\u001b[0m\u001b[0;34m\u001b[0m\u001b[0m\n\u001b[0m",
      "\u001b[0;32m<ipython-input-46-f772505f34fb>\u001b[0m in \u001b[0;36m<listcomp>\u001b[0;34m(.0)\u001b[0m\n\u001b[0;32m----> 1\u001b[0;31m \u001b[0mch_ids\u001b[0m \u001b[0;34m=\u001b[0m \u001b[0mnp\u001b[0m\u001b[0;34m.\u001b[0m\u001b[0marray\u001b[0m\u001b[0;34m(\u001b[0m\u001b[0;34m[\u001b[0m\u001b[0mint\u001b[0m\u001b[0;34m(\u001b[0m\u001b[0mch\u001b[0m\u001b[0;34m)\u001b[0m \u001b[0;32mfor\u001b[0m \u001b[0mch\u001b[0m \u001b[0;32min\u001b[0m \u001b[0mnwbfile_in\u001b[0m\u001b[0;34m.\u001b[0m\u001b[0melectrodes\u001b[0m\u001b[0;34m[\u001b[0m\u001b[0;34m'location'\u001b[0m\u001b[0;34m]\u001b[0m\u001b[0;34m.\u001b[0m\u001b[0mdata\u001b[0m\u001b[0;34m[\u001b[0m\u001b[0mdevice_idx\u001b[0m\u001b[0;34m]\u001b[0m\u001b[0;34m]\u001b[0m\u001b[0;34m)\u001b[0m\u001b[0;34m\u001b[0m\u001b[0;34m\u001b[0m\u001b[0m\n\u001b[0m",
      "\u001b[0;31mValueError\u001b[0m: invalid literal for int() with base 10: 'AUD'"
     ]
    }
   ],
   "source": [
    "ch_ids = np.array([int(ch) for ch in nwbfile_in.electrodes['location'].data[device_idx]])"
   ]
  },
  {
   "cell_type": "code",
   "execution_count": 45,
   "metadata": {},
   "outputs": [
    {
     "data": {
      "text/html": [
       "<div>\n",
       "<style scoped>\n",
       "    .dataframe tbody tr th:only-of-type {\n",
       "        vertical-align: middle;\n",
       "    }\n",
       "\n",
       "    .dataframe tbody tr th {\n",
       "        vertical-align: top;\n",
       "    }\n",
       "\n",
       "    .dataframe thead th {\n",
       "        text-align: right;\n",
       "    }\n",
       "</style>\n",
       "<table border=\"1\" class=\"dataframe\">\n",
       "  <thead>\n",
       "    <tr style=\"text-align: right;\">\n",
       "      <th></th>\n",
       "      <th>x</th>\n",
       "      <th>y</th>\n",
       "      <th>z</th>\n",
       "      <th>imp</th>\n",
       "      <th>location</th>\n",
       "      <th>filtering</th>\n",
       "      <th>group</th>\n",
       "      <th>group_name</th>\n",
       "      <th>rel_x</th>\n",
       "      <th>rel_y</th>\n",
       "      <th>rel_z</th>\n",
       "    </tr>\n",
       "    <tr>\n",
       "      <th>id</th>\n",
       "      <th></th>\n",
       "      <th></th>\n",
       "      <th></th>\n",
       "      <th></th>\n",
       "      <th></th>\n",
       "      <th></th>\n",
       "      <th></th>\n",
       "      <th></th>\n",
       "      <th></th>\n",
       "      <th></th>\n",
       "      <th></th>\n",
       "    </tr>\n",
       "  </thead>\n",
       "  <tbody>\n",
       "    <tr>\n",
       "      <th>0</th>\n",
       "      <td>NaN</td>\n",
       "      <td>NaN</td>\n",
       "      <td>NaN</td>\n",
       "      <td>NaN</td>\n",
       "      <td>AUD</td>\n",
       "      <td>The signal is low pass filtered at 45 percent ...</td>\n",
       "      <td>ECoG pynwb.ecephys.ElectrodeGroup at 0x1406280...</td>\n",
       "      <td>ECoG</td>\n",
       "      <td>3000.00</td>\n",
       "      <td>800.0</td>\n",
       "      <td>0.0</td>\n",
       "    </tr>\n",
       "    <tr>\n",
       "      <th>1</th>\n",
       "      <td>NaN</td>\n",
       "      <td>NaN</td>\n",
       "      <td>NaN</td>\n",
       "      <td>NaN</td>\n",
       "      <td>AUD</td>\n",
       "      <td>The signal is low pass filtered at 45 percent ...</td>\n",
       "      <td>ECoG pynwb.ecephys.ElectrodeGroup at 0x1406280...</td>\n",
       "      <td>ECoG</td>\n",
       "      <td>2600.00</td>\n",
       "      <td>800.0</td>\n",
       "      <td>0.0</td>\n",
       "    </tr>\n",
       "    <tr>\n",
       "      <th>2</th>\n",
       "      <td>NaN</td>\n",
       "      <td>NaN</td>\n",
       "      <td>NaN</td>\n",
       "      <td>NaN</td>\n",
       "      <td>AUD</td>\n",
       "      <td>The signal is low pass filtered at 45 percent ...</td>\n",
       "      <td>ECoG pynwb.ecephys.ElectrodeGroup at 0x1406280...</td>\n",
       "      <td>ECoG</td>\n",
       "      <td>3000.00</td>\n",
       "      <td>1000.0</td>\n",
       "      <td>0.0</td>\n",
       "    </tr>\n",
       "    <tr>\n",
       "      <th>3</th>\n",
       "      <td>NaN</td>\n",
       "      <td>NaN</td>\n",
       "      <td>NaN</td>\n",
       "      <td>NaN</td>\n",
       "      <td>AUD</td>\n",
       "      <td>The signal is low pass filtered at 45 percent ...</td>\n",
       "      <td>ECoG pynwb.ecephys.ElectrodeGroup at 0x1406280...</td>\n",
       "      <td>ECoG</td>\n",
       "      <td>2600.00</td>\n",
       "      <td>1000.0</td>\n",
       "      <td>0.0</td>\n",
       "    </tr>\n",
       "    <tr>\n",
       "      <th>4</th>\n",
       "      <td>NaN</td>\n",
       "      <td>NaN</td>\n",
       "      <td>NaN</td>\n",
       "      <td>NaN</td>\n",
       "      <td>AUD</td>\n",
       "      <td>The signal is low pass filtered at 45 percent ...</td>\n",
       "      <td>ECoG pynwb.ecephys.ElectrodeGroup at 0x1406280...</td>\n",
       "      <td>ECoG</td>\n",
       "      <td>3000.00</td>\n",
       "      <td>1200.0</td>\n",
       "      <td>0.0</td>\n",
       "    </tr>\n",
       "    <tr>\n",
       "      <th>...</th>\n",
       "      <td>...</td>\n",
       "      <td>...</td>\n",
       "      <td>...</td>\n",
       "      <td>...</td>\n",
       "      <td>...</td>\n",
       "      <td>...</td>\n",
       "      <td>...</td>\n",
       "      <td>...</td>\n",
       "      <td>...</td>\n",
       "      <td>...</td>\n",
       "      <td>...</td>\n",
       "    </tr>\n",
       "    <tr>\n",
       "      <th>187</th>\n",
       "      <td>NaN</td>\n",
       "      <td>NaN</td>\n",
       "      <td>NaN</td>\n",
       "      <td>NaN</td>\n",
       "      <td>AUD</td>\n",
       "      <td>The signal is low pass filtered at 45 percent ...</td>\n",
       "      <td>Poly pynwb.ecephys.ElectrodeGroup at 0x1406280...</td>\n",
       "      <td>Poly</td>\n",
       "      <td>11.25</td>\n",
       "      <td>0.0</td>\n",
       "      <td>1080.0</td>\n",
       "    </tr>\n",
       "    <tr>\n",
       "      <th>188</th>\n",
       "      <td>NaN</td>\n",
       "      <td>NaN</td>\n",
       "      <td>NaN</td>\n",
       "      <td>NaN</td>\n",
       "      <td>AUD</td>\n",
       "      <td>The signal is low pass filtered at 45 percent ...</td>\n",
       "      <td>Poly pynwb.ecephys.ElectrodeGroup at 0x1406280...</td>\n",
       "      <td>Poly</td>\n",
       "      <td>11.25</td>\n",
       "      <td>0.0</td>\n",
       "      <td>900.0</td>\n",
       "    </tr>\n",
       "    <tr>\n",
       "      <th>189</th>\n",
       "      <td>NaN</td>\n",
       "      <td>NaN</td>\n",
       "      <td>NaN</td>\n",
       "      <td>NaN</td>\n",
       "      <td>AUD</td>\n",
       "      <td>The signal is low pass filtered at 45 percent ...</td>\n",
       "      <td>Poly pynwb.ecephys.ElectrodeGroup at 0x1406280...</td>\n",
       "      <td>Poly</td>\n",
       "      <td>11.25</td>\n",
       "      <td>0.0</td>\n",
       "      <td>1395.0</td>\n",
       "    </tr>\n",
       "    <tr>\n",
       "      <th>190</th>\n",
       "      <td>NaN</td>\n",
       "      <td>NaN</td>\n",
       "      <td>NaN</td>\n",
       "      <td>NaN</td>\n",
       "      <td>AUD</td>\n",
       "      <td>The signal is low pass filtered at 45 percent ...</td>\n",
       "      <td>Poly pynwb.ecephys.ElectrodeGroup at 0x1406280...</td>\n",
       "      <td>Poly</td>\n",
       "      <td>11.25</td>\n",
       "      <td>0.0</td>\n",
       "      <td>1260.0</td>\n",
       "    </tr>\n",
       "    <tr>\n",
       "      <th>191</th>\n",
       "      <td>NaN</td>\n",
       "      <td>NaN</td>\n",
       "      <td>NaN</td>\n",
       "      <td>NaN</td>\n",
       "      <td>AUD</td>\n",
       "      <td>The signal is low pass filtered at 45 percent ...</td>\n",
       "      <td>Poly pynwb.ecephys.ElectrodeGroup at 0x1406280...</td>\n",
       "      <td>Poly</td>\n",
       "      <td>-11.25</td>\n",
       "      <td>0.0</td>\n",
       "      <td>1102.5</td>\n",
       "    </tr>\n",
       "  </tbody>\n",
       "</table>\n",
       "<p>192 rows × 11 columns</p>\n",
       "</div>"
      ],
      "text/plain": [
       "      x   y   z  imp location  \\\n",
       "id                              \n",
       "0   NaN NaN NaN  NaN      AUD   \n",
       "1   NaN NaN NaN  NaN      AUD   \n",
       "2   NaN NaN NaN  NaN      AUD   \n",
       "3   NaN NaN NaN  NaN      AUD   \n",
       "4   NaN NaN NaN  NaN      AUD   \n",
       "..   ..  ..  ..  ...      ...   \n",
       "187 NaN NaN NaN  NaN      AUD   \n",
       "188 NaN NaN NaN  NaN      AUD   \n",
       "189 NaN NaN NaN  NaN      AUD   \n",
       "190 NaN NaN NaN  NaN      AUD   \n",
       "191 NaN NaN NaN  NaN      AUD   \n",
       "\n",
       "                                             filtering  \\\n",
       "id                                                       \n",
       "0    The signal is low pass filtered at 45 percent ...   \n",
       "1    The signal is low pass filtered at 45 percent ...   \n",
       "2    The signal is low pass filtered at 45 percent ...   \n",
       "3    The signal is low pass filtered at 45 percent ...   \n",
       "4    The signal is low pass filtered at 45 percent ...   \n",
       "..                                                 ...   \n",
       "187  The signal is low pass filtered at 45 percent ...   \n",
       "188  The signal is low pass filtered at 45 percent ...   \n",
       "189  The signal is low pass filtered at 45 percent ...   \n",
       "190  The signal is low pass filtered at 45 percent ...   \n",
       "191  The signal is low pass filtered at 45 percent ...   \n",
       "\n",
       "                                                 group group_name    rel_x  \\\n",
       "id                                                                           \n",
       "0    ECoG pynwb.ecephys.ElectrodeGroup at 0x1406280...       ECoG  3000.00   \n",
       "1    ECoG pynwb.ecephys.ElectrodeGroup at 0x1406280...       ECoG  2600.00   \n",
       "2    ECoG pynwb.ecephys.ElectrodeGroup at 0x1406280...       ECoG  3000.00   \n",
       "3    ECoG pynwb.ecephys.ElectrodeGroup at 0x1406280...       ECoG  2600.00   \n",
       "4    ECoG pynwb.ecephys.ElectrodeGroup at 0x1406280...       ECoG  3000.00   \n",
       "..                                                 ...        ...      ...   \n",
       "187  Poly pynwb.ecephys.ElectrodeGroup at 0x1406280...       Poly    11.25   \n",
       "188  Poly pynwb.ecephys.ElectrodeGroup at 0x1406280...       Poly    11.25   \n",
       "189  Poly pynwb.ecephys.ElectrodeGroup at 0x1406280...       Poly    11.25   \n",
       "190  Poly pynwb.ecephys.ElectrodeGroup at 0x1406280...       Poly    11.25   \n",
       "191  Poly pynwb.ecephys.ElectrodeGroup at 0x1406280...       Poly   -11.25   \n",
       "\n",
       "      rel_y   rel_z  \n",
       "id                   \n",
       "0     800.0     0.0  \n",
       "1     800.0     0.0  \n",
       "2    1000.0     0.0  \n",
       "3    1000.0     0.0  \n",
       "4    1200.0     0.0  \n",
       "..      ...     ...  \n",
       "187     0.0  1080.0  \n",
       "188     0.0   900.0  \n",
       "189     0.0  1395.0  \n",
       "190     0.0  1260.0  \n",
       "191     0.0  1102.5  \n",
       "\n",
       "[192 rows x 11 columns]"
      ]
     },
     "execution_count": 45,
     "metadata": {},
     "output_type": "execute_result"
    }
   ],
   "source": [
    "nwbfile_in.electrodes.to_dataframe()"
   ]
  },
  {
   "cell_type": "code",
   "execution_count": 20,
   "metadata": {},
   "outputs": [
    {
     "ename": "ValueError",
     "evalue": "invalid literal for int() with base 10: ''",
     "output_type": "error",
     "traceback": [
      "\u001b[0;31m---------------------------------------------------------------------------\u001b[0m",
      "\u001b[0;31mValueError\u001b[0m                                Traceback (most recent call last)",
      "\u001b[0;32m<ipython-input-20-30f3817d8ba9>\u001b[0m in \u001b[0;36m<module>\u001b[0;34m\u001b[0m\n\u001b[0;32m----> 1\u001b[0;31m \u001b[0mch_ids\u001b[0m \u001b[0;34m=\u001b[0m \u001b[0mnp\u001b[0m\u001b[0;34m.\u001b[0m\u001b[0marray\u001b[0m\u001b[0;34m(\u001b[0m\u001b[0;34m[\u001b[0m\u001b[0mint\u001b[0m\u001b[0;34m(\u001b[0m\u001b[0mch\u001b[0m\u001b[0;34m)\u001b[0m \u001b[0;32mfor\u001b[0m \u001b[0mch\u001b[0m \u001b[0;32min\u001b[0m \u001b[0mnwbfile_in\u001b[0m\u001b[0;34m.\u001b[0m\u001b[0melectrodes\u001b[0m\u001b[0;34m.\u001b[0m\u001b[0mlocation\u001b[0m\u001b[0;34m.\u001b[0m\u001b[0mdata\u001b[0m\u001b[0;34m[\u001b[0m\u001b[0mdevice_idx\u001b[0m\u001b[0;34m]\u001b[0m\u001b[0;34m]\u001b[0m\u001b[0;34m)\u001b[0m\u001b[0;34m\u001b[0m\u001b[0;34m\u001b[0m\u001b[0m\n\u001b[0m",
      "\u001b[0;32m<ipython-input-20-30f3817d8ba9>\u001b[0m in \u001b[0;36m<listcomp>\u001b[0;34m(.0)\u001b[0m\n\u001b[0;32m----> 1\u001b[0;31m \u001b[0mch_ids\u001b[0m \u001b[0;34m=\u001b[0m \u001b[0mnp\u001b[0m\u001b[0;34m.\u001b[0m\u001b[0marray\u001b[0m\u001b[0;34m(\u001b[0m\u001b[0;34m[\u001b[0m\u001b[0mint\u001b[0m\u001b[0;34m(\u001b[0m\u001b[0mch\u001b[0m\u001b[0;34m)\u001b[0m \u001b[0;32mfor\u001b[0m \u001b[0mch\u001b[0m \u001b[0;32min\u001b[0m \u001b[0mnwbfile_in\u001b[0m\u001b[0;34m.\u001b[0m\u001b[0melectrodes\u001b[0m\u001b[0;34m.\u001b[0m\u001b[0mlocation\u001b[0m\u001b[0;34m.\u001b[0m\u001b[0mdata\u001b[0m\u001b[0;34m[\u001b[0m\u001b[0mdevice_idx\u001b[0m\u001b[0;34m]\u001b[0m\u001b[0;34m]\u001b[0m\u001b[0;34m)\u001b[0m\u001b[0;34m\u001b[0m\u001b[0;34m\u001b[0m\u001b[0m\n\u001b[0m",
      "\u001b[0;31mValueError\u001b[0m: invalid literal for int() with base 10: ''"
     ]
    }
   ],
   "source": [
    "ch_ids = np.array([int(ch) for ch in nwbfile_in.electrodes.location.data[device_idx]])"
   ]
  },
  {
   "cell_type": "code",
   "execution_count": 22,
   "metadata": {},
   "outputs": [
    {
     "data": {
      "text/plain": [
       "array(['', '', '', '', '', '', '', '', '', '', '', '', '', '', '', '', '',\n",
       "       '', '', '', '', '', '', '', '', '', '', '', '', '', '', '', '', '',\n",
       "       '', '', '', '', '', '', '', '', '', '', '', '', '', '', '', '', '',\n",
       "       '', '', '', '', '', '', '', '', '', '', '', '', '', '', '', '', '',\n",
       "       '', '', '', '', '', '', '', '', '', '', '', '', '', '', '', '', '',\n",
       "       '', '', '', '', '', '', '', '', '', '', '', '', '', '', '', '', '',\n",
       "       '', '', '', '', '', '', '', '', '', '', '', '', '', '', '', '', '',\n",
       "       '', '', '', '', '', '', '', '', '', '', '', '', '', '', '', '', '',\n",
       "       '', '', '', '', '', '', '', '', '', '', '', '', '', '', '', '', '',\n",
       "       '', '', '', '', '', '', '', '', '', '', '', '', '', '', '', '', '',\n",
       "       '', '', '', '', '', '', '', '', '', '', '', '', '', '', '', '', '',\n",
       "       '', '', '', '', ''], dtype=object)"
      ]
     },
     "execution_count": 22,
     "metadata": {},
     "output_type": "execute_result"
    }
   ],
   "source": [
    "nwbfile_in.electrodes.location.data[:]"
   ]
  },
  {
   "cell_type": "code",
   "execution_count": null,
   "metadata": {},
   "outputs": [],
   "source": []
  },
  {
   "cell_type": "code",
   "execution_count": 85,
   "metadata": {},
   "outputs": [
    {
     "data": {
      "text/plain": [
       "trials pynwb.epoch.TimeIntervals at 0x140482394036736\n",
       "Fields:\n",
       "  colnames: ['start_time' 'stop_time' 'sb' 'frq' 'amp']\n",
       "  columns: (\n",
       "    start_time <class 'hdmf.common.table.VectorData'>,\n",
       "    stop_time <class 'hdmf.common.table.VectorData'>,\n",
       "    sb <class 'hdmf.common.table.VectorData'>,\n",
       "    frq <class 'hdmf.common.table.VectorData'>,\n",
       "    amp <class 'hdmf.common.table.VectorData'>\n",
       "  )\n",
       "  description: experimental trials\n",
       "  id: id <class 'hdmf.common.table.ElementIdentifiers'>"
      ]
     },
     "execution_count": 85,
     "metadata": {},
     "output_type": "execute_result"
    }
   ],
   "source": [
    "nwbfile_in.trials"
   ]
  },
  {
   "cell_type": "code",
   "execution_count": 102,
   "metadata": {},
   "outputs": [
    {
     "data": {
      "text/html": [
       "<div>\n",
       "<style scoped>\n",
       "    .dataframe tbody tr th:only-of-type {\n",
       "        vertical-align: middle;\n",
       "    }\n",
       "\n",
       "    .dataframe tbody tr th {\n",
       "        vertical-align: top;\n",
       "    }\n",
       "\n",
       "    .dataframe thead th {\n",
       "        text-align: right;\n",
       "    }\n",
       "</style>\n",
       "<table border=\"1\" class=\"dataframe\">\n",
       "  <thead>\n",
       "    <tr style=\"text-align: right;\">\n",
       "      <th></th>\n",
       "      <th>start_time</th>\n",
       "      <th>stop_time</th>\n",
       "      <th>sb</th>\n",
       "      <th>frq</th>\n",
       "      <th>amp</th>\n",
       "    </tr>\n",
       "    <tr>\n",
       "      <th>id</th>\n",
       "      <th></th>\n",
       "      <th></th>\n",
       "      <th></th>\n",
       "      <th></th>\n",
       "      <th></th>\n",
       "    </tr>\n",
       "  </thead>\n",
       "  <tbody>\n",
       "    <tr>\n",
       "      <th>1</th>\n",
       "      <td>12.334735</td>\n",
       "      <td>12.384735</td>\n",
       "      <td>s</td>\n",
       "      <td>500</td>\n",
       "      <td>6</td>\n",
       "    </tr>\n",
       "    <tr>\n",
       "      <th>3</th>\n",
       "      <td>12.634726</td>\n",
       "      <td>12.684726</td>\n",
       "      <td>s</td>\n",
       "      <td>3175</td>\n",
       "      <td>6</td>\n",
       "    </tr>\n",
       "    <tr>\n",
       "      <th>5</th>\n",
       "      <td>12.934758</td>\n",
       "      <td>12.984758</td>\n",
       "      <td>s</td>\n",
       "      <td>12699</td>\n",
       "      <td>8</td>\n",
       "    </tr>\n",
       "    <tr>\n",
       "      <th>7</th>\n",
       "      <td>13.234749</td>\n",
       "      <td>13.284749</td>\n",
       "      <td>s</td>\n",
       "      <td>794</td>\n",
       "      <td>6</td>\n",
       "    </tr>\n",
       "    <tr>\n",
       "      <th>9</th>\n",
       "      <td>13.534740</td>\n",
       "      <td>13.584740</td>\n",
       "      <td>s</td>\n",
       "      <td>32000</td>\n",
       "      <td>4</td>\n",
       "    </tr>\n",
       "    <tr>\n",
       "      <th>...</th>\n",
       "      <td>...</td>\n",
       "      <td>...</td>\n",
       "      <td>...</td>\n",
       "      <td>...</td>\n",
       "      <td>...</td>\n",
       "    </tr>\n",
       "    <tr>\n",
       "      <th>591</th>\n",
       "      <td>100.835164</td>\n",
       "      <td>100.885164</td>\n",
       "      <td>s</td>\n",
       "      <td>12699</td>\n",
       "      <td>6</td>\n",
       "    </tr>\n",
       "    <tr>\n",
       "      <th>593</th>\n",
       "      <td>101.135196</td>\n",
       "      <td>101.185196</td>\n",
       "      <td>s</td>\n",
       "      <td>8000</td>\n",
       "      <td>6</td>\n",
       "    </tr>\n",
       "    <tr>\n",
       "      <th>595</th>\n",
       "      <td>101.435187</td>\n",
       "      <td>101.485187</td>\n",
       "      <td>s</td>\n",
       "      <td>1260</td>\n",
       "      <td>6</td>\n",
       "    </tr>\n",
       "    <tr>\n",
       "      <th>597</th>\n",
       "      <td>101.735178</td>\n",
       "      <td>101.785178</td>\n",
       "      <td>s</td>\n",
       "      <td>20159</td>\n",
       "      <td>4</td>\n",
       "    </tr>\n",
       "    <tr>\n",
       "      <th>599</th>\n",
       "      <td>102.035169</td>\n",
       "      <td>102.085169</td>\n",
       "      <td>s</td>\n",
       "      <td>2000</td>\n",
       "      <td>6</td>\n",
       "    </tr>\n",
       "  </tbody>\n",
       "</table>\n",
       "<p>300 rows × 5 columns</p>\n",
       "</div>"
      ],
      "text/plain": [
       "     start_time   stop_time sb    frq amp\n",
       "id                                       \n",
       "1     12.334735   12.384735  s    500   6\n",
       "3     12.634726   12.684726  s   3175   6\n",
       "5     12.934758   12.984758  s  12699   8\n",
       "7     13.234749   13.284749  s    794   6\n",
       "9     13.534740   13.584740  s  32000   4\n",
       "..          ...         ... ..    ...  ..\n",
       "591  100.835164  100.885164  s  12699   6\n",
       "593  101.135196  101.185196  s   8000   6\n",
       "595  101.435187  101.485187  s   1260   6\n",
       "597  101.735178  101.785178  s  20159   4\n",
       "599  102.035169  102.085169  s   2000   6\n",
       "\n",
       "[300 rows x 5 columns]"
      ]
     },
     "execution_count": 102,
     "metadata": {},
     "output_type": "execute_result"
    }
   ],
   "source": [
    "df = nwbfile_in.trials.to_dataframe()\n",
    "# df = df[df[\"sb\"] == \"s\"]\n",
    "df_s = df[df[\"sb\"] == \"s\"]\n",
    "df_s"
   ]
  },
  {
   "cell_type": "code",
   "execution_count": 95,
   "metadata": {},
   "outputs": [
    {
     "data": {
      "text/plain": [
       "True"
      ]
     },
     "execution_count": 95,
     "metadata": {},
     "output_type": "execute_result"
    }
   ],
   "source": [
    "nwbfile_in.trials and 'sb' in nwbfile_in.trials.colnames"
   ]
  },
  {
   "cell_type": "code",
   "execution_count": 94,
   "metadata": {},
   "outputs": [
    {
     "data": {
      "text/plain": [
       "True"
      ]
     },
     "execution_count": 94,
     "metadata": {},
     "output_type": "execute_result"
    }
   ],
   "source": [
    "'sb' in nwbfile_in.trials.colnames"
   ]
  },
  {
   "cell_type": "code",
   "execution_count": 222,
   "metadata": {},
   "outputs": [],
   "source": [
    "onsets = df.iloc[:, [0,2]]"
   ]
  },
  {
   "cell_type": "code",
   "execution_count": 227,
   "metadata": {},
   "outputs": [],
   "source": [
    "markers = onsets['start_time'].to_list()"
   ]
  },
  {
   "cell_type": "code",
   "execution_count": 229,
   "metadata": {},
   "outputs": [],
   "source": [
    "marker_onsets = [int(x*fs+fs_stim_delay) for x in markers]"
   ]
  },
  {
   "cell_type": "code",
   "execution_count": 230,
   "metadata": {},
   "outputs": [
    {
     "data": {
      "text/plain": [
       "[218138,\n",
       " 230345,\n",
       " 242552,\n",
       " 254759,\n",
       " 266966,\n",
       " 279174,\n",
       " 291381,\n",
       " 303588,\n",
       " 315795,\n",
       " 328002,\n",
       " 340209,\n",
       " 352416,\n",
       " 364623,\n",
       " 376830,\n",
       " 389037,\n",
       " 401244,\n",
       " 413452,\n",
       " 425659,\n",
       " 437866,\n",
       " 450073,\n",
       " 462280,\n",
       " 474487,\n",
       " 486694,\n",
       " 498901,\n",
       " 511108,\n",
       " 523315,\n",
       " 535523,\n",
       " 547730,\n",
       " 559937,\n",
       " 572144,\n",
       " 584351,\n",
       " 596558,\n",
       " 608765,\n",
       " 620972,\n",
       " 633179,\n",
       " 645386,\n",
       " 657593,\n",
       " 669801,\n",
       " 682008,\n",
       " 694215,\n",
       " 706422,\n",
       " 718629,\n",
       " 730836,\n",
       " 743043,\n",
       " 755250,\n",
       " 767457,\n",
       " 779664,\n",
       " 791872,\n",
       " 804079,\n",
       " 816286,\n",
       " 828493,\n",
       " 840700,\n",
       " 852907,\n",
       " 865114,\n",
       " 877321,\n",
       " 889528,\n",
       " 901735,\n",
       " 913942,\n",
       " 926150]"
      ]
     },
     "execution_count": 230,
     "metadata": {},
     "output_type": "execute_result"
    }
   ],
   "source": [
    "marker_onsets"
   ]
  },
  {
   "cell_type": "code",
   "execution_count": 228,
   "metadata": {},
   "outputs": [],
   "source": [
    "fs_stim_delay = .25* fs"
   ]
  },
  {
   "cell_type": "code",
   "execution_count": 11,
   "metadata": {},
   "outputs": [],
   "source": [
    "data = nwbfile_in.acquisition['ECoG'].data"
   ]
  },
  {
   "cell_type": "code",
   "execution_count": 43,
   "metadata": {},
   "outputs": [
    {
     "data": {
      "text/plain": [
       "978944"
      ]
     },
     "execution_count": 43,
     "metadata": {},
     "output_type": "execute_result"
    }
   ],
   "source": [
    "data.shape[0]"
   ]
  },
  {
   "cell_type": "code",
   "execution_count": 40,
   "metadata": {},
   "outputs": [
    {
     "data": {
      "text/plain": [
       "12207.03125"
      ]
     },
     "execution_count": 40,
     "metadata": {},
     "output_type": "execute_result"
    }
   ],
   "source": [
    "fs = nwbfile_in.acquisition['ECoG'].rate\n",
    "fs"
   ]
  },
  {
   "cell_type": "code",
   "execution_count": 123,
   "metadata": {},
   "outputs": [
    {
     "data": {
      "text/plain": [
       "980992"
      ]
     },
     "execution_count": 123,
     "metadata": {},
     "output_type": "execute_result"
    }
   ],
   "source": [
    "mark_data = nwbfile_in.stimulus['recorded_mark'].data\n",
    "len(mark_data)"
   ]
  },
  {
   "cell_type": "code",
   "execution_count": 129,
   "metadata": {},
   "outputs": [
    {
     "data": {
      "text/plain": [
       "12207.03125"
      ]
     },
     "execution_count": 129,
     "metadata": {},
     "output_type": "execute_result"
    }
   ],
   "source": [
    "mark_fs = nwbfile_in.stimulus['recorded_mark'].rate\n",
    "mark_fs"
   ]
  },
  {
   "cell_type": "code",
   "execution_count": 52,
   "metadata": {},
   "outputs": [],
   "source": [
    "mark_offset = 0.25"
   ]
  },
  {
   "cell_type": "code",
   "execution_count": 53,
   "metadata": {},
   "outputs": [],
   "source": [
    "stim_duration = 0.1"
   ]
  },
  {
   "cell_type": "code",
   "execution_count": 56,
   "metadata": {},
   "outputs": [
    {
     "data": {
      "text/plain": [
       "12207.03125"
      ]
     },
     "execution_count": 56,
     "metadata": {},
     "output_type": "execute_result"
    }
   ],
   "source": [
    "mark_fs"
   ]
  },
  {
   "cell_type": "markdown",
   "metadata": {},
   "source": [
    "Vanessa Practice"
   ]
  },
  {
   "cell_type": "code",
   "execution_count": 44,
   "metadata": {},
   "outputs": [],
   "source": [
    "end_time = data.shape[0] / fs"
   ]
  },
  {
   "cell_type": "code",
   "execution_count": 50,
   "metadata": {},
   "outputs": [],
   "source": [
    "# np.arange(0.5, end_time, 1.0)"
   ]
  },
  {
   "cell_type": "code",
   "execution_count": 128,
   "metadata": {},
   "outputs": [
    {
     "data": {
      "text/plain": [
       "1220.703125"
      ]
     },
     "execution_count": 128,
     "metadata": {},
     "output_type": "execute_result"
    }
   ],
   "source": [
    "stim_dur_samp = stim_duration*mark_fs\n",
    "stim_dur_samp"
   ]
  },
  {
   "cell_type": "code",
   "execution_count": 59,
   "metadata": {},
   "outputs": [],
   "source": [
    "mark_threshold = 0.3"
   ]
  },
  {
   "cell_type": "code",
   "execution_count": 158,
   "metadata": {},
   "outputs": [
    {
     "data": {
      "text/plain": [
       "(980992,)"
      ]
     },
     "execution_count": 158,
     "metadata": {},
     "output_type": "execute_result"
    }
   ],
   "source": [
    "idk = mark_data[:] > mark_threshold\n",
    "idk.shape"
   ]
  },
  {
   "cell_type": "code",
   "execution_count": 167,
   "metadata": {},
   "outputs": [],
   "source": [
    "thresh_crossings = np.diff( (idk).astype('int'), axis=0 )"
   ]
  },
  {
   "cell_type": "code",
   "execution_count": 163,
   "metadata": {},
   "outputs": [
    {
     "data": {
      "text/plain": [
       "(980991,)"
      ]
     },
     "execution_count": 163,
     "metadata": {},
     "output_type": "execute_result"
    }
   ],
   "source": [
    "thresh_crossings.shape"
   ]
  },
  {
   "cell_type": "code",
   "execution_count": 134,
   "metadata": {},
   "outputs": [],
   "source": [
    "new_thresh_crossings = np.r_[idk[0], thresh_crossings].cumsum()"
   ]
  },
  {
   "cell_type": "code",
   "execution_count": 221,
   "metadata": {},
   "outputs": [
    {
     "data": {
      "text/plain": [
       "array([212035, 224242, 236449, 248656, 260863, 273071, 285278, 297485,\n",
       "       309692, 321899, 334106, 346313, 358520, 370727, 382934, 395141,\n",
       "       407349, 419556, 431763, 443970, 456177, 468384, 480591, 492798,\n",
       "       505005, 517212, 529420, 541627, 553834, 566041, 578248, 590455,\n",
       "       602662, 614869, 627076, 639283, 651490, 663698, 675905, 688112,\n",
       "       700319, 712526, 724733, 736940, 749147, 761354, 773561, 785769,\n",
       "       797976, 810183, 822390, 834597, 846804, 859011, 871218, 883425,\n",
       "       895632, 907839, 920047])"
      ]
     },
     "execution_count": 221,
     "metadata": {},
     "output_type": "execute_result"
    }
   ],
   "source": [
    "stim_onsets = np.where(thresh_crossings > 0.5)[0] + 1\n",
    "stim_onsets"
   ]
  },
  {
   "cell_type": "code",
   "execution_count": 181,
   "metadata": {},
   "outputs": [
    {
     "data": {
      "text/plain": [
       "[212035]"
      ]
     },
     "execution_count": 181,
     "metadata": {},
     "output_type": "execute_result"
    }
   ],
   "source": [
    "real_stim_onsets = [stim_onsets[0]]\n",
    "real_stim_onsets"
   ]
  },
  {
   "cell_type": "code",
   "execution_count": 192,
   "metadata": {},
   "outputs": [],
   "source": [
    "for stim_onset in stim_onsets[1:]:\n",
    "        # Check that each stim onset is more than 2x the stimulus duration since the previous\n",
    "        if stim_onset > real_stim_onsets[-1] + 2*stim_dur_samp:\n",
    "            real_stim_onsets.append(stim_onset)"
   ]
  },
  {
   "cell_type": "code",
   "execution_count": 193,
   "metadata": {},
   "outputs": [
    {
     "name": "stdout",
     "output_type": "stream",
     "text": [
      "WARNING\n"
     ]
    }
   ],
   "source": [
    "if len(real_stim_onsets) != 60:\n",
    "        print(\"WARNING\")"
   ]
  },
  {
   "cell_type": "code",
   "execution_count": 220,
   "metadata": {},
   "outputs": [
    {
     "data": {
      "text/plain": [
       "array([17.3699072 , 18.36990464, 19.36990208, 20.36989952, 21.36989696,\n",
       "       22.36997632, 23.36997376, 24.3699712 , 25.36996864, 26.36996608,\n",
       "       27.36996352, 28.36996096, 29.3699584 , 30.36995584, 31.36995328,\n",
       "       32.36995072, 33.37003008, 34.37002752, 35.37002496, 36.3700224 ,\n",
       "       37.37001984, 38.37001728, 39.37001472, 40.37001216, 41.3700096 ,\n",
       "       42.37000704, 43.3700864 , 44.37008384, 45.37008128, 46.37007872,\n",
       "       47.37007616, 48.3700736 , 49.37007104, 50.37006848, 51.37006592,\n",
       "       52.37006336, 53.3700608 , 54.37014016, 55.3701376 , 56.37013504,\n",
       "       57.37013248, 58.37012992, 59.37012736, 60.3701248 , 61.37012224,\n",
       "       62.37011968, 63.37011712, 64.37019648, 65.37019392, 66.37019136,\n",
       "       67.3701888 , 68.37018624, 69.37018368, 70.37018112, 71.37017856,\n",
       "       72.370176  , 73.37017344, 74.37017088, 75.37025024])"
      ]
     },
     "execution_count": 220,
     "metadata": {},
     "output_type": "execute_result"
    }
   ],
   "source": [
    "markers = (real_stim_onsets / mark_fs)\n",
    "markers"
   ]
  },
  {
   "cell_type": "code",
   "execution_count": 169,
   "metadata": {},
   "outputs": [
    {
     "data": {
      "text/plain": [
       "(59,)"
      ]
     },
     "execution_count": 169,
     "metadata": {},
     "output_type": "execute_result"
    }
   ],
   "source": [
    "markers.shape"
   ]
  },
  {
   "cell_type": "code",
   "execution_count": 176,
   "metadata": {},
   "outputs": [],
   "source": [
    "a = np.array([2,3,4])"
   ]
  },
  {
   "cell_type": "code",
   "execution_count": 177,
   "metadata": {},
   "outputs": [
    {
     "data": {
      "text/plain": [
       "array([1, 2, 3, 4])"
      ]
     },
     "execution_count": 177,
     "metadata": {},
     "output_type": "execute_result"
    }
   ],
   "source": [
    "np.insert(a, 0, 1)"
   ]
  },
  {
   "cell_type": "code",
   "execution_count": 196,
   "metadata": {},
   "outputs": [
    {
     "data": {
      "text/plain": [
       "array([16.369907  , 17.3699072 , 18.36990464, 19.36990208, 20.36989952,\n",
       "       21.36989696, 22.36997632, 23.36997376, 24.3699712 , 25.36996864,\n",
       "       26.36996608, 27.36996352, 28.36996096, 29.3699584 , 30.36995584,\n",
       "       31.36995328, 32.36995072, 33.37003008, 34.37002752, 35.37002496,\n",
       "       36.3700224 , 37.37001984, 38.37001728, 39.37001472, 40.37001216,\n",
       "       41.3700096 , 42.37000704, 43.3700864 , 44.37008384, 45.37008128,\n",
       "       46.37007872, 47.37007616, 48.3700736 , 49.37007104, 50.37006848,\n",
       "       51.37006592, 52.37006336, 53.3700608 , 54.37014016, 55.3701376 ,\n",
       "       56.37013504, 57.37013248, 58.37012992, 59.37012736, 60.3701248 ,\n",
       "       61.37012224, 62.37011968, 63.37011712, 64.37019648, 65.37019392,\n",
       "       66.37019136, 67.3701888 , 68.37018624, 69.37018368, 70.37018112,\n",
       "       71.37017856, 72.370176  , 73.37017344, 74.37017088, 75.37025024])"
      ]
     },
     "execution_count": 196,
     "metadata": {},
     "output_type": "execute_result"
    }
   ],
   "source": [
    "np.insert(markers, 0, 16.369907)"
   ]
  },
  {
   "cell_type": "code",
   "execution_count": null,
   "metadata": {},
   "outputs": [],
   "source": []
  },
  {
   "cell_type": "code",
   "execution_count": null,
   "metadata": {},
   "outputs": [],
   "source": []
  },
  {
   "cell_type": "code",
   "execution_count": 12,
   "metadata": {},
   "outputs": [],
   "source": [
    "chs_ordered = [\n",
    "       81, 83, 85, 87, 89, 91, 93, 95, 97, 105, 98, 106, 114, 122, 113, 121,\n",
    "       82, 84, 86, 88, 90, 92, 94, 96, 99, 107, 100, 108, 116, 124, 115, 123,\n",
    "       66, 68, 70, 72, 74, 76, 78, 80, 101, 109, 102, 110, 118, 126, 117, 125,\n",
    "       65, 67, 69, 71, 73, 75, 77, 79, 103, 111, 104, 112, 120, 128, 119, 127,\n",
    "       63, 61, 59, 57, 55, 53, 51, 49, 25, 17, 26, 18, 10, 2, 9, 1,\n",
    "       64, 62, 60, 58, 56, 54, 52, 50, 27, 19, 28, 20, 12, 4, 11, 3,\n",
    "       48, 46, 44, 42, 40, 38, 36, 34, 29, 21, 30, 22, 14, 6, 13, 5,\n",
    "       47, 45, 43, 41, 39, 37, 35, 33, 31, 23, 32, 24, 16, 8, 15, 7\n",
    "       ]"
   ]
  },
  {
   "cell_type": "code",
   "execution_count": 18,
   "metadata": {},
   "outputs": [],
   "source": [
    "shape_wanted = data.shape\n",
    "new_data = np.empty((shape_wanted[0], shape_wanted[1]))"
   ]
  },
  {
   "cell_type": "code",
   "execution_count": 20,
   "metadata": {},
   "outputs": [
    {
     "name": "stdout",
     "output_type": "stream",
     "text": [
      "[[-271. -262. -266. ... -158. -113. -181.]\n",
      " [-276. -263. -262. ... -152. -120. -193.]\n",
      " [-271. -257. -249. ... -201. -127. -220.]\n",
      " ...\n",
      " [  -6.   12.   40. ... -597. -556. -523.]\n",
      " [   1.   13.   37. ... -568. -530. -496.]\n",
      " [   3.   15.   35. ... -528. -500. -473.]]\n"
     ]
    }
   ],
   "source": [
    "for i in np.arange(shape_wanted[1]):\n",
    "    new_data[:, i] = data[:, (chs_ordered[i] - 1)]\n",
    "print(new_data) "
   ]
  },
  {
   "cell_type": "code",
   "execution_count": 22,
   "metadata": {},
   "outputs": [
    {
     "data": {
      "text/plain": [
       "array([-271., -262., -266., -251., -411., -292., -273., -240., -223.,\n",
       "       -111., -214., -174., -222.,  185., -189., -216., -255., -216.,\n",
       "       -336., -485., -361., -319., -303., -262., -225., -113., -221.,\n",
       "       -104., -219.,   -2., -224., -201., -208., -120., -321., -402.,\n",
       "       -395., -183., -387., -361., -100., -222., -217., -186., -204.,\n",
       "         33., -201., -223., -381., -362., -390., -409., -376., -383.,\n",
       "       -401., -379., -118., -243., -174., -238., -277.,  -17., -209.,\n",
       "       -202.,  -74.,  -84.,  -97.,  -75.,  -82.,  -73.,  -79.,  -85.,\n",
       "        -96., -109., -105., -100., -162., -129., -110., -178.,  -51.,\n",
       "        -76.,  -95.,  -84.,  -50.,  -62., -119.,  -99., -116., -133.,\n",
       "       -105., -113., -177., -109., -130., -180.,  -84.,  -49., -110.,\n",
       "        -91., -131., -106., -127.,  -89., -113., -120., -129.,  -98.,\n",
       "       -155., -114., -113., -169.,  -94.,  -84., -113.,  -98., -120.,\n",
       "        -98., -108., -106., -120., -109., -102., -102., -157., -158.,\n",
       "       -113., -181.])"
      ]
     },
     "execution_count": 22,
     "metadata": {},
     "output_type": "execute_result"
    }
   ],
   "source": [
    "new_data[0]"
   ]
  },
  {
   "cell_type": "code",
   "execution_count": null,
   "metadata": {},
   "outputs": [],
   "source": []
  },
  {
   "cell_type": "code",
   "execution_count": null,
   "metadata": {},
   "outputs": [],
   "source": []
  },
  {
   "cell_type": "code",
   "execution_count": null,
   "metadata": {},
   "outputs": [],
   "source": []
  },
  {
   "cell_type": "code",
   "execution_count": null,
   "metadata": {},
   "outputs": [],
   "source": []
  },
  {
   "cell_type": "code",
   "execution_count": null,
   "metadata": {},
   "outputs": [],
   "source": []
  },
  {
   "cell_type": "code",
   "execution_count": null,
   "metadata": {},
   "outputs": [],
   "source": []
  },
  {
   "cell_type": "code",
   "execution_count": null,
   "metadata": {},
   "outputs": [],
   "source": []
  },
  {
   "cell_type": "code",
   "execution_count": null,
   "metadata": {},
   "outputs": [],
   "source": []
  },
  {
   "cell_type": "code",
   "execution_count": null,
   "metadata": {},
   "outputs": [],
   "source": []
  },
  {
   "cell_type": "code",
   "execution_count": null,
   "metadata": {},
   "outputs": [],
   "source": []
  },
  {
   "cell_type": "code",
   "execution_count": 24,
   "metadata": {},
   "outputs": [],
   "source": [
    "one_timepoint = nwbfile_in.acquisition['ECoG'].data[:, :]"
   ]
  },
  {
   "cell_type": "code",
   "execution_count": 25,
   "metadata": {
    "scrolled": true
   },
   "outputs": [
    {
     "data": {
      "text/plain": [
       "(17860806, 128)"
      ]
     },
     "execution_count": 25,
     "metadata": {},
     "output_type": "execute_result"
    }
   ],
   "source": [
    "one_timepoint.shape"
   ]
  },
  {
   "cell_type": "code",
   "execution_count": 28,
   "metadata": {},
   "outputs": [
    {
     "data": {
      "text/plain": [
       "1463.15722752"
      ]
     },
     "execution_count": 28,
     "metadata": {},
     "output_type": "execute_result"
    }
   ],
   "source": [
    "17860806/nwbfile_in.acquisition['ECoG'].rate"
   ]
  },
  {
   "cell_type": "code",
   "execution_count": 29,
   "metadata": {},
   "outputs": [
    {
     "data": {
      "text/plain": [
       "24.383333333333333"
      ]
     },
     "execution_count": 29,
     "metadata": {},
     "output_type": "execute_result"
    }
   ],
   "source": [
    "1463/60"
   ]
  },
  {
   "cell_type": "code",
   "execution_count": null,
   "metadata": {},
   "outputs": [],
   "source": [
    "nwbfile_in.stimulus['recorded_mark']"
   ]
  },
  {
   "cell_type": "code",
   "execution_count": 30,
   "metadata": {},
   "outputs": [],
   "source": [
    "io1 = NWBHDF5IO('/Users/macproizzy/Desktop/R56_B13/R56_B13.nwb', 'r')\n",
    "nwbfile_in1 = io1.read()"
   ]
  },
  {
   "cell_type": "code",
   "execution_count": 31,
   "metadata": {
    "scrolled": true
   },
   "outputs": [
    {
     "data": {
      "text/plain": [
       "root pynwb.file.NWBFile at 0x140587758073216\n",
       "Fields:\n",
       "  acquisition: {\n",
       "    Raw <class 'pynwb.ecephys.LFP'>\n",
       "  }\n",
       "  devices: {\n",
       "    ECoG <class 'pynwb.device.Device'>,\n",
       "    Poly <class 'pynwb.device.Device'>\n",
       "  }\n",
       "  electrode_groups: {\n",
       "    ECoG <class 'pynwb.ecephys.ElectrodeGroup'>,\n",
       "    Poly <class 'pynwb.ecephys.ElectrodeGroup'>\n",
       "  }\n",
       "  electrodes: electrodes <class 'hdmf.common.table.DynamicTable'>\n",
       "  experiment_description: wn2 Stimulus Experiment\n",
       "  experimenter: ['Max Dougherty']\n",
       "  file_create_date: [datetime.datetime(2020, 12, 1, 12, 54, 12, 164816, tzinfo=tzoffset(None, -28800))]\n",
       "  identifier: R56_B13\n",
       "  institution: Lawrence Berkeley National Laboratory\n",
       "  intervals: {\n",
       "    trials <class 'pynwb.epoch.TimeIntervals'>\n",
       "  }\n",
       "  lab: Bouchard Lab\n",
       "  notes: TODO\n",
       "  pharmacology: TODO\n",
       "  processing: {\n",
       "    ECoG <class 'pynwb.base.ProcessingModule'>,\n",
       "    Hilb_54bands <class 'pynwb.base.ProcessingModule'>,\n",
       "    tMUA <class 'pynwb.base.ProcessingModule'>,\n",
       "    tMUA_rate <class 'pynwb.base.ProcessingModule'>\n",
       "  }\n",
       "  session_description: foo\n",
       "  session_id: R56_B13\n",
       "  session_start_time: 2020-12-01 12:54:12.164813-08:00\n",
       "  stimulus: {\n",
       "    recorded_mark <class 'pynwb.base.TimeSeries'>,\n",
       "    recorded_stim <class 'pynwb.base.TimeSeries'>\n",
       "  }\n",
       "  surgery: Acute Craniotomy\n",
       "  timestamps_reference_time: 2020-12-01 12:54:12.164813-08:00\n",
       "  trials: trials <class 'pynwb.epoch.TimeIntervals'>"
      ]
     },
     "execution_count": 31,
     "metadata": {},
     "output_type": "execute_result"
    }
   ],
   "source": [
    "nwbfile_in1"
   ]
  },
  {
   "cell_type": "code",
   "execution_count": 38,
   "metadata": {},
   "outputs": [
    {
     "data": {
      "text/plain": [
       "{'ECoG': ECoG pynwb.misc.DecompositionSeries at 0x140587755856320\n",
       " Fields:\n",
       "   bands: bands <class 'hdmf.common.table.DynamicTable'>\n",
       "   comments: no comments\n",
       "   conversion: 1.0\n",
       "   data: <HDF5 dataset \"data\": shape (29367, 128, 54), type \"<f4\">\n",
       "   description: processed data\n",
       "   metric: amplitude\n",
       "   rate: 400.0\n",
       "   resolution: 0.0\n",
       "   source_timeseries: ECoG pynwb.ecephys.ElectricalSeries at 0x140587754326960\n",
       " Fields:\n",
       "   comments: no comments\n",
       "   conversion: 1.0\n",
       "   data: <HDF5 dataset \"data\": shape (448099, 128), type \"<f4\">\n",
       "   description: no description\n",
       "   electrodes: electrodes <class 'hdmf.common.table.DynamicTableRegion'>\n",
       "   rate: 6103.515625\n",
       "   resolution: 0.0\n",
       "   starting_time: 0.0\n",
       "   starting_time_unit: seconds\n",
       "   unit: volts\n",
       " \n",
       "   starting_time: 0.0\n",
       "   starting_time_unit: seconds\n",
       "   unit: no unit}"
      ]
     },
     "execution_count": 38,
     "metadata": {},
     "output_type": "execute_result"
    }
   ],
   "source": [
    "nwbfile_in1.processing['Hilb_54bands'].data_interfaces"
   ]
  },
  {
   "cell_type": "code",
   "execution_count": 32,
   "metadata": {
    "scrolled": true
   },
   "outputs": [
    {
     "data": {
      "text/plain": [
       "Raw pynwb.ecephys.LFP at 0x140587758259264\n",
       "Fields:\n",
       "  electrical_series: {\n",
       "    ECoG <class 'pynwb.ecephys.ElectricalSeries'>,\n",
       "    Poly <class 'pynwb.ecephys.ElectricalSeries'>\n",
       "  }"
      ]
     },
     "execution_count": 32,
     "metadata": {},
     "output_type": "execute_result"
    }
   ],
   "source": [
    "nwbfile_in1.acquisition['Raw']"
   ]
  },
  {
   "cell_type": "code",
   "execution_count": 34,
   "metadata": {},
   "outputs": [
    {
     "data": {
      "text/plain": [
       "<HDF5 dataset \"data\": shape (1792394, 64), type \"<f4\">"
      ]
     },
     "execution_count": 34,
     "metadata": {},
     "output_type": "execute_result"
    }
   ],
   "source": [
    "nwbfile_in1.acquisition['Raw']['Poly'].data"
   ]
  },
  {
   "cell_type": "code",
   "execution_count": null,
   "metadata": {},
   "outputs": [],
   "source": [
    "nwbfile_in1.processing['tMUA_rate'].data_interfaces['ECoG']"
   ]
  }
 ],
 "metadata": {
  "kernelspec": {
   "display_name": "Python 3",
   "language": "python",
   "name": "python3"
  },
  "language_info": {
   "codemirror_mode": {
    "name": "ipython",
    "version": 3
   },
   "file_extension": ".py",
   "mimetype": "text/x-python",
   "name": "python",
   "nbconvert_exporter": "python",
   "pygments_lexer": "ipython3",
   "version": "3.8.5"
  }
 },
 "nbformat": 4,
 "nbformat_minor": 4
}
