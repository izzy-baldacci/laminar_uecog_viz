{
 "cells": [
  {
   "cell_type": "markdown",
   "metadata": {},
   "source": [
    "# NWB exploration"
   ]
  },
  {
   "cell_type": "code",
   "execution_count": 264,
   "metadata": {},
   "outputs": [],
   "source": [
    "from pynwb import NWBHDF5IO\n",
    "import numpy as np "
   ]
  },
  {
   "cell_type": "code",
   "execution_count": 266,
   "metadata": {},
   "outputs": [],
   "source": [
    "#change pathway as needed\n",
    "io = NWBHDF5IO('/Users/vanessagutierrez/Desktop/NWB_Test/RVG06/RVG06_B03.nwb', 'r')\n",
    "nwbfile_in = io.read()"
   ]
  },
  {
   "cell_type": "code",
   "execution_count": 243,
   "metadata": {},
   "outputs": [
    {
     "data": {
      "text/plain": [
       "Poly pynwb.ecephys.ElectrodeGroup at 0x140514418212528\n",
       "Fields:\n",
       "  description: 64-ch Poly from NeuroNexus\n",
       "  device: Poly pynwb.device.Device at 0x140514418210320\n",
       "Fields:\n",
       "  manufacturer: NeuroNexus\n"
      ]
     },
     "execution_count": 243,
     "metadata": {},
     "output_type": "execute_result"
    }
   ],
   "source": [
    "nwbfile_in.electrode_groups['Poly']"
   ]
  },
  {
   "cell_type": "code",
   "execution_count": 218,
   "metadata": {},
   "outputs": [
    {
     "data": {
      "text/html": [
       "<div>\n",
       "<style scoped>\n",
       "    .dataframe tbody tr th:only-of-type {\n",
       "        vertical-align: middle;\n",
       "    }\n",
       "\n",
       "    .dataframe tbody tr th {\n",
       "        vertical-align: top;\n",
       "    }\n",
       "\n",
       "    .dataframe thead th {\n",
       "        text-align: right;\n",
       "    }\n",
       "</style>\n",
       "<table border=\"1\" class=\"dataframe\">\n",
       "  <thead>\n",
       "    <tr style=\"text-align: right;\">\n",
       "      <th></th>\n",
       "      <th>start_time</th>\n",
       "      <th>stop_time</th>\n",
       "      <th>sb</th>\n",
       "    </tr>\n",
       "    <tr>\n",
       "      <th>id</th>\n",
       "      <th></th>\n",
       "      <th></th>\n",
       "      <th></th>\n",
       "    </tr>\n",
       "  </thead>\n",
       "  <tbody>\n",
       "    <tr>\n",
       "      <th>0</th>\n",
       "      <td>17.619907</td>\n",
       "      <td>17.719907</td>\n",
       "      <td>s</td>\n",
       "    </tr>\n",
       "    <tr>\n",
       "      <th>2</th>\n",
       "      <td>18.619905</td>\n",
       "      <td>18.719905</td>\n",
       "      <td>s</td>\n",
       "    </tr>\n",
       "    <tr>\n",
       "      <th>4</th>\n",
       "      <td>19.619902</td>\n",
       "      <td>19.719902</td>\n",
       "      <td>s</td>\n",
       "    </tr>\n",
       "    <tr>\n",
       "      <th>6</th>\n",
       "      <td>20.619900</td>\n",
       "      <td>20.719900</td>\n",
       "      <td>s</td>\n",
       "    </tr>\n",
       "    <tr>\n",
       "      <th>8</th>\n",
       "      <td>21.619897</td>\n",
       "      <td>21.719897</td>\n",
       "      <td>s</td>\n",
       "    </tr>\n",
       "    <tr>\n",
       "      <th>10</th>\n",
       "      <td>22.619976</td>\n",
       "      <td>22.719976</td>\n",
       "      <td>s</td>\n",
       "    </tr>\n",
       "    <tr>\n",
       "      <th>12</th>\n",
       "      <td>23.619974</td>\n",
       "      <td>23.719974</td>\n",
       "      <td>s</td>\n",
       "    </tr>\n",
       "    <tr>\n",
       "      <th>14</th>\n",
       "      <td>24.619971</td>\n",
       "      <td>24.719971</td>\n",
       "      <td>s</td>\n",
       "    </tr>\n",
       "    <tr>\n",
       "      <th>16</th>\n",
       "      <td>25.619969</td>\n",
       "      <td>25.719969</td>\n",
       "      <td>s</td>\n",
       "    </tr>\n",
       "    <tr>\n",
       "      <th>18</th>\n",
       "      <td>26.619966</td>\n",
       "      <td>26.719966</td>\n",
       "      <td>s</td>\n",
       "    </tr>\n",
       "    <tr>\n",
       "      <th>20</th>\n",
       "      <td>27.619964</td>\n",
       "      <td>27.719964</td>\n",
       "      <td>s</td>\n",
       "    </tr>\n",
       "    <tr>\n",
       "      <th>22</th>\n",
       "      <td>28.619961</td>\n",
       "      <td>28.719961</td>\n",
       "      <td>s</td>\n",
       "    </tr>\n",
       "    <tr>\n",
       "      <th>24</th>\n",
       "      <td>29.619958</td>\n",
       "      <td>29.719958</td>\n",
       "      <td>s</td>\n",
       "    </tr>\n",
       "    <tr>\n",
       "      <th>26</th>\n",
       "      <td>30.619956</td>\n",
       "      <td>30.719956</td>\n",
       "      <td>s</td>\n",
       "    </tr>\n",
       "    <tr>\n",
       "      <th>28</th>\n",
       "      <td>31.619953</td>\n",
       "      <td>31.719953</td>\n",
       "      <td>s</td>\n",
       "    </tr>\n",
       "    <tr>\n",
       "      <th>30</th>\n",
       "      <td>32.619951</td>\n",
       "      <td>32.719951</td>\n",
       "      <td>s</td>\n",
       "    </tr>\n",
       "    <tr>\n",
       "      <th>32</th>\n",
       "      <td>33.620030</td>\n",
       "      <td>33.720030</td>\n",
       "      <td>s</td>\n",
       "    </tr>\n",
       "    <tr>\n",
       "      <th>34</th>\n",
       "      <td>34.620028</td>\n",
       "      <td>34.720028</td>\n",
       "      <td>s</td>\n",
       "    </tr>\n",
       "    <tr>\n",
       "      <th>36</th>\n",
       "      <td>35.620025</td>\n",
       "      <td>35.720025</td>\n",
       "      <td>s</td>\n",
       "    </tr>\n",
       "    <tr>\n",
       "      <th>38</th>\n",
       "      <td>36.620022</td>\n",
       "      <td>36.720022</td>\n",
       "      <td>s</td>\n",
       "    </tr>\n",
       "    <tr>\n",
       "      <th>40</th>\n",
       "      <td>37.620020</td>\n",
       "      <td>37.720020</td>\n",
       "      <td>s</td>\n",
       "    </tr>\n",
       "    <tr>\n",
       "      <th>42</th>\n",
       "      <td>38.620017</td>\n",
       "      <td>38.720017</td>\n",
       "      <td>s</td>\n",
       "    </tr>\n",
       "    <tr>\n",
       "      <th>44</th>\n",
       "      <td>39.620015</td>\n",
       "      <td>39.720015</td>\n",
       "      <td>s</td>\n",
       "    </tr>\n",
       "    <tr>\n",
       "      <th>46</th>\n",
       "      <td>40.620012</td>\n",
       "      <td>40.720012</td>\n",
       "      <td>s</td>\n",
       "    </tr>\n",
       "    <tr>\n",
       "      <th>48</th>\n",
       "      <td>41.620010</td>\n",
       "      <td>41.720010</td>\n",
       "      <td>s</td>\n",
       "    </tr>\n",
       "    <tr>\n",
       "      <th>50</th>\n",
       "      <td>42.620007</td>\n",
       "      <td>42.720007</td>\n",
       "      <td>s</td>\n",
       "    </tr>\n",
       "    <tr>\n",
       "      <th>52</th>\n",
       "      <td>43.620086</td>\n",
       "      <td>43.720086</td>\n",
       "      <td>s</td>\n",
       "    </tr>\n",
       "    <tr>\n",
       "      <th>54</th>\n",
       "      <td>44.620084</td>\n",
       "      <td>44.720084</td>\n",
       "      <td>s</td>\n",
       "    </tr>\n",
       "    <tr>\n",
       "      <th>56</th>\n",
       "      <td>45.620081</td>\n",
       "      <td>45.720081</td>\n",
       "      <td>s</td>\n",
       "    </tr>\n",
       "    <tr>\n",
       "      <th>58</th>\n",
       "      <td>46.620079</td>\n",
       "      <td>46.720079</td>\n",
       "      <td>s</td>\n",
       "    </tr>\n",
       "    <tr>\n",
       "      <th>60</th>\n",
       "      <td>47.620076</td>\n",
       "      <td>47.720076</td>\n",
       "      <td>s</td>\n",
       "    </tr>\n",
       "    <tr>\n",
       "      <th>62</th>\n",
       "      <td>48.620074</td>\n",
       "      <td>48.720074</td>\n",
       "      <td>s</td>\n",
       "    </tr>\n",
       "    <tr>\n",
       "      <th>64</th>\n",
       "      <td>49.620071</td>\n",
       "      <td>49.720071</td>\n",
       "      <td>s</td>\n",
       "    </tr>\n",
       "    <tr>\n",
       "      <th>66</th>\n",
       "      <td>50.620068</td>\n",
       "      <td>50.720068</td>\n",
       "      <td>s</td>\n",
       "    </tr>\n",
       "    <tr>\n",
       "      <th>68</th>\n",
       "      <td>51.620066</td>\n",
       "      <td>51.720066</td>\n",
       "      <td>s</td>\n",
       "    </tr>\n",
       "    <tr>\n",
       "      <th>70</th>\n",
       "      <td>52.620063</td>\n",
       "      <td>52.720063</td>\n",
       "      <td>s</td>\n",
       "    </tr>\n",
       "    <tr>\n",
       "      <th>72</th>\n",
       "      <td>53.620061</td>\n",
       "      <td>53.720061</td>\n",
       "      <td>s</td>\n",
       "    </tr>\n",
       "    <tr>\n",
       "      <th>74</th>\n",
       "      <td>54.620140</td>\n",
       "      <td>54.720140</td>\n",
       "      <td>s</td>\n",
       "    </tr>\n",
       "    <tr>\n",
       "      <th>76</th>\n",
       "      <td>55.620138</td>\n",
       "      <td>55.720138</td>\n",
       "      <td>s</td>\n",
       "    </tr>\n",
       "    <tr>\n",
       "      <th>78</th>\n",
       "      <td>56.620135</td>\n",
       "      <td>56.720135</td>\n",
       "      <td>s</td>\n",
       "    </tr>\n",
       "    <tr>\n",
       "      <th>80</th>\n",
       "      <td>57.620132</td>\n",
       "      <td>57.720132</td>\n",
       "      <td>s</td>\n",
       "    </tr>\n",
       "    <tr>\n",
       "      <th>82</th>\n",
       "      <td>58.620130</td>\n",
       "      <td>58.720130</td>\n",
       "      <td>s</td>\n",
       "    </tr>\n",
       "    <tr>\n",
       "      <th>84</th>\n",
       "      <td>59.620127</td>\n",
       "      <td>59.720127</td>\n",
       "      <td>s</td>\n",
       "    </tr>\n",
       "    <tr>\n",
       "      <th>86</th>\n",
       "      <td>60.620125</td>\n",
       "      <td>60.720125</td>\n",
       "      <td>s</td>\n",
       "    </tr>\n",
       "    <tr>\n",
       "      <th>88</th>\n",
       "      <td>61.620122</td>\n",
       "      <td>61.720122</td>\n",
       "      <td>s</td>\n",
       "    </tr>\n",
       "    <tr>\n",
       "      <th>90</th>\n",
       "      <td>62.620120</td>\n",
       "      <td>62.720120</td>\n",
       "      <td>s</td>\n",
       "    </tr>\n",
       "    <tr>\n",
       "      <th>92</th>\n",
       "      <td>63.620117</td>\n",
       "      <td>63.720117</td>\n",
       "      <td>s</td>\n",
       "    </tr>\n",
       "    <tr>\n",
       "      <th>94</th>\n",
       "      <td>64.620196</td>\n",
       "      <td>64.720196</td>\n",
       "      <td>s</td>\n",
       "    </tr>\n",
       "    <tr>\n",
       "      <th>96</th>\n",
       "      <td>65.620194</td>\n",
       "      <td>65.720194</td>\n",
       "      <td>s</td>\n",
       "    </tr>\n",
       "    <tr>\n",
       "      <th>98</th>\n",
       "      <td>66.620191</td>\n",
       "      <td>66.720191</td>\n",
       "      <td>s</td>\n",
       "    </tr>\n",
       "    <tr>\n",
       "      <th>100</th>\n",
       "      <td>67.620189</td>\n",
       "      <td>67.720189</td>\n",
       "      <td>s</td>\n",
       "    </tr>\n",
       "    <tr>\n",
       "      <th>102</th>\n",
       "      <td>68.620186</td>\n",
       "      <td>68.720186</td>\n",
       "      <td>s</td>\n",
       "    </tr>\n",
       "    <tr>\n",
       "      <th>104</th>\n",
       "      <td>69.620184</td>\n",
       "      <td>69.720184</td>\n",
       "      <td>s</td>\n",
       "    </tr>\n",
       "    <tr>\n",
       "      <th>106</th>\n",
       "      <td>70.620181</td>\n",
       "      <td>70.720181</td>\n",
       "      <td>s</td>\n",
       "    </tr>\n",
       "    <tr>\n",
       "      <th>108</th>\n",
       "      <td>71.620179</td>\n",
       "      <td>71.720179</td>\n",
       "      <td>s</td>\n",
       "    </tr>\n",
       "    <tr>\n",
       "      <th>110</th>\n",
       "      <td>72.620176</td>\n",
       "      <td>72.720176</td>\n",
       "      <td>s</td>\n",
       "    </tr>\n",
       "    <tr>\n",
       "      <th>112</th>\n",
       "      <td>73.620173</td>\n",
       "      <td>73.720173</td>\n",
       "      <td>s</td>\n",
       "    </tr>\n",
       "    <tr>\n",
       "      <th>114</th>\n",
       "      <td>74.620171</td>\n",
       "      <td>74.720171</td>\n",
       "      <td>s</td>\n",
       "    </tr>\n",
       "    <tr>\n",
       "      <th>116</th>\n",
       "      <td>75.620250</td>\n",
       "      <td>75.720250</td>\n",
       "      <td>s</td>\n",
       "    </tr>\n",
       "  </tbody>\n",
       "</table>\n",
       "</div>"
      ],
      "text/plain": [
       "     start_time  stop_time sb\n",
       "id                           \n",
       "0     17.619907  17.719907  s\n",
       "2     18.619905  18.719905  s\n",
       "4     19.619902  19.719902  s\n",
       "6     20.619900  20.719900  s\n",
       "8     21.619897  21.719897  s\n",
       "10    22.619976  22.719976  s\n",
       "12    23.619974  23.719974  s\n",
       "14    24.619971  24.719971  s\n",
       "16    25.619969  25.719969  s\n",
       "18    26.619966  26.719966  s\n",
       "20    27.619964  27.719964  s\n",
       "22    28.619961  28.719961  s\n",
       "24    29.619958  29.719958  s\n",
       "26    30.619956  30.719956  s\n",
       "28    31.619953  31.719953  s\n",
       "30    32.619951  32.719951  s\n",
       "32    33.620030  33.720030  s\n",
       "34    34.620028  34.720028  s\n",
       "36    35.620025  35.720025  s\n",
       "38    36.620022  36.720022  s\n",
       "40    37.620020  37.720020  s\n",
       "42    38.620017  38.720017  s\n",
       "44    39.620015  39.720015  s\n",
       "46    40.620012  40.720012  s\n",
       "48    41.620010  41.720010  s\n",
       "50    42.620007  42.720007  s\n",
       "52    43.620086  43.720086  s\n",
       "54    44.620084  44.720084  s\n",
       "56    45.620081  45.720081  s\n",
       "58    46.620079  46.720079  s\n",
       "60    47.620076  47.720076  s\n",
       "62    48.620074  48.720074  s\n",
       "64    49.620071  49.720071  s\n",
       "66    50.620068  50.720068  s\n",
       "68    51.620066  51.720066  s\n",
       "70    52.620063  52.720063  s\n",
       "72    53.620061  53.720061  s\n",
       "74    54.620140  54.720140  s\n",
       "76    55.620138  55.720138  s\n",
       "78    56.620135  56.720135  s\n",
       "80    57.620132  57.720132  s\n",
       "82    58.620130  58.720130  s\n",
       "84    59.620127  59.720127  s\n",
       "86    60.620125  60.720125  s\n",
       "88    61.620122  61.720122  s\n",
       "90    62.620120  62.720120  s\n",
       "92    63.620117  63.720117  s\n",
       "94    64.620196  64.720196  s\n",
       "96    65.620194  65.720194  s\n",
       "98    66.620191  66.720191  s\n",
       "100   67.620189  67.720189  s\n",
       "102   68.620186  68.720186  s\n",
       "104   69.620184  69.720184  s\n",
       "106   70.620181  70.720181  s\n",
       "108   71.620179  71.720179  s\n",
       "110   72.620176  72.720176  s\n",
       "112   73.620173  73.720173  s\n",
       "114   74.620171  74.720171  s\n",
       "116   75.620250  75.720250  s"
      ]
     },
     "execution_count": 218,
     "metadata": {},
     "output_type": "execute_result"
    }
   ],
   "source": [
    "df = nwbfile_in.trials.to_dataframe()\n",
    "df = df[df[\"sb\"] == \"s\"]\n",
    "df"
   ]
  },
  {
   "cell_type": "code",
   "execution_count": 222,
   "metadata": {},
   "outputs": [],
   "source": [
    "onsets = df.iloc[:, [0,2]]"
   ]
  },
  {
   "cell_type": "code",
   "execution_count": 227,
   "metadata": {},
   "outputs": [],
   "source": [
    "markers = onsets['start_time'].to_list()"
   ]
  },
  {
   "cell_type": "code",
   "execution_count": 229,
   "metadata": {},
   "outputs": [],
   "source": [
    "marker_onsets = [int(x*fs+fs_stim_delay) for x in markers]"
   ]
  },
  {
   "cell_type": "code",
   "execution_count": 230,
   "metadata": {},
   "outputs": [
    {
     "data": {
      "text/plain": [
       "[218138,\n",
       " 230345,\n",
       " 242552,\n",
       " 254759,\n",
       " 266966,\n",
       " 279174,\n",
       " 291381,\n",
       " 303588,\n",
       " 315795,\n",
       " 328002,\n",
       " 340209,\n",
       " 352416,\n",
       " 364623,\n",
       " 376830,\n",
       " 389037,\n",
       " 401244,\n",
       " 413452,\n",
       " 425659,\n",
       " 437866,\n",
       " 450073,\n",
       " 462280,\n",
       " 474487,\n",
       " 486694,\n",
       " 498901,\n",
       " 511108,\n",
       " 523315,\n",
       " 535523,\n",
       " 547730,\n",
       " 559937,\n",
       " 572144,\n",
       " 584351,\n",
       " 596558,\n",
       " 608765,\n",
       " 620972,\n",
       " 633179,\n",
       " 645386,\n",
       " 657593,\n",
       " 669801,\n",
       " 682008,\n",
       " 694215,\n",
       " 706422,\n",
       " 718629,\n",
       " 730836,\n",
       " 743043,\n",
       " 755250,\n",
       " 767457,\n",
       " 779664,\n",
       " 791872,\n",
       " 804079,\n",
       " 816286,\n",
       " 828493,\n",
       " 840700,\n",
       " 852907,\n",
       " 865114,\n",
       " 877321,\n",
       " 889528,\n",
       " 901735,\n",
       " 913942,\n",
       " 926150]"
      ]
     },
     "execution_count": 230,
     "metadata": {},
     "output_type": "execute_result"
    }
   ],
   "source": [
    "marker_onsets"
   ]
  },
  {
   "cell_type": "code",
   "execution_count": 228,
   "metadata": {},
   "outputs": [],
   "source": [
    "fs_stim_delay = .25* fs"
   ]
  },
  {
   "cell_type": "code",
   "execution_count": 11,
   "metadata": {},
   "outputs": [],
   "source": [
    "data = nwbfile_in.acquisition['ECoG'].data"
   ]
  },
  {
   "cell_type": "code",
   "execution_count": 43,
   "metadata": {},
   "outputs": [
    {
     "data": {
      "text/plain": [
       "978944"
      ]
     },
     "execution_count": 43,
     "metadata": {},
     "output_type": "execute_result"
    }
   ],
   "source": [
    "data.shape[0]"
   ]
  },
  {
   "cell_type": "code",
   "execution_count": 40,
   "metadata": {},
   "outputs": [
    {
     "data": {
      "text/plain": [
       "12207.03125"
      ]
     },
     "execution_count": 40,
     "metadata": {},
     "output_type": "execute_result"
    }
   ],
   "source": [
    "fs = nwbfile_in.acquisition['ECoG'].rate\n",
    "fs"
   ]
  },
  {
   "cell_type": "code",
   "execution_count": 123,
   "metadata": {},
   "outputs": [
    {
     "data": {
      "text/plain": [
       "980992"
      ]
     },
     "execution_count": 123,
     "metadata": {},
     "output_type": "execute_result"
    }
   ],
   "source": [
    "mark_data = nwbfile_in.stimulus['recorded_mark'].data\n",
    "len(mark_data)"
   ]
  },
  {
   "cell_type": "code",
   "execution_count": 129,
   "metadata": {},
   "outputs": [
    {
     "data": {
      "text/plain": [
       "12207.03125"
      ]
     },
     "execution_count": 129,
     "metadata": {},
     "output_type": "execute_result"
    }
   ],
   "source": [
    "mark_fs = nwbfile_in.stimulus['recorded_mark'].rate\n",
    "mark_fs"
   ]
  },
  {
   "cell_type": "code",
   "execution_count": 52,
   "metadata": {},
   "outputs": [],
   "source": [
    "mark_offset = 0.25"
   ]
  },
  {
   "cell_type": "code",
   "execution_count": 53,
   "metadata": {},
   "outputs": [],
   "source": [
    "stim_duration = 0.1"
   ]
  },
  {
   "cell_type": "code",
   "execution_count": 56,
   "metadata": {},
   "outputs": [
    {
     "data": {
      "text/plain": [
       "12207.03125"
      ]
     },
     "execution_count": 56,
     "metadata": {},
     "output_type": "execute_result"
    }
   ],
   "source": [
    "mark_fs"
   ]
  },
  {
   "cell_type": "markdown",
   "metadata": {},
   "source": [
    "Vanessa Practice"
   ]
  },
  {
   "cell_type": "code",
   "execution_count": 44,
   "metadata": {},
   "outputs": [],
   "source": [
    "end_time = data.shape[0] / fs"
   ]
  },
  {
   "cell_type": "code",
   "execution_count": 50,
   "metadata": {},
   "outputs": [],
   "source": [
    "# np.arange(0.5, end_time, 1.0)"
   ]
  },
  {
   "cell_type": "code",
   "execution_count": 128,
   "metadata": {},
   "outputs": [
    {
     "data": {
      "text/plain": [
       "1220.703125"
      ]
     },
     "execution_count": 128,
     "metadata": {},
     "output_type": "execute_result"
    }
   ],
   "source": [
    "stim_dur_samp = stim_duration*mark_fs\n",
    "stim_dur_samp"
   ]
  },
  {
   "cell_type": "code",
   "execution_count": 59,
   "metadata": {},
   "outputs": [],
   "source": [
    "mark_threshold = 0.3"
   ]
  },
  {
   "cell_type": "code",
   "execution_count": 158,
   "metadata": {},
   "outputs": [
    {
     "data": {
      "text/plain": [
       "(980992,)"
      ]
     },
     "execution_count": 158,
     "metadata": {},
     "output_type": "execute_result"
    }
   ],
   "source": [
    "idk = mark_data[:] > mark_threshold\n",
    "idk.shape"
   ]
  },
  {
   "cell_type": "code",
   "execution_count": 167,
   "metadata": {},
   "outputs": [],
   "source": [
    "thresh_crossings = np.diff( (idk).astype('int'), axis=0 )"
   ]
  },
  {
   "cell_type": "code",
   "execution_count": 163,
   "metadata": {},
   "outputs": [
    {
     "data": {
      "text/plain": [
       "(980991,)"
      ]
     },
     "execution_count": 163,
     "metadata": {},
     "output_type": "execute_result"
    }
   ],
   "source": [
    "thresh_crossings.shape"
   ]
  },
  {
   "cell_type": "code",
   "execution_count": 134,
   "metadata": {},
   "outputs": [],
   "source": [
    "new_thresh_crossings = np.r_[idk[0], thresh_crossings].cumsum()"
   ]
  },
  {
   "cell_type": "code",
   "execution_count": 221,
   "metadata": {},
   "outputs": [
    {
     "data": {
      "text/plain": [
       "array([212035, 224242, 236449, 248656, 260863, 273071, 285278, 297485,\n",
       "       309692, 321899, 334106, 346313, 358520, 370727, 382934, 395141,\n",
       "       407349, 419556, 431763, 443970, 456177, 468384, 480591, 492798,\n",
       "       505005, 517212, 529420, 541627, 553834, 566041, 578248, 590455,\n",
       "       602662, 614869, 627076, 639283, 651490, 663698, 675905, 688112,\n",
       "       700319, 712526, 724733, 736940, 749147, 761354, 773561, 785769,\n",
       "       797976, 810183, 822390, 834597, 846804, 859011, 871218, 883425,\n",
       "       895632, 907839, 920047])"
      ]
     },
     "execution_count": 221,
     "metadata": {},
     "output_type": "execute_result"
    }
   ],
   "source": [
    "stim_onsets = np.where(thresh_crossings > 0.5)[0] + 1\n",
    "stim_onsets"
   ]
  },
  {
   "cell_type": "code",
   "execution_count": 181,
   "metadata": {},
   "outputs": [
    {
     "data": {
      "text/plain": [
       "[212035]"
      ]
     },
     "execution_count": 181,
     "metadata": {},
     "output_type": "execute_result"
    }
   ],
   "source": [
    "real_stim_onsets = [stim_onsets[0]]\n",
    "real_stim_onsets"
   ]
  },
  {
   "cell_type": "code",
   "execution_count": 192,
   "metadata": {},
   "outputs": [],
   "source": [
    "for stim_onset in stim_onsets[1:]:\n",
    "        # Check that each stim onset is more than 2x the stimulus duration since the previous\n",
    "        if stim_onset > real_stim_onsets[-1] + 2*stim_dur_samp:\n",
    "            real_stim_onsets.append(stim_onset)"
   ]
  },
  {
   "cell_type": "code",
   "execution_count": 193,
   "metadata": {},
   "outputs": [
    {
     "name": "stdout",
     "output_type": "stream",
     "text": [
      "WARNING\n"
     ]
    }
   ],
   "source": [
    "if len(real_stim_onsets) != 60:\n",
    "        print(\"WARNING\")"
   ]
  },
  {
   "cell_type": "code",
   "execution_count": 220,
   "metadata": {},
   "outputs": [
    {
     "data": {
      "text/plain": [
       "array([17.3699072 , 18.36990464, 19.36990208, 20.36989952, 21.36989696,\n",
       "       22.36997632, 23.36997376, 24.3699712 , 25.36996864, 26.36996608,\n",
       "       27.36996352, 28.36996096, 29.3699584 , 30.36995584, 31.36995328,\n",
       "       32.36995072, 33.37003008, 34.37002752, 35.37002496, 36.3700224 ,\n",
       "       37.37001984, 38.37001728, 39.37001472, 40.37001216, 41.3700096 ,\n",
       "       42.37000704, 43.3700864 , 44.37008384, 45.37008128, 46.37007872,\n",
       "       47.37007616, 48.3700736 , 49.37007104, 50.37006848, 51.37006592,\n",
       "       52.37006336, 53.3700608 , 54.37014016, 55.3701376 , 56.37013504,\n",
       "       57.37013248, 58.37012992, 59.37012736, 60.3701248 , 61.37012224,\n",
       "       62.37011968, 63.37011712, 64.37019648, 65.37019392, 66.37019136,\n",
       "       67.3701888 , 68.37018624, 69.37018368, 70.37018112, 71.37017856,\n",
       "       72.370176  , 73.37017344, 74.37017088, 75.37025024])"
      ]
     },
     "execution_count": 220,
     "metadata": {},
     "output_type": "execute_result"
    }
   ],
   "source": [
    "markers = (real_stim_onsets / mark_fs)\n",
    "markers"
   ]
  },
  {
   "cell_type": "code",
   "execution_count": 169,
   "metadata": {},
   "outputs": [
    {
     "data": {
      "text/plain": [
       "(59,)"
      ]
     },
     "execution_count": 169,
     "metadata": {},
     "output_type": "execute_result"
    }
   ],
   "source": [
    "markers.shape"
   ]
  },
  {
   "cell_type": "code",
   "execution_count": 176,
   "metadata": {},
   "outputs": [],
   "source": [
    "a = np.array([2,3,4])"
   ]
  },
  {
   "cell_type": "code",
   "execution_count": 177,
   "metadata": {},
   "outputs": [
    {
     "data": {
      "text/plain": [
       "array([1, 2, 3, 4])"
      ]
     },
     "execution_count": 177,
     "metadata": {},
     "output_type": "execute_result"
    }
   ],
   "source": [
    "np.insert(a, 0, 1)"
   ]
  },
  {
   "cell_type": "code",
   "execution_count": 196,
   "metadata": {},
   "outputs": [
    {
     "data": {
      "text/plain": [
       "array([16.369907  , 17.3699072 , 18.36990464, 19.36990208, 20.36989952,\n",
       "       21.36989696, 22.36997632, 23.36997376, 24.3699712 , 25.36996864,\n",
       "       26.36996608, 27.36996352, 28.36996096, 29.3699584 , 30.36995584,\n",
       "       31.36995328, 32.36995072, 33.37003008, 34.37002752, 35.37002496,\n",
       "       36.3700224 , 37.37001984, 38.37001728, 39.37001472, 40.37001216,\n",
       "       41.3700096 , 42.37000704, 43.3700864 , 44.37008384, 45.37008128,\n",
       "       46.37007872, 47.37007616, 48.3700736 , 49.37007104, 50.37006848,\n",
       "       51.37006592, 52.37006336, 53.3700608 , 54.37014016, 55.3701376 ,\n",
       "       56.37013504, 57.37013248, 58.37012992, 59.37012736, 60.3701248 ,\n",
       "       61.37012224, 62.37011968, 63.37011712, 64.37019648, 65.37019392,\n",
       "       66.37019136, 67.3701888 , 68.37018624, 69.37018368, 70.37018112,\n",
       "       71.37017856, 72.370176  , 73.37017344, 74.37017088, 75.37025024])"
      ]
     },
     "execution_count": 196,
     "metadata": {},
     "output_type": "execute_result"
    }
   ],
   "source": [
    "np.insert(markers, 0, 16.369907)"
   ]
  },
  {
   "cell_type": "code",
   "execution_count": null,
   "metadata": {},
   "outputs": [],
   "source": []
  },
  {
   "cell_type": "code",
   "execution_count": null,
   "metadata": {},
   "outputs": [],
   "source": []
  },
  {
   "cell_type": "code",
   "execution_count": 12,
   "metadata": {},
   "outputs": [],
   "source": [
    "chs_ordered = [\n",
    "       81, 83, 85, 87, 89, 91, 93, 95, 97, 105, 98, 106, 114, 122, 113, 121,\n",
    "       82, 84, 86, 88, 90, 92, 94, 96, 99, 107, 100, 108, 116, 124, 115, 123,\n",
    "       66, 68, 70, 72, 74, 76, 78, 80, 101, 109, 102, 110, 118, 126, 117, 125,\n",
    "       65, 67, 69, 71, 73, 75, 77, 79, 103, 111, 104, 112, 120, 128, 119, 127,\n",
    "       63, 61, 59, 57, 55, 53, 51, 49, 25, 17, 26, 18, 10, 2, 9, 1,\n",
    "       64, 62, 60, 58, 56, 54, 52, 50, 27, 19, 28, 20, 12, 4, 11, 3,\n",
    "       48, 46, 44, 42, 40, 38, 36, 34, 29, 21, 30, 22, 14, 6, 13, 5,\n",
    "       47, 45, 43, 41, 39, 37, 35, 33, 31, 23, 32, 24, 16, 8, 15, 7\n",
    "       ]"
   ]
  },
  {
   "cell_type": "code",
   "execution_count": 18,
   "metadata": {},
   "outputs": [],
   "source": [
    "shape_wanted = data.shape\n",
    "new_data = np.empty((shape_wanted[0], shape_wanted[1]))"
   ]
  },
  {
   "cell_type": "code",
   "execution_count": 20,
   "metadata": {},
   "outputs": [
    {
     "name": "stdout",
     "output_type": "stream",
     "text": [
      "[[-271. -262. -266. ... -158. -113. -181.]\n",
      " [-276. -263. -262. ... -152. -120. -193.]\n",
      " [-271. -257. -249. ... -201. -127. -220.]\n",
      " ...\n",
      " [  -6.   12.   40. ... -597. -556. -523.]\n",
      " [   1.   13.   37. ... -568. -530. -496.]\n",
      " [   3.   15.   35. ... -528. -500. -473.]]\n"
     ]
    }
   ],
   "source": [
    "for i in np.arange(shape_wanted[1]):\n",
    "    new_data[:, i] = data[:, (chs_ordered[i] - 1)]\n",
    "print(new_data) "
   ]
  },
  {
   "cell_type": "code",
   "execution_count": 22,
   "metadata": {},
   "outputs": [
    {
     "data": {
      "text/plain": [
       "array([-271., -262., -266., -251., -411., -292., -273., -240., -223.,\n",
       "       -111., -214., -174., -222.,  185., -189., -216., -255., -216.,\n",
       "       -336., -485., -361., -319., -303., -262., -225., -113., -221.,\n",
       "       -104., -219.,   -2., -224., -201., -208., -120., -321., -402.,\n",
       "       -395., -183., -387., -361., -100., -222., -217., -186., -204.,\n",
       "         33., -201., -223., -381., -362., -390., -409., -376., -383.,\n",
       "       -401., -379., -118., -243., -174., -238., -277.,  -17., -209.,\n",
       "       -202.,  -74.,  -84.,  -97.,  -75.,  -82.,  -73.,  -79.,  -85.,\n",
       "        -96., -109., -105., -100., -162., -129., -110., -178.,  -51.,\n",
       "        -76.,  -95.,  -84.,  -50.,  -62., -119.,  -99., -116., -133.,\n",
       "       -105., -113., -177., -109., -130., -180.,  -84.,  -49., -110.,\n",
       "        -91., -131., -106., -127.,  -89., -113., -120., -129.,  -98.,\n",
       "       -155., -114., -113., -169.,  -94.,  -84., -113.,  -98., -120.,\n",
       "        -98., -108., -106., -120., -109., -102., -102., -157., -158.,\n",
       "       -113., -181.])"
      ]
     },
     "execution_count": 22,
     "metadata": {},
     "output_type": "execute_result"
    }
   ],
   "source": [
    "new_data[0]"
   ]
  },
  {
   "cell_type": "code",
   "execution_count": null,
   "metadata": {},
   "outputs": [],
   "source": []
  },
  {
   "cell_type": "code",
   "execution_count": null,
   "metadata": {},
   "outputs": [],
   "source": []
  },
  {
   "cell_type": "code",
   "execution_count": null,
   "metadata": {},
   "outputs": [],
   "source": []
  },
  {
   "cell_type": "code",
   "execution_count": null,
   "metadata": {},
   "outputs": [],
   "source": []
  },
  {
   "cell_type": "code",
   "execution_count": null,
   "metadata": {},
   "outputs": [],
   "source": []
  },
  {
   "cell_type": "code",
   "execution_count": null,
   "metadata": {},
   "outputs": [],
   "source": []
  },
  {
   "cell_type": "code",
   "execution_count": null,
   "metadata": {},
   "outputs": [],
   "source": []
  },
  {
   "cell_type": "code",
   "execution_count": null,
   "metadata": {},
   "outputs": [],
   "source": []
  },
  {
   "cell_type": "code",
   "execution_count": null,
   "metadata": {},
   "outputs": [],
   "source": []
  },
  {
   "cell_type": "code",
   "execution_count": null,
   "metadata": {},
   "outputs": [],
   "source": []
  },
  {
   "cell_type": "code",
   "execution_count": 24,
   "metadata": {},
   "outputs": [],
   "source": [
    "one_timepoint = nwbfile_in.acquisition['ECoG'].data[:, :]"
   ]
  },
  {
   "cell_type": "code",
   "execution_count": 25,
   "metadata": {
    "scrolled": true
   },
   "outputs": [
    {
     "data": {
      "text/plain": [
       "(17860806, 128)"
      ]
     },
     "execution_count": 25,
     "metadata": {},
     "output_type": "execute_result"
    }
   ],
   "source": [
    "one_timepoint.shape"
   ]
  },
  {
   "cell_type": "code",
   "execution_count": 28,
   "metadata": {},
   "outputs": [
    {
     "data": {
      "text/plain": [
       "1463.15722752"
      ]
     },
     "execution_count": 28,
     "metadata": {},
     "output_type": "execute_result"
    }
   ],
   "source": [
    "17860806/nwbfile_in.acquisition['ECoG'].rate"
   ]
  },
  {
   "cell_type": "code",
   "execution_count": 29,
   "metadata": {},
   "outputs": [
    {
     "data": {
      "text/plain": [
       "24.383333333333333"
      ]
     },
     "execution_count": 29,
     "metadata": {},
     "output_type": "execute_result"
    }
   ],
   "source": [
    "1463/60"
   ]
  },
  {
   "cell_type": "code",
   "execution_count": null,
   "metadata": {},
   "outputs": [],
   "source": [
    "nwbfile_in.stimulus['recorded_mark']"
   ]
  },
  {
   "cell_type": "code",
   "execution_count": 30,
   "metadata": {},
   "outputs": [],
   "source": [
    "io1 = NWBHDF5IO('/Users/macproizzy/Desktop/R56_B13/R56_B13.nwb', 'r')\n",
    "nwbfile_in1 = io1.read()"
   ]
  },
  {
   "cell_type": "code",
   "execution_count": 31,
   "metadata": {
    "scrolled": true
   },
   "outputs": [
    {
     "data": {
      "text/plain": [
       "root pynwb.file.NWBFile at 0x140587758073216\n",
       "Fields:\n",
       "  acquisition: {\n",
       "    Raw <class 'pynwb.ecephys.LFP'>\n",
       "  }\n",
       "  devices: {\n",
       "    ECoG <class 'pynwb.device.Device'>,\n",
       "    Poly <class 'pynwb.device.Device'>\n",
       "  }\n",
       "  electrode_groups: {\n",
       "    ECoG <class 'pynwb.ecephys.ElectrodeGroup'>,\n",
       "    Poly <class 'pynwb.ecephys.ElectrodeGroup'>\n",
       "  }\n",
       "  electrodes: electrodes <class 'hdmf.common.table.DynamicTable'>\n",
       "  experiment_description: wn2 Stimulus Experiment\n",
       "  experimenter: ['Max Dougherty']\n",
       "  file_create_date: [datetime.datetime(2020, 12, 1, 12, 54, 12, 164816, tzinfo=tzoffset(None, -28800))]\n",
       "  identifier: R56_B13\n",
       "  institution: Lawrence Berkeley National Laboratory\n",
       "  intervals: {\n",
       "    trials <class 'pynwb.epoch.TimeIntervals'>\n",
       "  }\n",
       "  lab: Bouchard Lab\n",
       "  notes: TODO\n",
       "  pharmacology: TODO\n",
       "  processing: {\n",
       "    ECoG <class 'pynwb.base.ProcessingModule'>,\n",
       "    Hilb_54bands <class 'pynwb.base.ProcessingModule'>,\n",
       "    tMUA <class 'pynwb.base.ProcessingModule'>,\n",
       "    tMUA_rate <class 'pynwb.base.ProcessingModule'>\n",
       "  }\n",
       "  session_description: foo\n",
       "  session_id: R56_B13\n",
       "  session_start_time: 2020-12-01 12:54:12.164813-08:00\n",
       "  stimulus: {\n",
       "    recorded_mark <class 'pynwb.base.TimeSeries'>,\n",
       "    recorded_stim <class 'pynwb.base.TimeSeries'>\n",
       "  }\n",
       "  surgery: Acute Craniotomy\n",
       "  timestamps_reference_time: 2020-12-01 12:54:12.164813-08:00\n",
       "  trials: trials <class 'pynwb.epoch.TimeIntervals'>"
      ]
     },
     "execution_count": 31,
     "metadata": {},
     "output_type": "execute_result"
    }
   ],
   "source": [
    "nwbfile_in1"
   ]
  },
  {
   "cell_type": "code",
   "execution_count": 38,
   "metadata": {},
   "outputs": [
    {
     "data": {
      "text/plain": [
       "{'ECoG': ECoG pynwb.misc.DecompositionSeries at 0x140587755856320\n",
       " Fields:\n",
       "   bands: bands <class 'hdmf.common.table.DynamicTable'>\n",
       "   comments: no comments\n",
       "   conversion: 1.0\n",
       "   data: <HDF5 dataset \"data\": shape (29367, 128, 54), type \"<f4\">\n",
       "   description: processed data\n",
       "   metric: amplitude\n",
       "   rate: 400.0\n",
       "   resolution: 0.0\n",
       "   source_timeseries: ECoG pynwb.ecephys.ElectricalSeries at 0x140587754326960\n",
       " Fields:\n",
       "   comments: no comments\n",
       "   conversion: 1.0\n",
       "   data: <HDF5 dataset \"data\": shape (448099, 128), type \"<f4\">\n",
       "   description: no description\n",
       "   electrodes: electrodes <class 'hdmf.common.table.DynamicTableRegion'>\n",
       "   rate: 6103.515625\n",
       "   resolution: 0.0\n",
       "   starting_time: 0.0\n",
       "   starting_time_unit: seconds\n",
       "   unit: volts\n",
       " \n",
       "   starting_time: 0.0\n",
       "   starting_time_unit: seconds\n",
       "   unit: no unit}"
      ]
     },
     "execution_count": 38,
     "metadata": {},
     "output_type": "execute_result"
    }
   ],
   "source": [
    "nwbfile_in1.processing['Hilb_54bands'].data_interfaces"
   ]
  },
  {
   "cell_type": "code",
   "execution_count": 32,
   "metadata": {
    "scrolled": true
   },
   "outputs": [
    {
     "data": {
      "text/plain": [
       "Raw pynwb.ecephys.LFP at 0x140587758259264\n",
       "Fields:\n",
       "  electrical_series: {\n",
       "    ECoG <class 'pynwb.ecephys.ElectricalSeries'>,\n",
       "    Poly <class 'pynwb.ecephys.ElectricalSeries'>\n",
       "  }"
      ]
     },
     "execution_count": 32,
     "metadata": {},
     "output_type": "execute_result"
    }
   ],
   "source": [
    "nwbfile_in1.acquisition['Raw']"
   ]
  },
  {
   "cell_type": "code",
   "execution_count": 34,
   "metadata": {},
   "outputs": [
    {
     "data": {
      "text/plain": [
       "<HDF5 dataset \"data\": shape (1792394, 64), type \"<f4\">"
      ]
     },
     "execution_count": 34,
     "metadata": {},
     "output_type": "execute_result"
    }
   ],
   "source": [
    "nwbfile_in1.acquisition['Raw']['Poly'].data"
   ]
  },
  {
   "cell_type": "code",
   "execution_count": null,
   "metadata": {},
   "outputs": [],
   "source": [
    "nwbfile_in1.processing['tMUA_rate'].data_interfaces['ECoG']"
   ]
  }
 ],
 "metadata": {
  "kernelspec": {
   "display_name": "Python 3",
   "language": "python",
   "name": "python3"
  },
  "language_info": {
   "codemirror_mode": {
    "name": "ipython",
    "version": 3
   },
   "file_extension": ".py",
   "mimetype": "text/x-python",
   "name": "python",
   "nbconvert_exporter": "python",
   "pygments_lexer": "ipython3",
   "version": "3.8.5"
  }
 },
 "nbformat": 4,
 "nbformat_minor": 4
}
