{
 "cells": [
  {
   "cell_type": "markdown",
   "metadata": {},
   "source": [
    "# NWB exploration"
   ]
  },
  {
   "cell_type": "code",
   "execution_count": 1,
   "metadata": {},
   "outputs": [],
   "source": [
    "from pynwb import NWBHDF5IO\n",
    "import numpy as np "
   ]
  },
  {
   "cell_type": "code",
   "execution_count": 2,
   "metadata": {},
   "outputs": [],
   "source": [
    "#change pathway as needed\n",
    "io = NWBHDF5IO('/Users/vanessagutierrez/Desktop/NWB_Test/RVG14/RVG14_B02.nwb', 'r')\n",
    "nwbfile_in = io.read()"
   ]
  },
  {
   "cell_type": "code",
   "execution_count": 3,
   "metadata": {
    "scrolled": true
   },
   "outputs": [
    {
     "data": {
      "text/plain": [
       "root pynwb.file.NWBFile at 0x140482392850240\n",
       "Fields:\n",
       "  acquisition: {\n",
       "    ECoG <class 'pynwb.ecephys.ElectricalSeries'>\n",
       "  }\n",
       "  devices: {\n",
       "    ECoG <class 'pynwb.device.Device'>\n",
       "  }\n",
       "  electrode_groups: {\n",
       "    ECoG <class 'pynwb.ecephys.ElectrodeGroup'>\n",
       "  }\n",
       "  electrodes: electrodes <class 'hdmf.common.table.DynamicTable'>\n",
       "  experiment_description: This is an acute rat experiment. Auditory stimuli are played to an anesthsized rat and electrophysiological measurements are made auditory cortex\n",
       "  experimenter: ['Vanessa Gutierrez']\n",
       "  file_create_date: [datetime.datetime(2021, 9, 7, 14, 41, 19, 658854, tzinfo=tzoffset(None, -25200))]\n",
       "  identifier: 566e7bfc-1024-11ec-8683-aa665a133c20\n",
       "  institution: Lawrence Berkeley National Lab\n",
       "  intervals: {\n",
       "    trials <class 'pynwb.epoch.TimeIntervals'>\n",
       "  }\n",
       "  lab: Bouchard Lab\n",
       "  notes: All channels responded, same as WN, good tone map but some broad responses, most likely due to bad channels or slight bleeding in that area (bottom left)\n",
       "  pharmacology: Anesthesized with Ketamine (90 mg/kg induction and 55 mg/kg maintence) and Xyzaline (10 mg/kg induction and 5 mg/kg maintence)\n",
       "  scratch: {\n",
       "    RVG14_B <class 'pynwb.core.ScratchData'>,\n",
       "    ecog_lat_loc <class 'pynwb.core.ScratchData'>,\n",
       "    ecog_post_loc <class 'pynwb.core.ScratchData'>,\n",
       "    has_ecog <class 'pynwb.core.ScratchData'>,\n",
       "    has_poly <class 'pynwb.core.ScratchData'>,\n",
       "    is_clean_block <class 'pynwb.core.ScratchData'>,\n",
       "    stim_response <class 'pynwb.core.ScratchData'>\n",
       "  }\n",
       "  session_description: Tone diagnostic\n",
       "  session_id: RVG14_B02\n",
       "  session_start_time: 2021-05-11 12:21:21.999999-07:00\n",
       "  source_script: Created by nsds-lab-to-nwb 0.0.1.dev0 (https://github.com/BouchardLab/nsds_lab_to_nwb) (git@f6ab42b)\n",
       "  source_script_file_name: nsds-lab-to-nwb\n",
       "  stimulus: {\n",
       "    stim_onset_marks <class 'pynwb.base.TimeSeries'>,\n",
       "    stim_waveform <class 'pynwb.base.TimeSeries'>\n",
       "  }\n",
       "  subject: subject pynwb.file.Subject at 0x140482394037696\n",
       "Fields:\n",
       "  description: Charles River\n",
       "  genotype: Wild type\n",
       "  sex: F\n",
       "  species: Sprague Dawley\n",
       "  subject_id: RVG14\n",
       "  weight: 235g\n",
       "\n",
       "  surgery: Right temporal lobe craniotomy w/ durotomy\n",
       "Surgery date: 2021-05-11\n",
       "Surgery time: 08:40:00 (US/Pacific)\n",
       "Surgery notes: Clean window. Clean durotomy, no damage. Ended experiment early because of brain swelling and bleeding\n",
       "Surgery outcome: Good\n",
       "  timestamps_reference_time: 2021-05-11 12:21:21.999999-07:00\n",
       "  trials: trials <class 'pynwb.epoch.TimeIntervals'>"
      ]
     },
     "execution_count": 3,
     "metadata": {},
     "output_type": "execute_result"
    }
   ],
   "source": [
    "nwbfile_in"
   ]
  },
  {
   "cell_type": "code",
   "execution_count": 43,
   "metadata": {},
   "outputs": [
    {
     "data": {
      "text/plain": [
       "array([  0.        ,  12.33473536,  12.43473536,  12.6347264 ,\n",
       "        12.7347264 ,  12.9347584 ,  13.0347584 ,  13.23474944,\n",
       "        13.33474944,  13.53474048,  13.63474048,  13.83477248,\n",
       "        13.93477248,  14.13476352,  14.23476352,  14.43475456,\n",
       "        14.53475456,  14.7347456 ,  14.8347456 ,  15.0347776 ,\n",
       "        15.1347776 ,  15.33476864,  15.43476864,  15.63475968,\n",
       "        15.73475968,  15.93475072,  16.03475072,  16.23478272,\n",
       "        16.33478272,  16.53477376,  16.63477376,  16.8347648 ,\n",
       "        16.9347648 ,  17.13475584,  17.23475584,  17.43478784,\n",
       "        17.53478784,  17.73477888,  17.83477888,  18.03476992,\n",
       "        18.13476992,  18.33476096,  18.43476096,  18.63479296,\n",
       "        18.73479296,  18.934784  ,  19.034784  ,  19.23477504,\n",
       "        19.33477504,  19.53476608,  19.63476608,  19.83479808,\n",
       "        19.93479808,  20.13478912,  20.23478912,  20.43478016,\n",
       "        20.53478016,  20.7347712 ,  20.8347712 ,  21.0348032 ,\n",
       "        21.1348032 ,  21.33479424,  21.43479424,  21.63478528,\n",
       "        21.73478528,  21.93477632,  22.03477632,  22.23480832,\n",
       "        22.33480832,  22.53479936,  22.63479936,  22.8347904 ,\n",
       "        22.9347904 ,  23.13478144,  23.23478144,  23.43481344,\n",
       "        23.53481344,  23.73480448,  23.83480448,  24.03479552,\n",
       "        24.13479552,  24.33478656,  24.43478656,  24.63481856,\n",
       "        24.73481856,  24.9348096 ,  25.0348096 ,  25.23480064,\n",
       "        25.33480064,  25.53479168,  25.63479168,  25.83482368,\n",
       "        25.93482368,  26.13481472,  26.23481472,  26.43480576,\n",
       "        26.53480576,  26.7347968 ,  26.8347968 ,  27.0348288 ,\n",
       "        27.1348288 ,  27.33481984,  27.43481984,  27.63481088,\n",
       "        27.73481088,  27.93480192,  28.03480192,  28.23483392,\n",
       "        28.33483392,  28.53482496,  28.63482496,  28.834816  ,\n",
       "        28.934816  ,  29.134848  ,  29.234848  ,  29.43483904,\n",
       "        29.53483904,  29.73483008,  29.83483008,  30.03482112,\n",
       "        30.13482112,  30.33485312,  30.43485312,  30.63484416,\n",
       "        30.73484416,  30.9348352 ,  31.0348352 ,  31.23482624,\n",
       "        31.33482624,  31.53485824,  31.63485824,  31.83484928,\n",
       "        31.93484928,  32.13484032,  32.23484032,  32.43483136,\n",
       "        32.53483136,  32.73486336,  32.83486336,  33.0348544 ,\n",
       "        33.1348544 ,  33.33484544,  33.43484544,  33.63483648,\n",
       "        33.73483648,  33.93486848,  34.03486848,  34.23485952,\n",
       "        34.33485952,  34.53485056,  34.63485056,  34.8348416 ,\n",
       "        34.9348416 ,  35.1348736 ,  35.2348736 ,  35.43486464,\n",
       "        35.53486464,  35.73485568,  35.83485568,  36.03484672,\n",
       "        36.13484672,  36.33487872,  36.43487872,  36.63486976,\n",
       "        36.73486976,  36.9348608 ,  37.0348608 ,  37.23485184,\n",
       "        37.33485184,  37.53488384,  37.63488384,  37.83487488,\n",
       "        37.93487488,  38.13486592,  38.23486592,  38.43485696,\n",
       "        38.53485696,  38.73488896,  38.83488896,  39.03488   ,\n",
       "        39.13488   ,  39.33487104,  39.43487104,  39.63486208,\n",
       "        39.73486208,  39.93489408,  40.03489408,  40.23488512,\n",
       "        40.33488512,  40.53487616,  40.63487616,  40.8348672 ,\n",
       "        40.9348672 ,  41.1348992 ,  41.2348992 ,  41.43489024,\n",
       "        41.53489024,  41.73488128,  41.83488128,  42.03487232,\n",
       "        42.13487232,  42.33490432,  42.43490432,  42.63489536,\n",
       "        42.73489536,  42.9348864 ,  43.0348864 ,  43.23487744,\n",
       "        43.33487744,  43.53490944,  43.63490944,  43.83490048,\n",
       "        43.93490048,  44.13489152,  44.23489152,  44.43492352,\n",
       "        44.53492352,  44.73491456,  44.83491456,  45.0349056 ,\n",
       "        45.1349056 ,  45.33489664,  45.43489664,  45.63492864,\n",
       "        45.73492864,  45.93491968,  46.03491968,  46.23491072,\n",
       "        46.33491072,  46.53490176,  46.63490176,  46.83493376,\n",
       "        46.93493376,  47.1349248 ,  47.2349248 ,  47.43491584,\n",
       "        47.53491584,  47.73490688,  47.83490688,  48.03493888,\n",
       "        48.13493888,  48.33492992,  48.43492992,  48.63492096,\n",
       "        48.73492096,  48.934912  ,  49.034912  ,  49.234944  ,\n",
       "        49.334944  ,  49.53493504,  49.63493504,  49.83492608,\n",
       "        49.93492608,  50.13491712,  50.23491712,  50.43494912,\n",
       "        50.53494912,  50.73494016,  50.83494016,  51.0349312 ,\n",
       "        51.1349312 ,  51.33492224,  51.43492224,  51.63495424,\n",
       "        51.73495424,  51.93494528,  52.03494528,  52.23493632,\n",
       "        52.33493632,  52.53492736,  52.63492736,  52.83495936,\n",
       "        52.93495936,  53.1349504 ,  53.2349504 ,  53.43494144,\n",
       "        53.53494144,  53.73493248,  53.83493248,  54.03496448,\n",
       "        54.13496448,  54.33495552,  54.43495552,  54.63494656,\n",
       "        54.73494656,  54.9349376 ,  55.0349376 ,  55.2349696 ,\n",
       "        55.3349696 ,  55.53496064,  55.63496064,  55.83495168,\n",
       "        55.93495168,  56.13494272,  56.23494272,  56.43497472,\n",
       "        56.53497472,  56.73496576,  56.83496576,  57.0349568 ,\n",
       "        57.1349568 ,  57.33494784,  57.43494784,  57.63497984,\n",
       "        57.73497984,  57.93497088,  58.03497088,  58.23496192,\n",
       "        58.33496192,  58.53495296,  58.63495296,  58.83498496,\n",
       "        58.93498496,  59.134976  ,  59.234976  ,  59.43496704,\n",
       "        59.53496704,  59.73495808,  59.83495808,  60.03499008,\n",
       "        60.13499008,  60.33498112,  60.43498112,  60.63497216,\n",
       "        60.73497216,  60.93500416,  61.03500416,  61.2349952 ,\n",
       "        61.3349952 ,  61.53498624,  61.63498624,  61.83497728,\n",
       "        61.93497728,  62.13500928,  62.23500928,  62.43500032,\n",
       "        62.53500032,  62.73499136,  62.83499136,  63.0349824 ,\n",
       "        63.1349824 ,  63.3350144 ,  63.4350144 ,  63.63500544,\n",
       "        63.73500544,  63.93499648,  64.03499648,  64.23498752,\n",
       "        64.33498752,  64.53501952,  64.63501952,  64.83501056,\n",
       "        64.93501056,  65.1350016 ,  65.2350016 ,  65.43499264,\n",
       "        65.53499264,  65.73502464,  65.83502464,  66.03501568,\n",
       "        66.13501568,  66.33500672,  66.43500672,  66.63499776,\n",
       "        66.73499776,  66.93502976,  67.03502976,  67.2350208 ,\n",
       "        67.3350208 ,  67.53501184,  67.63501184,  67.83500288,\n",
       "        67.93500288,  68.13503488,  68.23503488,  68.43502592,\n",
       "        68.53502592,  68.73501696,  68.83501696,  69.035008  ,\n",
       "        69.135008  ,  69.33504   ,  69.43504   ,  69.63503104,\n",
       "        69.73503104,  69.93502208,  70.03502208,  70.23501312,\n",
       "        70.33501312,  70.53504512,  70.63504512,  70.83503616,\n",
       "        70.93503616,  71.1350272 ,  71.2350272 ,  71.43501824,\n",
       "        71.53501824,  71.73505024,  71.83505024,  72.03504128,\n",
       "        72.13504128,  72.33503232,  72.43503232,  72.63502336,\n",
       "        72.73502336,  72.93505536,  73.03505536,  73.2350464 ,\n",
       "        73.3350464 ,  73.53503744,  73.63503744,  73.83502848,\n",
       "        73.93502848,  74.13506048,  74.23506048,  74.43505152,\n",
       "        74.53505152,  74.73504256,  74.83504256,  75.03507456,\n",
       "        75.13507456,  75.3350656 ,  75.4350656 ,  75.63505664,\n",
       "        75.73505664,  75.93504768,  76.03504768,  76.23507968,\n",
       "        76.33507968,  76.53507072,  76.63507072,  76.83506176,\n",
       "        76.93506176,  77.1350528 ,  77.2350528 ,  77.4350848 ,\n",
       "        77.5350848 ,  77.73507584,  77.83507584,  78.03506688,\n",
       "        78.13506688,  78.33505792,  78.43505792,  78.63508992,\n",
       "        78.73508992,  78.93508096,  79.03508096,  79.235072  ,\n",
       "        79.335072  ,  79.53506304,  79.63506304,  79.83509504,\n",
       "        79.93509504,  80.13508608,  80.23508608,  80.43507712,\n",
       "        80.53507712,  80.73506816,  80.83506816,  81.03510016,\n",
       "        81.13510016,  81.3350912 ,  81.4350912 ,  81.63508224,\n",
       "        81.73508224,  81.93507328,  82.03507328,  82.23510528,\n",
       "        82.33510528,  82.53509632,  82.63509632,  82.83508736,\n",
       "        82.93508736,  83.1350784 ,  83.2350784 ,  83.4351104 ,\n",
       "        83.5351104 ,  83.73510144,  83.83510144,  84.03509248,\n",
       "        84.13509248,  84.33508352,  84.43508352,  84.63511552,\n",
       "        84.73511552,  84.93510656,  85.03510656,  85.2350976 ,\n",
       "        85.3350976 ,  85.53508864,  85.63508864,  85.83512064,\n",
       "        85.93512064,  86.13511168,  86.23511168,  86.43510272,\n",
       "        86.53510272,  86.73509376,  86.83509376,  87.03512576,\n",
       "        87.13512576,  87.3351168 ,  87.4351168 ,  87.63510784,\n",
       "        87.73510784,  87.93509888,  88.03509888,  88.23513088,\n",
       "        88.33513088,  88.53512192,  88.63512192,  88.83511296,\n",
       "        88.93511296,  89.135104  ,  89.235104  ,  89.435136  ,\n",
       "        89.535136  ,  89.73512704,  89.83512704,  90.03511808,\n",
       "        90.13511808,  90.33515008,  90.43515008,  90.63514112,\n",
       "        90.73514112,  90.93513216,  91.03513216,  91.2351232 ,\n",
       "        91.3351232 ,  91.5351552 ,  91.6351552 ,  91.83514624,\n",
       "        91.93514624,  92.13513728,  92.23513728,  92.43512832,\n",
       "        92.53512832,  92.73516032,  92.83516032,  93.03515136,\n",
       "        93.13515136,  93.3351424 ,  93.4351424 ,  93.63513344,\n",
       "        93.73513344,  93.93516544,  94.03516544,  94.23515648,\n",
       "        94.33515648,  94.53514752,  94.63514752,  94.83513856,\n",
       "        94.93513856,  95.13517056,  95.23517056,  95.4351616 ,\n",
       "        95.5351616 ,  95.73515264,  95.83515264,  96.03514368,\n",
       "        96.13514368,  96.33517568,  96.43517568,  96.63516672,\n",
       "        96.73516672,  96.93515776,  97.03515776,  97.2351488 ,\n",
       "        97.3351488 ,  97.5351808 ,  97.6351808 ,  97.83517184,\n",
       "        97.93517184,  98.13516288,  98.23516288,  98.43515392,\n",
       "        98.53515392,  98.73518592,  98.83518592,  99.03517696,\n",
       "        99.13517696,  99.335168  ,  99.435168  ,  99.63515904,\n",
       "        99.73515904,  99.93519104, 100.03519104, 100.23518208,\n",
       "       100.33518208, 100.53517312, 100.63517312, 100.83516416,\n",
       "       100.93516416, 101.13519616, 101.23519616, 101.4351872 ,\n",
       "       101.5351872 , 101.73517824, 101.83517824, 102.03516928,\n",
       "       102.13516928, 102.21516928])"
      ]
     },
     "execution_count": 43,
     "metadata": {},
     "output_type": "execute_result"
    }
   ],
   "source": [
    "nwbfile_in.intervals['trials']['start_time'][:]"
   ]
  },
  {
   "cell_type": "code",
   "execution_count": 50,
   "metadata": {},
   "outputs": [
    {
     "data": {
      "text/plain": [
       "array([[-7.03326695e+02,  1.19595464e+01,  7.28968951e+01, ...,\n",
       "         5.60008257e+01, -6.01733607e+02,  1.52044603e+01],\n",
       "       [-6.60680102e+02,  1.21277917e+01,  7.43822145e+01, ...,\n",
       "         5.38606775e+01, -5.41525158e+02,  1.99544318e+01],\n",
       "       [-5.92143355e+02,  1.72359919e+01,  8.53652900e+01, ...,\n",
       "         5.41714340e+01, -4.80016407e+02,  1.80724354e+01],\n",
       "       ...,\n",
       "       [-7.75743811e+02,  6.51425463e+01, -4.08080192e+00, ...,\n",
       "         3.98563424e+02, -6.61282689e+02,  3.25756833e+02],\n",
       "       [-8.73384399e+02,  6.11167859e+01, -4.55371045e+00, ...,\n",
       "         4.07696474e+02, -6.61583538e+02,  3.33628792e+02],\n",
       "       [-8.56971909e+02,  6.46900044e+01,  6.00712718e-02, ...,\n",
       "         4.03451324e+02, -6.34207913e+02,  3.28577285e+02]])"
      ]
     },
     "execution_count": 50,
     "metadata": {},
     "output_type": "execute_result"
    }
   ],
   "source": [
    "nwbfile_in.acquisition['ECoG'].data[:]"
   ]
  },
  {
   "cell_type": "code",
   "execution_count": 14,
   "metadata": {},
   "outputs": [
    {
     "data": {
      "text/plain": [
       "stim_onset_marks pynwb.base.TimeSeries at 0x140482394037408\n",
       "Fields:\n",
       "  comments: no comments\n",
       "  conversion: 1.0\n",
       "  data: <HDF5 dataset \"data\": shape (1346560,), type \"<f4\">\n",
       "  description: Recorded mark that tracks stimulus onsets.\n",
       "  rate: 12207.03125\n",
       "  resolution: -1.0\n",
       "  starting_time: 0.0\n",
       "  starting_time_unit: seconds\n",
       "  unit: Volts"
      ]
     },
     "execution_count": 14,
     "metadata": {},
     "output_type": "execute_result"
    }
   ],
   "source": [
    "nwbfile_in.stimulus['stim_onset_marks']"
   ]
  },
  {
   "cell_type": "code",
   "execution_count": 15,
   "metadata": {},
   "outputs": [
    {
     "data": {
      "text/plain": [
       "stim_waveform pynwb.base.TimeSeries at 0x140482394037552\n",
       "Fields:\n",
       "  comments: no comments\n",
       "  conversion: 1.0\n",
       "  data: <HDF5 dataset \"data\": shape (4800248,), type \"<i2\">\n",
       "  description: Auditory stimulus waveform, aligned to neural recording.\n",
       "  rate: 48000.0\n",
       "  resolution: -1.0\n",
       "  starting_time: 7.33473536\n",
       "  starting_time_unit: seconds\n",
       "  unit: Volts"
      ]
     },
     "execution_count": 15,
     "metadata": {},
     "output_type": "execute_result"
    }
   ],
   "source": [
    "nwbfile_in.stimulus['stim_waveform']"
   ]
  },
  {
   "cell_type": "code",
   "execution_count": 72,
   "metadata": {},
   "outputs": [
    {
     "data": {
      "text/plain": [
       "electrodes hdmf.common.table.DynamicTable at 0x140482394035392\n",
       "Fields:\n",
       "  colnames: ['x' 'y' 'z' 'imp' 'location' 'filtering' 'group' 'group_name' 'rel_x'\n",
       " 'rel_y' 'rel_z']\n",
       "  columns: (\n",
       "    x <class 'hdmf.common.table.VectorData'>,\n",
       "    y <class 'hdmf.common.table.VectorData'>,\n",
       "    z <class 'hdmf.common.table.VectorData'>,\n",
       "    imp <class 'hdmf.common.table.VectorData'>,\n",
       "    location <class 'hdmf.common.table.VectorData'>,\n",
       "    filtering <class 'hdmf.common.table.VectorData'>,\n",
       "    group <class 'hdmf.common.table.VectorData'>,\n",
       "    group_name <class 'hdmf.common.table.VectorData'>,\n",
       "    rel_x <class 'hdmf.common.table.VectorData'>,\n",
       "    rel_y <class 'hdmf.common.table.VectorData'>,\n",
       "    rel_z <class 'hdmf.common.table.VectorData'>\n",
       "  )\n",
       "  description: metadata about extracellular electrodes\n",
       "  id: id <class 'hdmf.common.table.ElementIdentifiers'>"
      ]
     },
     "execution_count": 72,
     "metadata": {},
     "output_type": "execute_result"
    }
   ],
   "source": [
    "nwbfile_in.electrodes"
   ]
  },
  {
   "cell_type": "code",
   "execution_count": 17,
   "metadata": {},
   "outputs": [],
   "source": [
    "device = 'ECoG'"
   ]
  },
  {
   "cell_type": "code",
   "execution_count": 18,
   "metadata": {
    "scrolled": true
   },
   "outputs": [],
   "source": [
    "device_idx = nwbfile_in.electrodes.group_name.data[:] == device"
   ]
  },
  {
   "cell_type": "code",
   "execution_count": 19,
   "metadata": {},
   "outputs": [
    {
     "data": {
      "text/plain": [
       "array([ True,  True,  True,  True,  True,  True,  True,  True,  True,\n",
       "        True,  True,  True,  True,  True,  True,  True,  True,  True,\n",
       "        True,  True,  True,  True,  True,  True,  True,  True,  True,\n",
       "        True,  True,  True,  True,  True,  True,  True,  True,  True,\n",
       "        True,  True,  True,  True,  True,  True,  True,  True,  True,\n",
       "        True,  True,  True,  True,  True,  True,  True,  True,  True,\n",
       "        True,  True,  True,  True,  True,  True,  True,  True,  True,\n",
       "        True,  True,  True,  True,  True,  True,  True,  True,  True,\n",
       "        True,  True,  True,  True,  True,  True,  True,  True,  True,\n",
       "        True,  True,  True,  True,  True,  True,  True,  True,  True,\n",
       "        True,  True,  True,  True,  True,  True,  True,  True,  True,\n",
       "        True,  True,  True,  True,  True,  True,  True,  True,  True,\n",
       "        True,  True,  True,  True,  True,  True,  True,  True,  True,\n",
       "        True,  True,  True,  True,  True,  True,  True,  True,  True,\n",
       "        True,  True])"
      ]
     },
     "execution_count": 19,
     "metadata": {},
     "output_type": "execute_result"
    }
   ],
   "source": [
    "device_idx"
   ]
  },
  {
   "cell_type": "code",
   "execution_count": 82,
   "metadata": {},
   "outputs": [
    {
     "data": {
      "text/html": [
       "<div>\n",
       "<style scoped>\n",
       "    .dataframe tbody tr th:only-of-type {\n",
       "        vertical-align: middle;\n",
       "    }\n",
       "\n",
       "    .dataframe tbody tr th {\n",
       "        vertical-align: top;\n",
       "    }\n",
       "\n",
       "    .dataframe thead th {\n",
       "        text-align: right;\n",
       "    }\n",
       "</style>\n",
       "<table border=\"1\" class=\"dataframe\">\n",
       "  <thead>\n",
       "    <tr style=\"text-align: right;\">\n",
       "      <th></th>\n",
       "      <th>x</th>\n",
       "      <th>y</th>\n",
       "      <th>z</th>\n",
       "      <th>imp</th>\n",
       "      <th>location</th>\n",
       "      <th>filtering</th>\n",
       "      <th>group</th>\n",
       "      <th>group_name</th>\n",
       "      <th>rel_x</th>\n",
       "      <th>rel_y</th>\n",
       "      <th>rel_z</th>\n",
       "    </tr>\n",
       "    <tr>\n",
       "      <th>id</th>\n",
       "      <th></th>\n",
       "      <th></th>\n",
       "      <th></th>\n",
       "      <th></th>\n",
       "      <th></th>\n",
       "      <th></th>\n",
       "      <th></th>\n",
       "      <th></th>\n",
       "      <th></th>\n",
       "      <th></th>\n",
       "      <th></th>\n",
       "    </tr>\n",
       "  </thead>\n",
       "  <tbody>\n",
       "    <tr>\n",
       "      <th>0</th>\n",
       "      <td>NaN</td>\n",
       "      <td>NaN</td>\n",
       "      <td>NaN</td>\n",
       "      <td>NaN</td>\n",
       "      <td>AUD</td>\n",
       "      <td>The signal is low pass filtered at 45 percent ...</td>\n",
       "      <td>ECoG pynwb.ecephys.ElectrodeGroup at 0x1404823...</td>\n",
       "      <td>ECoG</td>\n",
       "      <td>3000.0</td>\n",
       "      <td>800.0</td>\n",
       "      <td>0.0</td>\n",
       "    </tr>\n",
       "    <tr>\n",
       "      <th>1</th>\n",
       "      <td>NaN</td>\n",
       "      <td>NaN</td>\n",
       "      <td>NaN</td>\n",
       "      <td>NaN</td>\n",
       "      <td>AUD</td>\n",
       "      <td>The signal is low pass filtered at 45 percent ...</td>\n",
       "      <td>ECoG pynwb.ecephys.ElectrodeGroup at 0x1404823...</td>\n",
       "      <td>ECoG</td>\n",
       "      <td>2600.0</td>\n",
       "      <td>800.0</td>\n",
       "      <td>0.0</td>\n",
       "    </tr>\n",
       "    <tr>\n",
       "      <th>2</th>\n",
       "      <td>NaN</td>\n",
       "      <td>NaN</td>\n",
       "      <td>NaN</td>\n",
       "      <td>NaN</td>\n",
       "      <td>AUD</td>\n",
       "      <td>The signal is low pass filtered at 45 percent ...</td>\n",
       "      <td>ECoG pynwb.ecephys.ElectrodeGroup at 0x1404823...</td>\n",
       "      <td>ECoG</td>\n",
       "      <td>3000.0</td>\n",
       "      <td>1000.0</td>\n",
       "      <td>0.0</td>\n",
       "    </tr>\n",
       "    <tr>\n",
       "      <th>3</th>\n",
       "      <td>NaN</td>\n",
       "      <td>NaN</td>\n",
       "      <td>NaN</td>\n",
       "      <td>NaN</td>\n",
       "      <td>AUD</td>\n",
       "      <td>The signal is low pass filtered at 45 percent ...</td>\n",
       "      <td>ECoG pynwb.ecephys.ElectrodeGroup at 0x1404823...</td>\n",
       "      <td>ECoG</td>\n",
       "      <td>2600.0</td>\n",
       "      <td>1000.0</td>\n",
       "      <td>0.0</td>\n",
       "    </tr>\n",
       "    <tr>\n",
       "      <th>4</th>\n",
       "      <td>NaN</td>\n",
       "      <td>NaN</td>\n",
       "      <td>NaN</td>\n",
       "      <td>NaN</td>\n",
       "      <td>AUD</td>\n",
       "      <td>The signal is low pass filtered at 45 percent ...</td>\n",
       "      <td>ECoG pynwb.ecephys.ElectrodeGroup at 0x1404823...</td>\n",
       "      <td>ECoG</td>\n",
       "      <td>3000.0</td>\n",
       "      <td>1200.0</td>\n",
       "      <td>0.0</td>\n",
       "    </tr>\n",
       "    <tr>\n",
       "      <th>...</th>\n",
       "      <td>...</td>\n",
       "      <td>...</td>\n",
       "      <td>...</td>\n",
       "      <td>...</td>\n",
       "      <td>...</td>\n",
       "      <td>...</td>\n",
       "      <td>...</td>\n",
       "      <td>...</td>\n",
       "      <td>...</td>\n",
       "      <td>...</td>\n",
       "      <td>...</td>\n",
       "    </tr>\n",
       "    <tr>\n",
       "      <th>123</th>\n",
       "      <td>NaN</td>\n",
       "      <td>NaN</td>\n",
       "      <td>NaN</td>\n",
       "      <td>NaN</td>\n",
       "      <td>AUD</td>\n",
       "      <td>The signal is low pass filtered at 45 percent ...</td>\n",
       "      <td>ECoG pynwb.ecephys.ElectrodeGroup at 0x1404823...</td>\n",
       "      <td>ECoG</td>\n",
       "      <td>2600.0</td>\n",
       "      <td>200.0</td>\n",
       "      <td>0.0</td>\n",
       "    </tr>\n",
       "    <tr>\n",
       "      <th>124</th>\n",
       "      <td>NaN</td>\n",
       "      <td>NaN</td>\n",
       "      <td>NaN</td>\n",
       "      <td>NaN</td>\n",
       "      <td>AUD</td>\n",
       "      <td>The signal is low pass filtered at 45 percent ...</td>\n",
       "      <td>ECoG pynwb.ecephys.ElectrodeGroup at 0x1404823...</td>\n",
       "      <td>ECoG</td>\n",
       "      <td>3000.0</td>\n",
       "      <td>400.0</td>\n",
       "      <td>0.0</td>\n",
       "    </tr>\n",
       "    <tr>\n",
       "      <th>125</th>\n",
       "      <td>NaN</td>\n",
       "      <td>NaN</td>\n",
       "      <td>NaN</td>\n",
       "      <td>NaN</td>\n",
       "      <td>AUD</td>\n",
       "      <td>The signal is low pass filtered at 45 percent ...</td>\n",
       "      <td>ECoG pynwb.ecephys.ElectrodeGroup at 0x1404823...</td>\n",
       "      <td>ECoG</td>\n",
       "      <td>2600.0</td>\n",
       "      <td>400.0</td>\n",
       "      <td>0.0</td>\n",
       "    </tr>\n",
       "    <tr>\n",
       "      <th>126</th>\n",
       "      <td>NaN</td>\n",
       "      <td>NaN</td>\n",
       "      <td>NaN</td>\n",
       "      <td>NaN</td>\n",
       "      <td>AUD</td>\n",
       "      <td>The signal is low pass filtered at 45 percent ...</td>\n",
       "      <td>ECoG pynwb.ecephys.ElectrodeGroup at 0x1404823...</td>\n",
       "      <td>ECoG</td>\n",
       "      <td>3000.0</td>\n",
       "      <td>600.0</td>\n",
       "      <td>0.0</td>\n",
       "    </tr>\n",
       "    <tr>\n",
       "      <th>127</th>\n",
       "      <td>NaN</td>\n",
       "      <td>NaN</td>\n",
       "      <td>NaN</td>\n",
       "      <td>NaN</td>\n",
       "      <td>AUD</td>\n",
       "      <td>The signal is low pass filtered at 45 percent ...</td>\n",
       "      <td>ECoG pynwb.ecephys.ElectrodeGroup at 0x1404823...</td>\n",
       "      <td>ECoG</td>\n",
       "      <td>2600.0</td>\n",
       "      <td>600.0</td>\n",
       "      <td>0.0</td>\n",
       "    </tr>\n",
       "  </tbody>\n",
       "</table>\n",
       "<p>128 rows × 11 columns</p>\n",
       "</div>"
      ],
      "text/plain": [
       "      x   y   z  imp location  \\\n",
       "id                              \n",
       "0   NaN NaN NaN  NaN      AUD   \n",
       "1   NaN NaN NaN  NaN      AUD   \n",
       "2   NaN NaN NaN  NaN      AUD   \n",
       "3   NaN NaN NaN  NaN      AUD   \n",
       "4   NaN NaN NaN  NaN      AUD   \n",
       "..   ..  ..  ..  ...      ...   \n",
       "123 NaN NaN NaN  NaN      AUD   \n",
       "124 NaN NaN NaN  NaN      AUD   \n",
       "125 NaN NaN NaN  NaN      AUD   \n",
       "126 NaN NaN NaN  NaN      AUD   \n",
       "127 NaN NaN NaN  NaN      AUD   \n",
       "\n",
       "                                             filtering  \\\n",
       "id                                                       \n",
       "0    The signal is low pass filtered at 45 percent ...   \n",
       "1    The signal is low pass filtered at 45 percent ...   \n",
       "2    The signal is low pass filtered at 45 percent ...   \n",
       "3    The signal is low pass filtered at 45 percent ...   \n",
       "4    The signal is low pass filtered at 45 percent ...   \n",
       "..                                                 ...   \n",
       "123  The signal is low pass filtered at 45 percent ...   \n",
       "124  The signal is low pass filtered at 45 percent ...   \n",
       "125  The signal is low pass filtered at 45 percent ...   \n",
       "126  The signal is low pass filtered at 45 percent ...   \n",
       "127  The signal is low pass filtered at 45 percent ...   \n",
       "\n",
       "                                                 group group_name   rel_x  \\\n",
       "id                                                                          \n",
       "0    ECoG pynwb.ecephys.ElectrodeGroup at 0x1404823...       ECoG  3000.0   \n",
       "1    ECoG pynwb.ecephys.ElectrodeGroup at 0x1404823...       ECoG  2600.0   \n",
       "2    ECoG pynwb.ecephys.ElectrodeGroup at 0x1404823...       ECoG  3000.0   \n",
       "3    ECoG pynwb.ecephys.ElectrodeGroup at 0x1404823...       ECoG  2600.0   \n",
       "4    ECoG pynwb.ecephys.ElectrodeGroup at 0x1404823...       ECoG  3000.0   \n",
       "..                                                 ...        ...     ...   \n",
       "123  ECoG pynwb.ecephys.ElectrodeGroup at 0x1404823...       ECoG  2600.0   \n",
       "124  ECoG pynwb.ecephys.ElectrodeGroup at 0x1404823...       ECoG  3000.0   \n",
       "125  ECoG pynwb.ecephys.ElectrodeGroup at 0x1404823...       ECoG  2600.0   \n",
       "126  ECoG pynwb.ecephys.ElectrodeGroup at 0x1404823...       ECoG  3000.0   \n",
       "127  ECoG pynwb.ecephys.ElectrodeGroup at 0x1404823...       ECoG  2600.0   \n",
       "\n",
       "      rel_y  rel_z  \n",
       "id                  \n",
       "0     800.0    0.0  \n",
       "1     800.0    0.0  \n",
       "2    1000.0    0.0  \n",
       "3    1000.0    0.0  \n",
       "4    1200.0    0.0  \n",
       "..      ...    ...  \n",
       "123   200.0    0.0  \n",
       "124   400.0    0.0  \n",
       "125   400.0    0.0  \n",
       "126   600.0    0.0  \n",
       "127   600.0    0.0  \n",
       "\n",
       "[128 rows x 11 columns]"
      ]
     },
     "execution_count": 82,
     "metadata": {},
     "output_type": "execute_result"
    }
   ],
   "source": [
    "nwbfile_in.electrodes.to_dataframe()"
   ]
  },
  {
   "cell_type": "code",
   "execution_count": 20,
   "metadata": {},
   "outputs": [
    {
     "ename": "ValueError",
     "evalue": "invalid literal for int() with base 10: ''",
     "output_type": "error",
     "traceback": [
      "\u001b[0;31m---------------------------------------------------------------------------\u001b[0m",
      "\u001b[0;31mValueError\u001b[0m                                Traceback (most recent call last)",
      "\u001b[0;32m<ipython-input-20-30f3817d8ba9>\u001b[0m in \u001b[0;36m<module>\u001b[0;34m\u001b[0m\n\u001b[0;32m----> 1\u001b[0;31m \u001b[0mch_ids\u001b[0m \u001b[0;34m=\u001b[0m \u001b[0mnp\u001b[0m\u001b[0;34m.\u001b[0m\u001b[0marray\u001b[0m\u001b[0;34m(\u001b[0m\u001b[0;34m[\u001b[0m\u001b[0mint\u001b[0m\u001b[0;34m(\u001b[0m\u001b[0mch\u001b[0m\u001b[0;34m)\u001b[0m \u001b[0;32mfor\u001b[0m \u001b[0mch\u001b[0m \u001b[0;32min\u001b[0m \u001b[0mnwbfile_in\u001b[0m\u001b[0;34m.\u001b[0m\u001b[0melectrodes\u001b[0m\u001b[0;34m.\u001b[0m\u001b[0mlocation\u001b[0m\u001b[0;34m.\u001b[0m\u001b[0mdata\u001b[0m\u001b[0;34m[\u001b[0m\u001b[0mdevice_idx\u001b[0m\u001b[0;34m]\u001b[0m\u001b[0;34m]\u001b[0m\u001b[0;34m)\u001b[0m\u001b[0;34m\u001b[0m\u001b[0;34m\u001b[0m\u001b[0m\n\u001b[0m",
      "\u001b[0;32m<ipython-input-20-30f3817d8ba9>\u001b[0m in \u001b[0;36m<listcomp>\u001b[0;34m(.0)\u001b[0m\n\u001b[0;32m----> 1\u001b[0;31m \u001b[0mch_ids\u001b[0m \u001b[0;34m=\u001b[0m \u001b[0mnp\u001b[0m\u001b[0;34m.\u001b[0m\u001b[0marray\u001b[0m\u001b[0;34m(\u001b[0m\u001b[0;34m[\u001b[0m\u001b[0mint\u001b[0m\u001b[0;34m(\u001b[0m\u001b[0mch\u001b[0m\u001b[0;34m)\u001b[0m \u001b[0;32mfor\u001b[0m \u001b[0mch\u001b[0m \u001b[0;32min\u001b[0m \u001b[0mnwbfile_in\u001b[0m\u001b[0;34m.\u001b[0m\u001b[0melectrodes\u001b[0m\u001b[0;34m.\u001b[0m\u001b[0mlocation\u001b[0m\u001b[0;34m.\u001b[0m\u001b[0mdata\u001b[0m\u001b[0;34m[\u001b[0m\u001b[0mdevice_idx\u001b[0m\u001b[0;34m]\u001b[0m\u001b[0;34m]\u001b[0m\u001b[0;34m)\u001b[0m\u001b[0;34m\u001b[0m\u001b[0;34m\u001b[0m\u001b[0m\n\u001b[0m",
      "\u001b[0;31mValueError\u001b[0m: invalid literal for int() with base 10: ''"
     ]
    }
   ],
   "source": [
    "ch_ids = np.array([int(ch) for ch in nwbfile_in.electrodes.location.data[device_idx]])"
   ]
  },
  {
   "cell_type": "code",
   "execution_count": 22,
   "metadata": {},
   "outputs": [
    {
     "data": {
      "text/plain": [
       "array(['', '', '', '', '', '', '', '', '', '', '', '', '', '', '', '', '',\n",
       "       '', '', '', '', '', '', '', '', '', '', '', '', '', '', '', '', '',\n",
       "       '', '', '', '', '', '', '', '', '', '', '', '', '', '', '', '', '',\n",
       "       '', '', '', '', '', '', '', '', '', '', '', '', '', '', '', '', '',\n",
       "       '', '', '', '', '', '', '', '', '', '', '', '', '', '', '', '', '',\n",
       "       '', '', '', '', '', '', '', '', '', '', '', '', '', '', '', '', '',\n",
       "       '', '', '', '', '', '', '', '', '', '', '', '', '', '', '', '', '',\n",
       "       '', '', '', '', '', '', '', '', '', '', '', '', '', '', '', '', '',\n",
       "       '', '', '', '', '', '', '', '', '', '', '', '', '', '', '', '', '',\n",
       "       '', '', '', '', '', '', '', '', '', '', '', '', '', '', '', '', '',\n",
       "       '', '', '', '', '', '', '', '', '', '', '', '', '', '', '', '', '',\n",
       "       '', '', '', '', ''], dtype=object)"
      ]
     },
     "execution_count": 22,
     "metadata": {},
     "output_type": "execute_result"
    }
   ],
   "source": [
    "nwbfile_in.electrodes.location.data[:]"
   ]
  },
  {
   "cell_type": "code",
   "execution_count": null,
   "metadata": {},
   "outputs": [],
   "source": []
  },
  {
   "cell_type": "code",
   "execution_count": 79,
   "metadata": {},
   "outputs": [
    {
     "data": {
      "text/plain": [
       "trials pynwb.epoch.TimeIntervals at 0x140482394036736\n",
       "Fields:\n",
       "  colnames: ['start_time' 'stop_time' 'sb' 'frq' 'amp']\n",
       "  columns: (\n",
       "    start_time <class 'hdmf.common.table.VectorData'>,\n",
       "    stop_time <class 'hdmf.common.table.VectorData'>,\n",
       "    sb <class 'hdmf.common.table.VectorData'>,\n",
       "    frq <class 'hdmf.common.table.VectorData'>,\n",
       "    amp <class 'hdmf.common.table.VectorData'>\n",
       "  )\n",
       "  description: experimental trials\n",
       "  id: id <class 'hdmf.common.table.ElementIdentifiers'>"
      ]
     },
     "execution_count": 79,
     "metadata": {},
     "output_type": "execute_result"
    }
   ],
   "source": [
    "nwbfile_in.trials"
   ]
  },
  {
   "cell_type": "code",
   "execution_count": 78,
   "metadata": {},
   "outputs": [],
   "source": [
    "df = nwbfile_in.trials.to_dataframe()\n",
    "df = df[df[\"sb\"] == \"s\"]\n",
    "df"
   ]
  },
  {
   "cell_type": "code",
   "execution_count": 222,
   "metadata": {},
   "outputs": [],
   "source": [
    "onsets = df.iloc[:, [0,2]]"
   ]
  },
  {
   "cell_type": "code",
   "execution_count": 227,
   "metadata": {},
   "outputs": [],
   "source": [
    "markers = onsets['start_time'].to_list()"
   ]
  },
  {
   "cell_type": "code",
   "execution_count": 229,
   "metadata": {},
   "outputs": [],
   "source": [
    "marker_onsets = [int(x*fs+fs_stim_delay) for x in markers]"
   ]
  },
  {
   "cell_type": "code",
   "execution_count": 230,
   "metadata": {},
   "outputs": [
    {
     "data": {
      "text/plain": [
       "[218138,\n",
       " 230345,\n",
       " 242552,\n",
       " 254759,\n",
       " 266966,\n",
       " 279174,\n",
       " 291381,\n",
       " 303588,\n",
       " 315795,\n",
       " 328002,\n",
       " 340209,\n",
       " 352416,\n",
       " 364623,\n",
       " 376830,\n",
       " 389037,\n",
       " 401244,\n",
       " 413452,\n",
       " 425659,\n",
       " 437866,\n",
       " 450073,\n",
       " 462280,\n",
       " 474487,\n",
       " 486694,\n",
       " 498901,\n",
       " 511108,\n",
       " 523315,\n",
       " 535523,\n",
       " 547730,\n",
       " 559937,\n",
       " 572144,\n",
       " 584351,\n",
       " 596558,\n",
       " 608765,\n",
       " 620972,\n",
       " 633179,\n",
       " 645386,\n",
       " 657593,\n",
       " 669801,\n",
       " 682008,\n",
       " 694215,\n",
       " 706422,\n",
       " 718629,\n",
       " 730836,\n",
       " 743043,\n",
       " 755250,\n",
       " 767457,\n",
       " 779664,\n",
       " 791872,\n",
       " 804079,\n",
       " 816286,\n",
       " 828493,\n",
       " 840700,\n",
       " 852907,\n",
       " 865114,\n",
       " 877321,\n",
       " 889528,\n",
       " 901735,\n",
       " 913942,\n",
       " 926150]"
      ]
     },
     "execution_count": 230,
     "metadata": {},
     "output_type": "execute_result"
    }
   ],
   "source": [
    "marker_onsets"
   ]
  },
  {
   "cell_type": "code",
   "execution_count": 228,
   "metadata": {},
   "outputs": [],
   "source": [
    "fs_stim_delay = .25* fs"
   ]
  },
  {
   "cell_type": "code",
   "execution_count": 11,
   "metadata": {},
   "outputs": [],
   "source": [
    "data = nwbfile_in.acquisition['ECoG'].data"
   ]
  },
  {
   "cell_type": "code",
   "execution_count": 43,
   "metadata": {},
   "outputs": [
    {
     "data": {
      "text/plain": [
       "978944"
      ]
     },
     "execution_count": 43,
     "metadata": {},
     "output_type": "execute_result"
    }
   ],
   "source": [
    "data.shape[0]"
   ]
  },
  {
   "cell_type": "code",
   "execution_count": 40,
   "metadata": {},
   "outputs": [
    {
     "data": {
      "text/plain": [
       "12207.03125"
      ]
     },
     "execution_count": 40,
     "metadata": {},
     "output_type": "execute_result"
    }
   ],
   "source": [
    "fs = nwbfile_in.acquisition['ECoG'].rate\n",
    "fs"
   ]
  },
  {
   "cell_type": "code",
   "execution_count": 123,
   "metadata": {},
   "outputs": [
    {
     "data": {
      "text/plain": [
       "980992"
      ]
     },
     "execution_count": 123,
     "metadata": {},
     "output_type": "execute_result"
    }
   ],
   "source": [
    "mark_data = nwbfile_in.stimulus['recorded_mark'].data\n",
    "len(mark_data)"
   ]
  },
  {
   "cell_type": "code",
   "execution_count": 129,
   "metadata": {},
   "outputs": [
    {
     "data": {
      "text/plain": [
       "12207.03125"
      ]
     },
     "execution_count": 129,
     "metadata": {},
     "output_type": "execute_result"
    }
   ],
   "source": [
    "mark_fs = nwbfile_in.stimulus['recorded_mark'].rate\n",
    "mark_fs"
   ]
  },
  {
   "cell_type": "code",
   "execution_count": 52,
   "metadata": {},
   "outputs": [],
   "source": [
    "mark_offset = 0.25"
   ]
  },
  {
   "cell_type": "code",
   "execution_count": 53,
   "metadata": {},
   "outputs": [],
   "source": [
    "stim_duration = 0.1"
   ]
  },
  {
   "cell_type": "code",
   "execution_count": 56,
   "metadata": {},
   "outputs": [
    {
     "data": {
      "text/plain": [
       "12207.03125"
      ]
     },
     "execution_count": 56,
     "metadata": {},
     "output_type": "execute_result"
    }
   ],
   "source": [
    "mark_fs"
   ]
  },
  {
   "cell_type": "markdown",
   "metadata": {},
   "source": [
    "Vanessa Practice"
   ]
  },
  {
   "cell_type": "code",
   "execution_count": 44,
   "metadata": {},
   "outputs": [],
   "source": [
    "end_time = data.shape[0] / fs"
   ]
  },
  {
   "cell_type": "code",
   "execution_count": 50,
   "metadata": {},
   "outputs": [],
   "source": [
    "# np.arange(0.5, end_time, 1.0)"
   ]
  },
  {
   "cell_type": "code",
   "execution_count": 128,
   "metadata": {},
   "outputs": [
    {
     "data": {
      "text/plain": [
       "1220.703125"
      ]
     },
     "execution_count": 128,
     "metadata": {},
     "output_type": "execute_result"
    }
   ],
   "source": [
    "stim_dur_samp = stim_duration*mark_fs\n",
    "stim_dur_samp"
   ]
  },
  {
   "cell_type": "code",
   "execution_count": 59,
   "metadata": {},
   "outputs": [],
   "source": [
    "mark_threshold = 0.3"
   ]
  },
  {
   "cell_type": "code",
   "execution_count": 158,
   "metadata": {},
   "outputs": [
    {
     "data": {
      "text/plain": [
       "(980992,)"
      ]
     },
     "execution_count": 158,
     "metadata": {},
     "output_type": "execute_result"
    }
   ],
   "source": [
    "idk = mark_data[:] > mark_threshold\n",
    "idk.shape"
   ]
  },
  {
   "cell_type": "code",
   "execution_count": 167,
   "metadata": {},
   "outputs": [],
   "source": [
    "thresh_crossings = np.diff( (idk).astype('int'), axis=0 )"
   ]
  },
  {
   "cell_type": "code",
   "execution_count": 163,
   "metadata": {},
   "outputs": [
    {
     "data": {
      "text/plain": [
       "(980991,)"
      ]
     },
     "execution_count": 163,
     "metadata": {},
     "output_type": "execute_result"
    }
   ],
   "source": [
    "thresh_crossings.shape"
   ]
  },
  {
   "cell_type": "code",
   "execution_count": 134,
   "metadata": {},
   "outputs": [],
   "source": [
    "new_thresh_crossings = np.r_[idk[0], thresh_crossings].cumsum()"
   ]
  },
  {
   "cell_type": "code",
   "execution_count": 221,
   "metadata": {},
   "outputs": [
    {
     "data": {
      "text/plain": [
       "array([212035, 224242, 236449, 248656, 260863, 273071, 285278, 297485,\n",
       "       309692, 321899, 334106, 346313, 358520, 370727, 382934, 395141,\n",
       "       407349, 419556, 431763, 443970, 456177, 468384, 480591, 492798,\n",
       "       505005, 517212, 529420, 541627, 553834, 566041, 578248, 590455,\n",
       "       602662, 614869, 627076, 639283, 651490, 663698, 675905, 688112,\n",
       "       700319, 712526, 724733, 736940, 749147, 761354, 773561, 785769,\n",
       "       797976, 810183, 822390, 834597, 846804, 859011, 871218, 883425,\n",
       "       895632, 907839, 920047])"
      ]
     },
     "execution_count": 221,
     "metadata": {},
     "output_type": "execute_result"
    }
   ],
   "source": [
    "stim_onsets = np.where(thresh_crossings > 0.5)[0] + 1\n",
    "stim_onsets"
   ]
  },
  {
   "cell_type": "code",
   "execution_count": 181,
   "metadata": {},
   "outputs": [
    {
     "data": {
      "text/plain": [
       "[212035]"
      ]
     },
     "execution_count": 181,
     "metadata": {},
     "output_type": "execute_result"
    }
   ],
   "source": [
    "real_stim_onsets = [stim_onsets[0]]\n",
    "real_stim_onsets"
   ]
  },
  {
   "cell_type": "code",
   "execution_count": 192,
   "metadata": {},
   "outputs": [],
   "source": [
    "for stim_onset in stim_onsets[1:]:\n",
    "        # Check that each stim onset is more than 2x the stimulus duration since the previous\n",
    "        if stim_onset > real_stim_onsets[-1] + 2*stim_dur_samp:\n",
    "            real_stim_onsets.append(stim_onset)"
   ]
  },
  {
   "cell_type": "code",
   "execution_count": 193,
   "metadata": {},
   "outputs": [
    {
     "name": "stdout",
     "output_type": "stream",
     "text": [
      "WARNING\n"
     ]
    }
   ],
   "source": [
    "if len(real_stim_onsets) != 60:\n",
    "        print(\"WARNING\")"
   ]
  },
  {
   "cell_type": "code",
   "execution_count": 220,
   "metadata": {},
   "outputs": [
    {
     "data": {
      "text/plain": [
       "array([17.3699072 , 18.36990464, 19.36990208, 20.36989952, 21.36989696,\n",
       "       22.36997632, 23.36997376, 24.3699712 , 25.36996864, 26.36996608,\n",
       "       27.36996352, 28.36996096, 29.3699584 , 30.36995584, 31.36995328,\n",
       "       32.36995072, 33.37003008, 34.37002752, 35.37002496, 36.3700224 ,\n",
       "       37.37001984, 38.37001728, 39.37001472, 40.37001216, 41.3700096 ,\n",
       "       42.37000704, 43.3700864 , 44.37008384, 45.37008128, 46.37007872,\n",
       "       47.37007616, 48.3700736 , 49.37007104, 50.37006848, 51.37006592,\n",
       "       52.37006336, 53.3700608 , 54.37014016, 55.3701376 , 56.37013504,\n",
       "       57.37013248, 58.37012992, 59.37012736, 60.3701248 , 61.37012224,\n",
       "       62.37011968, 63.37011712, 64.37019648, 65.37019392, 66.37019136,\n",
       "       67.3701888 , 68.37018624, 69.37018368, 70.37018112, 71.37017856,\n",
       "       72.370176  , 73.37017344, 74.37017088, 75.37025024])"
      ]
     },
     "execution_count": 220,
     "metadata": {},
     "output_type": "execute_result"
    }
   ],
   "source": [
    "markers = (real_stim_onsets / mark_fs)\n",
    "markers"
   ]
  },
  {
   "cell_type": "code",
   "execution_count": 169,
   "metadata": {},
   "outputs": [
    {
     "data": {
      "text/plain": [
       "(59,)"
      ]
     },
     "execution_count": 169,
     "metadata": {},
     "output_type": "execute_result"
    }
   ],
   "source": [
    "markers.shape"
   ]
  },
  {
   "cell_type": "code",
   "execution_count": 176,
   "metadata": {},
   "outputs": [],
   "source": [
    "a = np.array([2,3,4])"
   ]
  },
  {
   "cell_type": "code",
   "execution_count": 177,
   "metadata": {},
   "outputs": [
    {
     "data": {
      "text/plain": [
       "array([1, 2, 3, 4])"
      ]
     },
     "execution_count": 177,
     "metadata": {},
     "output_type": "execute_result"
    }
   ],
   "source": [
    "np.insert(a, 0, 1)"
   ]
  },
  {
   "cell_type": "code",
   "execution_count": 196,
   "metadata": {},
   "outputs": [
    {
     "data": {
      "text/plain": [
       "array([16.369907  , 17.3699072 , 18.36990464, 19.36990208, 20.36989952,\n",
       "       21.36989696, 22.36997632, 23.36997376, 24.3699712 , 25.36996864,\n",
       "       26.36996608, 27.36996352, 28.36996096, 29.3699584 , 30.36995584,\n",
       "       31.36995328, 32.36995072, 33.37003008, 34.37002752, 35.37002496,\n",
       "       36.3700224 , 37.37001984, 38.37001728, 39.37001472, 40.37001216,\n",
       "       41.3700096 , 42.37000704, 43.3700864 , 44.37008384, 45.37008128,\n",
       "       46.37007872, 47.37007616, 48.3700736 , 49.37007104, 50.37006848,\n",
       "       51.37006592, 52.37006336, 53.3700608 , 54.37014016, 55.3701376 ,\n",
       "       56.37013504, 57.37013248, 58.37012992, 59.37012736, 60.3701248 ,\n",
       "       61.37012224, 62.37011968, 63.37011712, 64.37019648, 65.37019392,\n",
       "       66.37019136, 67.3701888 , 68.37018624, 69.37018368, 70.37018112,\n",
       "       71.37017856, 72.370176  , 73.37017344, 74.37017088, 75.37025024])"
      ]
     },
     "execution_count": 196,
     "metadata": {},
     "output_type": "execute_result"
    }
   ],
   "source": [
    "np.insert(markers, 0, 16.369907)"
   ]
  },
  {
   "cell_type": "code",
   "execution_count": null,
   "metadata": {},
   "outputs": [],
   "source": []
  },
  {
   "cell_type": "code",
   "execution_count": null,
   "metadata": {},
   "outputs": [],
   "source": []
  },
  {
   "cell_type": "code",
   "execution_count": 12,
   "metadata": {},
   "outputs": [],
   "source": [
    "chs_ordered = [\n",
    "       81, 83, 85, 87, 89, 91, 93, 95, 97, 105, 98, 106, 114, 122, 113, 121,\n",
    "       82, 84, 86, 88, 90, 92, 94, 96, 99, 107, 100, 108, 116, 124, 115, 123,\n",
    "       66, 68, 70, 72, 74, 76, 78, 80, 101, 109, 102, 110, 118, 126, 117, 125,\n",
    "       65, 67, 69, 71, 73, 75, 77, 79, 103, 111, 104, 112, 120, 128, 119, 127,\n",
    "       63, 61, 59, 57, 55, 53, 51, 49, 25, 17, 26, 18, 10, 2, 9, 1,\n",
    "       64, 62, 60, 58, 56, 54, 52, 50, 27, 19, 28, 20, 12, 4, 11, 3,\n",
    "       48, 46, 44, 42, 40, 38, 36, 34, 29, 21, 30, 22, 14, 6, 13, 5,\n",
    "       47, 45, 43, 41, 39, 37, 35, 33, 31, 23, 32, 24, 16, 8, 15, 7\n",
    "       ]"
   ]
  },
  {
   "cell_type": "code",
   "execution_count": 18,
   "metadata": {},
   "outputs": [],
   "source": [
    "shape_wanted = data.shape\n",
    "new_data = np.empty((shape_wanted[0], shape_wanted[1]))"
   ]
  },
  {
   "cell_type": "code",
   "execution_count": 20,
   "metadata": {},
   "outputs": [
    {
     "name": "stdout",
     "output_type": "stream",
     "text": [
      "[[-271. -262. -266. ... -158. -113. -181.]\n",
      " [-276. -263. -262. ... -152. -120. -193.]\n",
      " [-271. -257. -249. ... -201. -127. -220.]\n",
      " ...\n",
      " [  -6.   12.   40. ... -597. -556. -523.]\n",
      " [   1.   13.   37. ... -568. -530. -496.]\n",
      " [   3.   15.   35. ... -528. -500. -473.]]\n"
     ]
    }
   ],
   "source": [
    "for i in np.arange(shape_wanted[1]):\n",
    "    new_data[:, i] = data[:, (chs_ordered[i] - 1)]\n",
    "print(new_data) "
   ]
  },
  {
   "cell_type": "code",
   "execution_count": 22,
   "metadata": {},
   "outputs": [
    {
     "data": {
      "text/plain": [
       "array([-271., -262., -266., -251., -411., -292., -273., -240., -223.,\n",
       "       -111., -214., -174., -222.,  185., -189., -216., -255., -216.,\n",
       "       -336., -485., -361., -319., -303., -262., -225., -113., -221.,\n",
       "       -104., -219.,   -2., -224., -201., -208., -120., -321., -402.,\n",
       "       -395., -183., -387., -361., -100., -222., -217., -186., -204.,\n",
       "         33., -201., -223., -381., -362., -390., -409., -376., -383.,\n",
       "       -401., -379., -118., -243., -174., -238., -277.,  -17., -209.,\n",
       "       -202.,  -74.,  -84.,  -97.,  -75.,  -82.,  -73.,  -79.,  -85.,\n",
       "        -96., -109., -105., -100., -162., -129., -110., -178.,  -51.,\n",
       "        -76.,  -95.,  -84.,  -50.,  -62., -119.,  -99., -116., -133.,\n",
       "       -105., -113., -177., -109., -130., -180.,  -84.,  -49., -110.,\n",
       "        -91., -131., -106., -127.,  -89., -113., -120., -129.,  -98.,\n",
       "       -155., -114., -113., -169.,  -94.,  -84., -113.,  -98., -120.,\n",
       "        -98., -108., -106., -120., -109., -102., -102., -157., -158.,\n",
       "       -113., -181.])"
      ]
     },
     "execution_count": 22,
     "metadata": {},
     "output_type": "execute_result"
    }
   ],
   "source": [
    "new_data[0]"
   ]
  },
  {
   "cell_type": "code",
   "execution_count": null,
   "metadata": {},
   "outputs": [],
   "source": []
  },
  {
   "cell_type": "code",
   "execution_count": null,
   "metadata": {},
   "outputs": [],
   "source": []
  },
  {
   "cell_type": "code",
   "execution_count": null,
   "metadata": {},
   "outputs": [],
   "source": []
  },
  {
   "cell_type": "code",
   "execution_count": null,
   "metadata": {},
   "outputs": [],
   "source": []
  },
  {
   "cell_type": "code",
   "execution_count": null,
   "metadata": {},
   "outputs": [],
   "source": []
  },
  {
   "cell_type": "code",
   "execution_count": null,
   "metadata": {},
   "outputs": [],
   "source": []
  },
  {
   "cell_type": "code",
   "execution_count": null,
   "metadata": {},
   "outputs": [],
   "source": []
  },
  {
   "cell_type": "code",
   "execution_count": null,
   "metadata": {},
   "outputs": [],
   "source": []
  },
  {
   "cell_type": "code",
   "execution_count": null,
   "metadata": {},
   "outputs": [],
   "source": []
  },
  {
   "cell_type": "code",
   "execution_count": null,
   "metadata": {},
   "outputs": [],
   "source": []
  },
  {
   "cell_type": "code",
   "execution_count": 24,
   "metadata": {},
   "outputs": [],
   "source": [
    "one_timepoint = nwbfile_in.acquisition['ECoG'].data[:, :]"
   ]
  },
  {
   "cell_type": "code",
   "execution_count": 25,
   "metadata": {
    "scrolled": true
   },
   "outputs": [
    {
     "data": {
      "text/plain": [
       "(17860806, 128)"
      ]
     },
     "execution_count": 25,
     "metadata": {},
     "output_type": "execute_result"
    }
   ],
   "source": [
    "one_timepoint.shape"
   ]
  },
  {
   "cell_type": "code",
   "execution_count": 28,
   "metadata": {},
   "outputs": [
    {
     "data": {
      "text/plain": [
       "1463.15722752"
      ]
     },
     "execution_count": 28,
     "metadata": {},
     "output_type": "execute_result"
    }
   ],
   "source": [
    "17860806/nwbfile_in.acquisition['ECoG'].rate"
   ]
  },
  {
   "cell_type": "code",
   "execution_count": 29,
   "metadata": {},
   "outputs": [
    {
     "data": {
      "text/plain": [
       "24.383333333333333"
      ]
     },
     "execution_count": 29,
     "metadata": {},
     "output_type": "execute_result"
    }
   ],
   "source": [
    "1463/60"
   ]
  },
  {
   "cell_type": "code",
   "execution_count": null,
   "metadata": {},
   "outputs": [],
   "source": [
    "nwbfile_in.stimulus['recorded_mark']"
   ]
  },
  {
   "cell_type": "code",
   "execution_count": 30,
   "metadata": {},
   "outputs": [],
   "source": [
    "io1 = NWBHDF5IO('/Users/macproizzy/Desktop/R56_B13/R56_B13.nwb', 'r')\n",
    "nwbfile_in1 = io1.read()"
   ]
  },
  {
   "cell_type": "code",
   "execution_count": 31,
   "metadata": {
    "scrolled": true
   },
   "outputs": [
    {
     "data": {
      "text/plain": [
       "root pynwb.file.NWBFile at 0x140587758073216\n",
       "Fields:\n",
       "  acquisition: {\n",
       "    Raw <class 'pynwb.ecephys.LFP'>\n",
       "  }\n",
       "  devices: {\n",
       "    ECoG <class 'pynwb.device.Device'>,\n",
       "    Poly <class 'pynwb.device.Device'>\n",
       "  }\n",
       "  electrode_groups: {\n",
       "    ECoG <class 'pynwb.ecephys.ElectrodeGroup'>,\n",
       "    Poly <class 'pynwb.ecephys.ElectrodeGroup'>\n",
       "  }\n",
       "  electrodes: electrodes <class 'hdmf.common.table.DynamicTable'>\n",
       "  experiment_description: wn2 Stimulus Experiment\n",
       "  experimenter: ['Max Dougherty']\n",
       "  file_create_date: [datetime.datetime(2020, 12, 1, 12, 54, 12, 164816, tzinfo=tzoffset(None, -28800))]\n",
       "  identifier: R56_B13\n",
       "  institution: Lawrence Berkeley National Laboratory\n",
       "  intervals: {\n",
       "    trials <class 'pynwb.epoch.TimeIntervals'>\n",
       "  }\n",
       "  lab: Bouchard Lab\n",
       "  notes: TODO\n",
       "  pharmacology: TODO\n",
       "  processing: {\n",
       "    ECoG <class 'pynwb.base.ProcessingModule'>,\n",
       "    Hilb_54bands <class 'pynwb.base.ProcessingModule'>,\n",
       "    tMUA <class 'pynwb.base.ProcessingModule'>,\n",
       "    tMUA_rate <class 'pynwb.base.ProcessingModule'>\n",
       "  }\n",
       "  session_description: foo\n",
       "  session_id: R56_B13\n",
       "  session_start_time: 2020-12-01 12:54:12.164813-08:00\n",
       "  stimulus: {\n",
       "    recorded_mark <class 'pynwb.base.TimeSeries'>,\n",
       "    recorded_stim <class 'pynwb.base.TimeSeries'>\n",
       "  }\n",
       "  surgery: Acute Craniotomy\n",
       "  timestamps_reference_time: 2020-12-01 12:54:12.164813-08:00\n",
       "  trials: trials <class 'pynwb.epoch.TimeIntervals'>"
      ]
     },
     "execution_count": 31,
     "metadata": {},
     "output_type": "execute_result"
    }
   ],
   "source": [
    "nwbfile_in1"
   ]
  },
  {
   "cell_type": "code",
   "execution_count": 38,
   "metadata": {},
   "outputs": [
    {
     "data": {
      "text/plain": [
       "{'ECoG': ECoG pynwb.misc.DecompositionSeries at 0x140587755856320\n",
       " Fields:\n",
       "   bands: bands <class 'hdmf.common.table.DynamicTable'>\n",
       "   comments: no comments\n",
       "   conversion: 1.0\n",
       "   data: <HDF5 dataset \"data\": shape (29367, 128, 54), type \"<f4\">\n",
       "   description: processed data\n",
       "   metric: amplitude\n",
       "   rate: 400.0\n",
       "   resolution: 0.0\n",
       "   source_timeseries: ECoG pynwb.ecephys.ElectricalSeries at 0x140587754326960\n",
       " Fields:\n",
       "   comments: no comments\n",
       "   conversion: 1.0\n",
       "   data: <HDF5 dataset \"data\": shape (448099, 128), type \"<f4\">\n",
       "   description: no description\n",
       "   electrodes: electrodes <class 'hdmf.common.table.DynamicTableRegion'>\n",
       "   rate: 6103.515625\n",
       "   resolution: 0.0\n",
       "   starting_time: 0.0\n",
       "   starting_time_unit: seconds\n",
       "   unit: volts\n",
       " \n",
       "   starting_time: 0.0\n",
       "   starting_time_unit: seconds\n",
       "   unit: no unit}"
      ]
     },
     "execution_count": 38,
     "metadata": {},
     "output_type": "execute_result"
    }
   ],
   "source": [
    "nwbfile_in1.processing['Hilb_54bands'].data_interfaces"
   ]
  },
  {
   "cell_type": "code",
   "execution_count": 32,
   "metadata": {
    "scrolled": true
   },
   "outputs": [
    {
     "data": {
      "text/plain": [
       "Raw pynwb.ecephys.LFP at 0x140587758259264\n",
       "Fields:\n",
       "  electrical_series: {\n",
       "    ECoG <class 'pynwb.ecephys.ElectricalSeries'>,\n",
       "    Poly <class 'pynwb.ecephys.ElectricalSeries'>\n",
       "  }"
      ]
     },
     "execution_count": 32,
     "metadata": {},
     "output_type": "execute_result"
    }
   ],
   "source": [
    "nwbfile_in1.acquisition['Raw']"
   ]
  },
  {
   "cell_type": "code",
   "execution_count": 34,
   "metadata": {},
   "outputs": [
    {
     "data": {
      "text/plain": [
       "<HDF5 dataset \"data\": shape (1792394, 64), type \"<f4\">"
      ]
     },
     "execution_count": 34,
     "metadata": {},
     "output_type": "execute_result"
    }
   ],
   "source": [
    "nwbfile_in1.acquisition['Raw']['Poly'].data"
   ]
  },
  {
   "cell_type": "code",
   "execution_count": null,
   "metadata": {},
   "outputs": [],
   "source": [
    "nwbfile_in1.processing['tMUA_rate'].data_interfaces['ECoG']"
   ]
  }
 ],
 "metadata": {
  "kernelspec": {
   "display_name": "Python 3",
   "language": "python",
   "name": "python3"
  },
  "language_info": {
   "codemirror_mode": {
    "name": "ipython",
    "version": 3
   },
   "file_extension": ".py",
   "mimetype": "text/x-python",
   "name": "python",
   "nbconvert_exporter": "python",
   "pygments_lexer": "ipython3",
   "version": "3.8.5"
  }
 },
 "nbformat": 4,
 "nbformat_minor": 4
}
