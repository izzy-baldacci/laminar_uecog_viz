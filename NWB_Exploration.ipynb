{
 "cells": [
  {
   "cell_type": "markdown",
   "metadata": {},
   "source": [
    "# NWB exploration"
   ]
  },
  {
   "cell_type": "code",
   "execution_count": 3,
   "metadata": {},
   "outputs": [],
   "source": [
    "from pynwb import NWBHDF5IO"
   ]
  },
  {
   "cell_type": "code",
   "execution_count": 5,
   "metadata": {},
   "outputs": [],
   "source": [
    "#change pathway as needed\n",
    "io = NWBHDF5IO('/Users/macproizzy/Desktop/R32_B7/R32_B7.nwb', 'r')\n",
    "nwbfile_in = io.read()"
   ]
  },
  {
   "cell_type": "code",
   "execution_count": 6,
   "metadata": {},
   "outputs": [
    {
     "data": {
      "text/plain": [
       "root pynwb.file.NWBFile at 0x140587754326864\n",
       "Fields:\n",
       "  acquisition: {\n",
       "    ECoG <class 'pynwb.ecephys.ElectricalSeries'>,\n",
       "    Poly <class 'pynwb.ecephys.ElectricalSeries'>\n",
       "  }\n",
       "  devices: {\n",
       "    ECoG <class 'pynwb.device.Device'>,\n",
       "    Poly <class 'pynwb.device.Device'>\n",
       "  }\n",
       "  electrode_groups: {\n",
       "    ECoG <class 'pynwb.ecephys.ElectrodeGroup'>,\n",
       "    Poly <class 'pynwb.ecephys.ElectrodeGroup'>\n",
       "  }\n",
       "  electrodes: electrodes <class 'hdmf.common.table.DynamicTable'>\n",
       "  experiment_description: tone Stimulus Experiment\n",
       "  experimenter: ['Max Dougherty']\n",
       "  file_create_date: [datetime.datetime(2021, 3, 9, 13, 45, 38, 166072, tzinfo=tzoffset(None, -28800))]\n",
       "  identifier: R32_B7\n",
       "  institution: Lawrence Berkeley National Laboratory\n",
       "  intervals: {\n",
       "    trials <class 'pynwb.epoch.TimeIntervals'>\n",
       "  }\n",
       "  lab: Bouchard Lab\n",
       "  notes: TODO\n",
       "  pharmacology: TODO\n",
       "  session_description: foo\n",
       "  session_id: R32_B7\n",
       "  session_start_time: 2021-03-09 13:45:38.166070-08:00\n",
       "  stimulus: {\n",
       "    raw_stimulus <class 'pynwb.base.TimeSeries'>,\n",
       "    recorded_mark <class 'pynwb.base.TimeSeries'>\n",
       "  }\n",
       "  surgery: Acute Craniotomy\n",
       "  timestamps_reference_time: 2021-03-09 13:45:38.166070-08:00\n",
       "  trials: trials <class 'pynwb.epoch.TimeIntervals'>"
      ]
     },
     "execution_count": 6,
     "metadata": {},
     "output_type": "execute_result"
    }
   ],
   "source": [
    "nwbfile_in"
   ]
  },
  {
   "cell_type": "code",
   "execution_count": 11,
   "metadata": {},
   "outputs": [
    {
     "data": {
      "text/plain": [
       "<HDF5 dataset \"electrodes\": shape (32,), type \"<i8\">"
      ]
     },
     "execution_count": 11,
     "metadata": {},
     "output_type": "execute_result"
    }
   ],
   "source": [
    "nwbfile_in.acquisition['ECoG'].electrodes.data"
   ]
  },
  {
   "cell_type": "code",
   "execution_count": 24,
   "metadata": {},
   "outputs": [],
   "source": [
    "one_timepoint = nwbfile_in.acquisition['ECoG'].data[:, :]"
   ]
  },
  {
   "cell_type": "code",
   "execution_count": 25,
   "metadata": {
    "scrolled": true
   },
   "outputs": [
    {
     "data": {
      "text/plain": [
       "(17860806, 128)"
      ]
     },
     "execution_count": 25,
     "metadata": {},
     "output_type": "execute_result"
    }
   ],
   "source": [
    "one_timepoint.shape"
   ]
  },
  {
   "cell_type": "code",
   "execution_count": 28,
   "metadata": {},
   "outputs": [
    {
     "data": {
      "text/plain": [
       "1463.15722752"
      ]
     },
     "execution_count": 28,
     "metadata": {},
     "output_type": "execute_result"
    }
   ],
   "source": [
    "17860806/nwbfile_in.acquisition['ECoG'].rate"
   ]
  },
  {
   "cell_type": "code",
   "execution_count": 29,
   "metadata": {},
   "outputs": [
    {
     "data": {
      "text/plain": [
       "24.383333333333333"
      ]
     },
     "execution_count": 29,
     "metadata": {},
     "output_type": "execute_result"
    }
   ],
   "source": [
    "1463/60"
   ]
  },
  {
   "cell_type": "code",
   "execution_count": null,
   "metadata": {},
   "outputs": [],
   "source": [
    "nwbfile_in.stimulus['recorded_mark']"
   ]
  },
  {
   "cell_type": "code",
   "execution_count": 30,
   "metadata": {},
   "outputs": [],
   "source": [
    "io1 = NWBHDF5IO('/Users/macproizzy/Desktop/R56_B13/R56_B13.nwb', 'r')\n",
    "nwbfile_in1 = io1.read()"
   ]
  },
  {
   "cell_type": "code",
   "execution_count": 31,
   "metadata": {
    "scrolled": true
   },
   "outputs": [
    {
     "data": {
      "text/plain": [
       "root pynwb.file.NWBFile at 0x140587758073216\n",
       "Fields:\n",
       "  acquisition: {\n",
       "    Raw <class 'pynwb.ecephys.LFP'>\n",
       "  }\n",
       "  devices: {\n",
       "    ECoG <class 'pynwb.device.Device'>,\n",
       "    Poly <class 'pynwb.device.Device'>\n",
       "  }\n",
       "  electrode_groups: {\n",
       "    ECoG <class 'pynwb.ecephys.ElectrodeGroup'>,\n",
       "    Poly <class 'pynwb.ecephys.ElectrodeGroup'>\n",
       "  }\n",
       "  electrodes: electrodes <class 'hdmf.common.table.DynamicTable'>\n",
       "  experiment_description: wn2 Stimulus Experiment\n",
       "  experimenter: ['Max Dougherty']\n",
       "  file_create_date: [datetime.datetime(2020, 12, 1, 12, 54, 12, 164816, tzinfo=tzoffset(None, -28800))]\n",
       "  identifier: R56_B13\n",
       "  institution: Lawrence Berkeley National Laboratory\n",
       "  intervals: {\n",
       "    trials <class 'pynwb.epoch.TimeIntervals'>\n",
       "  }\n",
       "  lab: Bouchard Lab\n",
       "  notes: TODO\n",
       "  pharmacology: TODO\n",
       "  processing: {\n",
       "    ECoG <class 'pynwb.base.ProcessingModule'>,\n",
       "    Hilb_54bands <class 'pynwb.base.ProcessingModule'>,\n",
       "    tMUA <class 'pynwb.base.ProcessingModule'>,\n",
       "    tMUA_rate <class 'pynwb.base.ProcessingModule'>\n",
       "  }\n",
       "  session_description: foo\n",
       "  session_id: R56_B13\n",
       "  session_start_time: 2020-12-01 12:54:12.164813-08:00\n",
       "  stimulus: {\n",
       "    recorded_mark <class 'pynwb.base.TimeSeries'>,\n",
       "    recorded_stim <class 'pynwb.base.TimeSeries'>\n",
       "  }\n",
       "  surgery: Acute Craniotomy\n",
       "  timestamps_reference_time: 2020-12-01 12:54:12.164813-08:00\n",
       "  trials: trials <class 'pynwb.epoch.TimeIntervals'>"
      ]
     },
     "execution_count": 31,
     "metadata": {},
     "output_type": "execute_result"
    }
   ],
   "source": [
    "nwbfile_in1"
   ]
  },
  {
   "cell_type": "code",
   "execution_count": 38,
   "metadata": {},
   "outputs": [
    {
     "data": {
      "text/plain": [
       "{'ECoG': ECoG pynwb.misc.DecompositionSeries at 0x140587755856320\n",
       " Fields:\n",
       "   bands: bands <class 'hdmf.common.table.DynamicTable'>\n",
       "   comments: no comments\n",
       "   conversion: 1.0\n",
       "   data: <HDF5 dataset \"data\": shape (29367, 128, 54), type \"<f4\">\n",
       "   description: processed data\n",
       "   metric: amplitude\n",
       "   rate: 400.0\n",
       "   resolution: 0.0\n",
       "   source_timeseries: ECoG pynwb.ecephys.ElectricalSeries at 0x140587754326960\n",
       " Fields:\n",
       "   comments: no comments\n",
       "   conversion: 1.0\n",
       "   data: <HDF5 dataset \"data\": shape (448099, 128), type \"<f4\">\n",
       "   description: no description\n",
       "   electrodes: electrodes <class 'hdmf.common.table.DynamicTableRegion'>\n",
       "   rate: 6103.515625\n",
       "   resolution: 0.0\n",
       "   starting_time: 0.0\n",
       "   starting_time_unit: seconds\n",
       "   unit: volts\n",
       " \n",
       "   starting_time: 0.0\n",
       "   starting_time_unit: seconds\n",
       "   unit: no unit}"
      ]
     },
     "execution_count": 38,
     "metadata": {},
     "output_type": "execute_result"
    }
   ],
   "source": [
    "nwbfile_in1.processing['Hilb_54bands'].data_interfaces"
   ]
  },
  {
   "cell_type": "code",
   "execution_count": 32,
   "metadata": {
    "scrolled": true
   },
   "outputs": [
    {
     "data": {
      "text/plain": [
       "Raw pynwb.ecephys.LFP at 0x140587758259264\n",
       "Fields:\n",
       "  electrical_series: {\n",
       "    ECoG <class 'pynwb.ecephys.ElectricalSeries'>,\n",
       "    Poly <class 'pynwb.ecephys.ElectricalSeries'>\n",
       "  }"
      ]
     },
     "execution_count": 32,
     "metadata": {},
     "output_type": "execute_result"
    }
   ],
   "source": [
    "nwbfile_in1.acquisition['Raw']"
   ]
  },
  {
   "cell_type": "code",
   "execution_count": 34,
   "metadata": {},
   "outputs": [
    {
     "data": {
      "text/plain": [
       "<HDF5 dataset \"data\": shape (1792394, 64), type \"<f4\">"
      ]
     },
     "execution_count": 34,
     "metadata": {},
     "output_type": "execute_result"
    }
   ],
   "source": [
    "nwbfile_in1.acquisition['Raw']['Poly'].data"
   ]
  },
  {
   "cell_type": "code",
   "execution_count": null,
   "metadata": {},
   "outputs": [],
   "source": [
    "nwbfile_in1.processing['tMUA_rate'].data_interfaces['ECoG']"
   ]
  }
 ],
 "metadata": {
  "kernelspec": {
   "display_name": "Python 3",
   "language": "python",
   "name": "python3"
  },
  "language_info": {
   "codemirror_mode": {
    "name": "ipython",
    "version": 3
   },
   "file_extension": ".py",
   "mimetype": "text/x-python",
   "name": "python",
   "nbconvert_exporter": "python",
   "pygments_lexer": "ipython3",
   "version": "3.8.3"
  }
 },
 "nbformat": 4,
 "nbformat_minor": 4
}
