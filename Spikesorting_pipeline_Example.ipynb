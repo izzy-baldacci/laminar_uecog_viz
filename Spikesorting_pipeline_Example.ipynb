{
 "cells": [
  {
   "cell_type": "markdown",
   "metadata": {},
   "source": [
    "# Spike Sorting Pipeline"
   ]
  },
  {
   "cell_type": "markdown",
   "metadata": {},
   "source": [
    "This notebook walks through the steps to perform spikesorting on NWB data from the auditory experiments. "
   ]
  },
  {
   "cell_type": "code",
   "execution_count": 1,
   "metadata": {},
   "outputs": [],
   "source": [
    "#imports\n",
    "import spikeinterface\n",
    "import spikeinterface.extractors as se\n",
    "import spikeinterface.toolkit as st\n",
    "import spikeinterface.sorters as ss\n",
    "import spikeinterface.comparison as sc\n",
    "import spikeinterface.widgets as sw \n",
    "\n",
    "#other imports\n",
    "import matplotlib.pylab as plt\n",
    "import numpy as np\n",
    "import pynwb as py\n",
    "import pandas as pd\n",
    "import warnings\n",
    "\n",
    "%matplotlib inline\n",
    "warnings.simplefilter('ignore')"
   ]
  },
  {
   "cell_type": "code",
   "execution_count": 7,
   "metadata": {},
   "outputs": [],
   "source": [
    "#REPLACE this with your file path to the nwb file in question\n",
    "file_path = '/Users/macproizzy/Desktop/RVG16/RVG16_B06.nwb'\n",
    "probe_file = '/Users/macproizzy/Desktop/electrodes_infoRVG163.csv'"
   ]
  },
  {
   "cell_type": "markdown",
   "metadata": {},
   "source": [
    "\n",
    "If you want to look at the NWB data to make sure it is what you expect, you can use the cells below to do so. Otherwise, skip these cells. "
   ]
  },
  {
   "cell_type": "code",
   "execution_count": 8,
   "metadata": {},
   "outputs": [],
   "source": [
    "from pynwb import NWBFile, NWBHDF5IO, TimeSeries\n",
    "import datetime"
   ]
  },
  {
   "cell_type": "code",
   "execution_count": 9,
   "metadata": {
    "scrolled": true
   },
   "outputs": [
    {
     "data": {
      "text/plain": [
       "root pynwb.file.NWBFile at 0x140643551517760\n",
       "Fields:\n",
       "  acquisition: {\n",
       "    ECoG <class 'pynwb.ecephys.ElectricalSeries'>,\n",
       "    Poly <class 'pynwb.ecephys.ElectricalSeries'>\n",
       "  }\n",
       "  devices: {\n",
       "    ECoG <class 'pynwb.device.Device'>,\n",
       "    Poly <class 'pynwb.device.Device'>\n",
       "  }\n",
       "  electrode_groups: {\n",
       "    ECoG <class 'pynwb.ecephys.ElectrodeGroup'>,\n",
       "    Poly <class 'pynwb.ecephys.ElectrodeGroup'>\n",
       "  }\n",
       "  electrodes: electrodes <class 'hdmf.common.table.DynamicTable'>\n",
       "  experiment_description: This is an acute rat experiment. Auditory stimuli are played to an anesthsized rat and electrophysiological measurements are made auditory cortex\n",
       "  experimenter: ['Vanessa Gutierrez']\n",
       "  file_create_date: [datetime.datetime(2021, 7, 30, 23, 8, 5, 82293, tzinfo=tzoffset(None, -25200))]\n",
       "  identifier: ab66bd86-f1c5-11eb-bff2-ac1f6b76b038\n",
       "  institution: Lawrence Berkeley National Lab\n",
       "  intervals: {\n",
       "    trials <class 'pynwb.epoch.TimeIntervals'>\n",
       "  }\n",
       "  lab: Bouchard Lab\n",
       "  notes: All channels responded except obvious bad channels, really good poly spikes\n",
       "  pharmacology: Anesthesized with Ketamine (90 mg/kg induction and 55 mg/kg maintence) and Xyzaline (10 mg/kg induction and 5 mg/kg maintence)\n",
       "  session_description: Full tone\n",
       "  session_id: RVG16_B06\n",
       "  session_start_time: 2021-05-25 12:47:19.999999-07:00\n",
       "  source_script: Created by nsds-lab-to-nwb 0.0.1.dev0 (https://github.com/BouchardLab/nsds_lab_to_nwb) (git@7a890be)\n",
       "  stimulus: {\n",
       "    raw_stimulus <class 'pynwb.base.TimeSeries'>,\n",
       "    recorded_mark <class 'pynwb.base.TimeSeries'>\n",
       "  }\n",
       "  subject: subject pynwb.file.Subject at 0x140643463995888\n",
       "Fields:\n",
       "  description: Charles River\n",
       "  genotype: Wild type\n",
       "  sex: M\n",
       "  species: Sprague Dawley\n",
       "  subject_id: RVG16\n",
       "  weight: 466g\n",
       "\n",
       "  surgery: Right temporal lobe craniotomy w/ durotomy\n",
       "  timestamps_reference_time: 2021-05-25 12:47:19.999999-07:00\n",
       "  trials: trials <class 'pynwb.epoch.TimeIntervals'>"
      ]
     },
     "execution_count": 9,
     "metadata": {},
     "output_type": "execute_result"
    }
   ],
   "source": [
    "#check the NWB, this is a tone stimulus experiment \n",
    "io = NWBHDF5IO(file_path, 'r')\n",
    "nwbfile_in = io.read()\n",
    "nwbfile_in"
   ]
  },
  {
   "cell_type": "code",
   "execution_count": 10,
   "metadata": {},
   "outputs": [],
   "source": [
    "io.close()"
   ]
  },
  {
   "cell_type": "markdown",
   "metadata": {},
   "source": [
    "## Creating the Recording Extractor \n",
    "\n",
    "The following cells create the recording extractor, load the electrode geometry, and bandpass filter the data between 300 and 6000 Hz. There are a couple visualization cells as well for you to look at the data to make sure nothing weird is going on so far. \n",
    "\n",
    "After you are satisfied with the electrode geometry and an initial view of the data, the recording is cached for future use. "
   ]
  },
  {
   "cell_type": "code",
   "execution_count": 11,
   "metadata": {},
   "outputs": [],
   "source": [
    "#making recording extractor object, filtering\n",
    "recording = se.NwbRecordingExtractor(file_path, \"Poly\")"
   ]
  },
  {
   "cell_type": "code",
   "execution_count": 25,
   "metadata": {},
   "outputs": [],
   "source": [
    "#loading probe info \n",
    "recording_complete = recording.load_probe_file(probe_file = probe_file)"
   ]
  },
  {
   "cell_type": "code",
   "execution_count": 26,
   "metadata": {
    "scrolled": true
   },
   "outputs": [
    {
     "data": {
      "text/plain": [
       "<spikewidgets.widgets.electrodegeometrywidget.electrodegeometrywidget.ElectrodeGeometryWidget at 0x7fea23e0d970>"
      ]
     },
     "execution_count": 26,
     "metadata": {},
     "output_type": "execute_result"
    },
    {
     "data": {
      "image/png": "[encoded data removed]",
      "text/plain": [
       "<Figure size 432x288 with 1 Axes>"
      ]
     },
     "metadata": {},
     "output_type": "display_data"
    }
   ],
   "source": [
    "#make sure the geometry is what you expect\n",
    "sw.plot_electrode_geometry(recording_complete)"
   ]
  },
  {
   "cell_type": "code",
   "execution_count": 27,
   "metadata": {},
   "outputs": [],
   "source": [
    "# bandpass filter the recording\n",
    "recording_flt = st.preprocessing.bandpass_filter(recording_complete, freq_min=300, freq_max=6000)"
   ]
  },
  {
   "cell_type": "code",
   "execution_count": 29,
   "metadata": {
    "scrolled": true
   },
   "outputs": [
    {
     "data": {
      "text/plain": [
       "<spikewidgets.widgets.timeserieswidget.timeserieswidget.TimeseriesWidget at 0x7fea0561fca0>"
      ]
     },
     "execution_count": 29,
     "metadata": {},
     "output_type": "execute_result"
    },
    {
     "data": {
      "image/png": "[encoded data removed]",
      "text/plain": [
       "<Figure size 432x288 with 1 Axes>"
      ]
     },
     "metadata": {
      "needs_background": "light"
     },
     "output_type": "display_data"
    }
   ],
   "source": [
    "# look at a couple visualizations to make sure nothing weird is happening so far\n",
    "# change the channel ids/trange if the ones filled in are not what you are looking for \n",
    "sw.plot_timeseries(recording_flt, channel_ids = [128, 129, 130, 131, 132, 133, 140, 141], trange = [18.9, 19.2])"
   ]
  },
  {
   "cell_type": "code",
   "execution_count": null,
   "metadata": {},
   "outputs": [],
   "source": [
    "# fill in the path to save your recording \n",
    "save_path = '/Users/macproizzy/Desktop/ssRVG16/RVG16_B06.dat'\n",
    "pickle_file = '/Users/macproizzy/Desktop/ssRVG16/RVG16_B06.pkl'"
   ]
  },
  {
   "cell_type": "code",
   "execution_count": 31,
   "metadata": {},
   "outputs": [],
   "source": [
    "# cache recording\n",
    "recording_cache = se.CacheRecordingExtractor(recording_flt, save_path = save_path)\n",
    "recording_cache.dump_to_pickle(pickle_file)\n",
    "# use recording_loaded_B10= se.load_extractor_from_pickle('R94_B10.pkl') in next session"
   ]
  },
  {
   "cell_type": "markdown",
   "metadata": {},
   "source": [
    "*Note that in the next session/in a different notebook, you will be able to use se.load_extractor_from_pickle(pickle_file) to access the recording extractor as it is now*"
   ]
  },
  {
   "cell_type": "markdown",
   "metadata": {},
   "source": [
    "## Sorting and Storing Results"
   ]
  },
  {
   "cell_type": "markdown",
   "metadata": {},
   "source": [
    "The following cells check which sorters are installed, run the spike sorter, and cache the results. "
   ]
  },
  {
   "cell_type": "code",
   "execution_count": 4,
   "metadata": {},
   "outputs": [
    {
     "data": {
      "text/plain": [
       "['mountainsort4', 'spykingcircus']"
      ]
     },
     "execution_count": 4,
     "metadata": {},
     "output_type": "execute_result"
    }
   ],
   "source": [
    "# check which sorters you have installed, more often than not I use mountainsort4\n",
    "ss.installed_sorters()"
   ]
  },
  {
   "cell_type": "code",
   "execution_count": 32,
   "metadata": {},
   "outputs": [
    {
     "name": "stdout",
     "output_type": "stream",
     "text": [
      "Using 8 workers.\n",
      "Using tmpdir: /tmp/tmpsjrowh18\n",
      "Num. workers = 8\n",
      "Preparing /tmp/tmpsjrowh18/timeseries.hdf5...\n",
      "'end_frame' set to 35729408\n",
      "Preparing neighborhood sorters (M=64, N=35729408)...\n",
      "Preparing output...\n",
      "Done with ms4alg.\n",
      "Cleaning tmpdir::::: /tmp/tmpsjrowh18\n",
      "mountainsort4 run time 2748.45s\n"
     ]
    }
   ],
   "source": [
    "# run the sorter\n",
    "# NOTE: some of the kwargs may be different for some\n",
    "sorting = ss.run_mountainsort4(recording_flt, filter = False, verbose = True, \n",
    "                                  num_workers = 8, grouping_property = 'group',\n",
    "                                  output_folder= '/Users/macproizzy/Desktop/ssRVG16/mountainsort_Sept2')"
   ]
  },
  {
   "cell_type": "code",
   "execution_count": 33,
   "metadata": {
    "scrolled": true
   },
   "outputs": [
    {
     "name": "stdout",
     "output_type": "stream",
     "text": [
      "The sorter found 140 units\n"
     ]
    }
   ],
   "source": [
    "# Just to get a sense of how many units were found\n",
    "print('The sorter found', len(sorting.get_unit_ids()), 'units')"
   ]
  },
  {
   "cell_type": "code",
   "execution_count": null,
   "metadata": {},
   "outputs": [],
   "source": [
    "# Define your file paths\n",
    "sorting_save_path = '/Users/macproizzy/Desktop/ssRVG16/sorting_B06.dat'\n",
    "sorting_pickle = '/Users/macproizzy/Desktop/ssRVG16/sorting_B06.pkl'"
   ]
  },
  {
   "cell_type": "code",
   "execution_count": 34,
   "metadata": {},
   "outputs": [],
   "source": [
    "# cache sorting \n",
    "sorting_cache = se.CacheSortingExtractor(sorting, save_path= sorting_save_path)\n",
    "sorting_cache.dump_to_pickle(sorting_pickle)\n",
    "\n",
    "# use sorting_loaded_B5= se.load_extractor_from_pickle('sorting_B510.pkl') in the next session or in a \n",
    "# different notebook"
   ]
  },
  {
   "cell_type": "code",
   "execution_count": 8,
   "metadata": {
    "scrolled": true
   },
   "outputs": [
    {
     "name": "stdout",
     "output_type": "stream",
     "text": [
      "Converting to Phy format\n",
      "Number of chunks: 19 - Number of jobs: 1\n"
     ]
    },
    {
     "name": "stderr",
     "output_type": "stream",
     "text": [
      "Extracting waveforms in chunks: 100%|##########| 19/19 [16:22<00:00, 51.70s/it]\n"
     ]
    },
    {
     "name": "stdout",
     "output_type": "stream",
     "text": [
      "Fitting PCA of 3 dimensions on 503576 waveforms\n",
      "Projecting waveforms on PC\n",
      "Saving files\n",
      "Saved phy format to:  /Users/macproizzy/Desktop/ssRVG16/phy_Sept8\n",
      "Run:\n",
      "\n",
      "phy template-gui  /Users/macproizzy/Desktop/ssRVG16/phy_Sept8/params.py\n"
     ]
    }
   ],
   "source": [
    "# export to phy for visualization \n",
    "st.postprocessing.export_to_phy(recording_loaded, \n",
    "                                sorting_spykingcircus, output_folder='phy_Sept8', verbose=True)"
   ]
  },
  {
   "cell_type": "code",
   "execution_count": null,
   "metadata": {},
   "outputs": [],
   "source": []
  }
 ],
 "metadata": {
  "kernelspec": {
   "display_name": "Python 3",
   "language": "python",
   "name": "python3"
  },
  "language_info": {
   "codemirror_mode": {
    "name": "ipython",
    "version": 3
   },
   "file_extension": ".py",
   "mimetype": "text/x-python",
   "name": "python",
   "nbconvert_exporter": "python",
   "pygments_lexer": "ipython3",
   "version": "3.8.5"
  }
 },
 "nbformat": 4,
 "nbformat_minor": 4
}
